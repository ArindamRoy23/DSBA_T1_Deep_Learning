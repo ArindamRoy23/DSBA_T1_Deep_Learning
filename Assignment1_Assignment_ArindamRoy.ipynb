{
 "cells": [
  {
   "cell_type": "markdown",
   "metadata": {
    "id": "HzT-fZzFRKly"
   },
   "source": [
    "## FDL- DSBA Assignment 2022-2023\n",
    "\n",
    "### Please fill the blanks in the code and answer to the questions that are asked in the Jupyter Notebook (\"Markdown\" cell). \n",
    "\n",
    "### Instructions: Rename the jupyter adding your name at the end of the title FDL_Assignment-<YOUR NAME\\>.ipynb\n",
    "\n",
    "### Send your solution to fdl.dsba@gmail.com by X / X / X, as subject for the mail please put FDL_Assignment-<YOUR NAME\\>"
   ]
  },
  {
   "cell_type": "markdown",
   "metadata": {
    "id": "zPUOV6dFRKl7"
   },
   "source": [
    "## Question 1 -  TRAIN ON CIFAR DATASET\n",
    "In this exercise you are asked to train a Convolutional Neural Network (CNN) on the CIFAR10 dataset and visualize its feature maps."
   ]
  },
  {
   "cell_type": "markdown",
   "metadata": {
    "id": "lCX0xLejRKl9"
   },
   "source": [
    "### 1a) Download the CIFAR10 dataset using the already provided PyTorch dataloaders. \n",
    "*   Read and understand the following code\n",
    "*   Feel free to add additional transformations of data. Explain if so. "
   ]
  },
  {
   "cell_type": "code",
   "execution_count": null,
   "metadata": {
    "colab": {
     "base_uri": "https://localhost:8080/"
    },
    "id": "vE9IrZzdQ5KF",
    "outputId": "57c998eb-2651-4a1f-9c9b-9e5ebc498b2b"
   },
   "outputs": [
    {
     "name": "stdout",
     "output_type": "stream",
     "text": [
      "Looking in indexes: https://pypi.org/simple, https://us-python.pkg.dev/colab-wheels/public/simple/\n",
      "Requirement already satisfied: torch in /usr/local/lib/python3.8/dist-packages (1.13.1+cu116)\n",
      "Requirement already satisfied: typing-extensions in /usr/local/lib/python3.8/dist-packages (from torch) (4.4.0)\n"
     ]
    }
   ],
   "source": [
    "!pip install torch"
   ]
  },
  {
   "cell_type": "code",
   "execution_count": null,
   "metadata": {
    "colab": {
     "base_uri": "https://localhost:8080/"
    },
    "id": "V-KwbqfQQ5KG",
    "outputId": "005655f4-94c2-49e1-dc56-eae99fa6ea3b"
   },
   "outputs": [
    {
     "name": "stdout",
     "output_type": "stream",
     "text": [
      "Looking in indexes: https://pypi.org/simple, https://us-python.pkg.dev/colab-wheels/public/simple/\n",
      "Requirement already satisfied: torchvision in /usr/local/lib/python3.8/dist-packages (0.14.1+cu116)\n",
      "Requirement already satisfied: numpy in /usr/local/lib/python3.8/dist-packages (from torchvision) (1.21.6)\n",
      "Requirement already satisfied: typing-extensions in /usr/local/lib/python3.8/dist-packages (from torchvision) (4.4.0)\n",
      "Requirement already satisfied: torch==1.13.1 in /usr/local/lib/python3.8/dist-packages (from torchvision) (1.13.1+cu116)\n",
      "Requirement already satisfied: requests in /usr/local/lib/python3.8/dist-packages (from torchvision) (2.25.1)\n",
      "Requirement already satisfied: pillow!=8.3.*,>=5.3.0 in /usr/local/lib/python3.8/dist-packages (from torchvision) (7.1.2)\n",
      "Requirement already satisfied: certifi>=2017.4.17 in /usr/local/lib/python3.8/dist-packages (from requests->torchvision) (2022.12.7)\n",
      "Requirement already satisfied: urllib3<1.27,>=1.21.1 in /usr/local/lib/python3.8/dist-packages (from requests->torchvision) (1.26.14)\n",
      "Requirement already satisfied: idna<3,>=2.5 in /usr/local/lib/python3.8/dist-packages (from requests->torchvision) (2.10)\n",
      "Requirement already satisfied: chardet<5,>=3.0.2 in /usr/local/lib/python3.8/dist-packages (from requests->torchvision) (4.0.0)\n"
     ]
    }
   ],
   "source": [
    "!pip install torchvision\n",
    "from tqdm import tqdm\n",
    "import torch.nn.functional as F"
   ]
  },
  {
   "cell_type": "code",
   "execution_count": null,
   "metadata": {
    "colab": {
     "base_uri": "https://localhost:8080/"
    },
    "id": "sXPbw0GAJBwZ",
    "outputId": "712d5529-a4e7-4baf-8962-0bb112aadd09"
   },
   "outputs": [
    {
     "name": "stdout",
     "output_type": "stream",
     "text": [
      "Drive already mounted at /content/drive; to attempt to forcibly remount, call drive.mount(\"/content/drive\", force_remount=True).\n"
     ]
    }
   ],
   "source": [
    "import numpy as np\n",
    "import pandas as pd\n",
    "from google.colab import drive\n",
    "\n",
    "drive = drive.mount('/content/drive')"
   ]
  },
  {
   "cell_type": "code",
   "execution_count": null,
   "metadata": {
    "colab": {
     "base_uri": "https://localhost:8080/",
     "height": 53
    },
    "id": "hQuaoK10T8VW",
    "outputId": "5891964f-b4dd-47c0-cd3e-330103f89ea7"
   },
   "outputs": [
    {
     "data": {
      "text/plain": [
       "<Figure size 1200x600 with 0 Axes>"
      ]
     },
     "execution_count": 5,
     "metadata": {},
     "output_type": "execute_result"
    },
    {
     "data": {
      "text/plain": [
       "<Figure size 1200x600 with 0 Axes>"
      ]
     },
     "metadata": {},
     "output_type": "display_data"
    }
   ],
   "source": [
    "import json \n",
    "from pprint import pprint\n",
    "import torch\n",
    "import torchvision\n",
    "import torchvision.transforms as transforms\n",
    "import matplotlib.pyplot as plt\n",
    "from matplotlib.pyplot import figure\n",
    "figure(figsize=(12, 6), dpi=100)"
   ]
  },
  {
   "cell_type": "code",
   "execution_count": null,
   "metadata": {
    "colab": {
     "base_uri": "https://localhost:8080/"
    },
    "id": "5KyVunArRKl-",
    "outputId": "28655abd-a24e-4cd1-8c4f-f6aa1f27b915"
   },
   "outputs": [
    {
     "name": "stdout",
     "output_type": "stream",
     "text": [
      "==> Preparing data..\n",
      "Files already downloaded and verified\n",
      "Files already downloaded and verified\n"
     ]
    }
   ],
   "source": [
    "\n",
    "# *****START CODE \n",
    "##Here you are free to add further transform functions if you wish\n",
    "print('==> Preparing data..')\n",
    "transform_train = transforms.Compose(\n",
    "    [transforms.ToTensor(),\n",
    "     transforms.Normalize((0.49139968, 0.48215827 ,0.44653124), (0.24703233, 0.24348505, 0.26158768))])\n",
    "\n",
    "transform_test = transforms.Compose(\n",
    "    [transforms.ToTensor(),\n",
    "     transforms.Normalize((0.49139968, 0.48215827 ,0.44653124), (0.24703233, 0.24348505, 0.26158768))])\n",
    "\n",
    "batch_size=64\n",
    "trainset = torchvision.datasets.CIFAR10(root='./data', train=True, download=True, transform=transform_train)\n",
    "train_dataloader = torch.utils.data.DataLoader(trainset, batch_size=batch_size , shuffle=True)\n",
    "\n",
    "testset = torchvision.datasets.CIFAR10(root='./data', train=False, download=True, transform=transform_test)\n",
    "val_dataloader = torch.utils.data.DataLoader(testset, batch_size= batch_size, shuffle=False)\n",
    "# *****END CODE\n",
    "\n",
    "classes = ('plane', 'car', 'bird', 'cat', 'deer', 'dog', 'frog', 'horse', 'ship', 'truck')"
   ]
  },
  {
   "cell_type": "code",
   "execution_count": null,
   "metadata": {
    "colab": {
     "base_uri": "https://localhost:8080/"
    },
    "id": "uOS1CVng8mvf",
    "outputId": "05da8f3e-6912-4e15-b57a-35010b324b01"
   },
   "outputs": [
    {
     "name": "stdout",
     "output_type": "stream",
     "text": [
      "Using device: cuda\n"
     ]
    }
   ],
   "source": [
    "device = 'cuda' if torch.cuda.is_available() else 'cpu'\n",
    "print('Using device:', device)"
   ]
  },
  {
   "cell_type": "markdown",
   "metadata": {
    "id": "3S-ITJo9RKmA"
   },
   "source": [
    "### 1b) Create your convolutional neural network.\n",
    "*   Go to https://dljudge.io/generate + /<YOUR NAME\\> or use curl below\n",
    "*   Save the page as json \n",
    "*   Build your CNN architecture based on those modules and hyperparameters\n",
    "*   Use the right value for 'COMPUTE' \n",
    "*   See the example below"
   ]
  },
  {
   "cell_type": "code",
   "execution_count": null,
   "metadata": {
    "id": "gnmWWieDVm-g"
   },
   "outputs": [],
   "source": [
    "# !curl https://dljudge.io/generate/ArindamRoy -o network1.json"
   ]
  },
  {
   "cell_type": "code",
   "execution_count": null,
   "metadata": {
    "id": "1UFBgOQHehG7"
   },
   "outputs": [],
   "source": [
    "import matplotlib.pyplot as plt\n",
    "\n",
    "def accuracy(preds, labels):\n",
    "    return (labels==preds.cpu()).sum()/len(labels) # Argmax of logits is the argmax of the predictions (the softmax of the logits)\n",
    "\n",
    "\n",
    "def precision(cm):\n",
    "    return [round(col[i]/col.sum(),4) for i, col in enumerate(cm.T)]\n",
    "\n",
    "\n",
    "def recall(cm):\n",
    "    return [round(row[i]/row.sum(),4) for i, row in enumerate(cm)]\n",
    "    \n",
    "def save_graph(train_loss, val_loss, nb_epochs, save_folder):\n",
    "    plt.plot(list(range(nb_epochs+1))[1:], train_loss)\n",
    "    plt.plot(list(range(nb_epochs+1))[1:], val_loss)\n",
    "    plt.legend(['train', 'val'])\n",
    "    plt.xlabel('Epochs')\n",
    "    plt.ylabel('Loss')\n",
    "    plt.savefig('{}/chart.png'.format(save_folder))\n",
    "\n",
    "def write_results(save_folder, epoch, train_acc, val_acc, train_loss, val_loss):\n",
    "    with open('./{}/progress.txt'.format(save_folder),'a') as ff:\n",
    "      ff.write(' E: ')\n",
    "      ff.write(str(epoch))\n",
    "      ff.write('         ')\n",
    "      ff.write(' TRAIN_OA: ')\n",
    "      ff.write(str('%.3f' % train_acc))\n",
    "      ff.write(' VAL_OA: ')\n",
    "      ff.write(str('%.3f' % val_acc))\n",
    "      ff.write('         ')\n",
    "      ff.write(' TRAIN_LOSS: ')\n",
    "      ff.write(str('%.3f' % train_loss))\n",
    "      ff.write(' VAL_LOSS: ')\n",
    "      ff.write(str('%.3f' % val_loss))\n",
    "      ff.write('\\n')"
   ]
  },
  {
   "cell_type": "code",
   "execution_count": null,
   "metadata": {
    "id": "fut0mqaSVm-g"
   },
   "outputs": [],
   "source": [
    "def validate_network(model, input_dict):\n",
    "    \"\"\"\n",
    "    Validate if your network definition is same as provided archtiecture\n",
    "    \"\"\"\n",
    "    output = {}\n",
    "    i = 1\n",
    "    for layer in model.children():\n",
    "        if isinstance(layer, nn.Conv2d):\n",
    "            output[f'Layer_{str(i).zfill(3)}'] = {'type': 'Conv2d',\n",
    "                                                  'kernel_size': layer.kernel_size[0],\n",
    "                                                   'input': layer.in_channels,\n",
    "                                                   'output': layer.out_channels,\n",
    "                                                   'padding': layer.padding[0]}\n",
    "\n",
    "        if isinstance(layer, nn.ReLU):\n",
    "            output[f'Layer_{str(i).zfill(3)}'] = {'type': 'ReLU'}\n",
    "\n",
    "        if isinstance(layer, nn.MaxPool2d):\n",
    "            output[f'Layer_{str(i).zfill(3)}'] = {'type': 'MaxPool2d',\n",
    "                                                  'kernel_size': layer.kernel_size,\n",
    "                                                  'stride': layer.stride}\n",
    "\n",
    "        if isinstance(layer, nn.AdaptiveAvgPool2d):\n",
    "            output[f'Layer_{str(i).zfill(3)}'] = {'type': 'AdaptiveAvgPool2d',\n",
    "                                                  'output': layer.output_size}\n",
    "\n",
    "        if isinstance(layer, nn.BatchNorm2d):\n",
    "            output[f'Layer_{str(i).zfill(3)}'] = {'type': 'BatchNorm2d',\n",
    "                                                  'input': layer.num_features}\n",
    "\n",
    "        if isinstance(layer, nn.Dropout):\n",
    "            output[f'Layer_{str(i).zfill(3)}'] = {'type': 'Dropout',\n",
    "                                                  'p': layer.p}\n",
    "\n",
    "        if isinstance(layer, nn.Linear):\n",
    "            output[f'Layer_{str(i).zfill(3)}'] = {'type': 'Linear',\n",
    "                                                  'input': layer.in_features,\n",
    "                                                  'output': layer.out_features}\n",
    "\n",
    "        i += 1\n",
    "\n",
    "    \n",
    "    correct = True\n",
    "    for l in output.keys():\n",
    "        if l in input_dict:\n",
    "            inp_kvs = input_dict[l]\n",
    "            out_kvs = output[l]\n",
    "            for k in out_kvs:\n",
    "                if inp_kvs[k] != 'COMPUTE':\n",
    "                    if out_kvs[k] != inp_kvs[k]:\n",
    "                        print (f'Error in {l}, {k}!')\n",
    "                        correct = False\n",
    "\n",
    "    if correct:\n",
    "        print ('OK!')"
   ]
  },
  {
   "cell_type": "code",
   "execution_count": null,
   "metadata": {
    "colab": {
     "base_uri": "https://localhost:8080/"
    },
    "id": "hiihuvTRVm-h",
    "outputId": "55c05708-e399-45c0-e046-9d64d3f4e525"
   },
   "outputs": [
    {
     "name": "stdout",
     "output_type": "stream",
     "text": [
      "{'Layer_001': {'input': 3,\n",
      "               'kernel_size': 3,\n",
      "               'output': 60,\n",
      "               'padding': 1,\n",
      "               'type': 'Conv2d'},\n",
      " 'Layer_002': {'type': 'ReLU'},\n",
      " 'Layer_003': {'input': 60,\n",
      "               'kernel_size': 3,\n",
      "               'output': 60,\n",
      "               'padding': 1,\n",
      "               'type': 'Conv2d'},\n",
      " 'Layer_004': {'type': 'ReLU'},\n",
      " 'Layer_005': {'kernel_size': 2, 'stride': 2, 'type': 'MaxPool2d'},\n",
      " 'Layer_006': {'input': 60,\n",
      "               'kernel_size': 3,\n",
      "               'output': 134,\n",
      "               'padding': 1,\n",
      "               'type': 'Conv2d'},\n",
      " 'Layer_007': {'type': 'ReLU'},\n",
      " 'Layer_008': {'input': 134,\n",
      "               'kernel_size': 3,\n",
      "               'output': 134,\n",
      "               'padding': 1,\n",
      "               'type': 'Conv2d'},\n",
      " 'Layer_009': {'type': 'ReLU'},\n",
      " 'Layer_010': {'kernel_size': 2, 'stride': 2, 'type': 'MaxPool2d'},\n",
      " 'Layer_011': {'input': 134,\n",
      "               'kernel_size': 3,\n",
      "               'output': 259,\n",
      "               'padding': 1,\n",
      "               'type': 'Conv2d'},\n",
      " 'Layer_012': {'type': 'ReLU'},\n",
      " 'Layer_013': {'input': 259,\n",
      "               'kernel_size': 3,\n",
      "               'output': 259,\n",
      "               'padding': 1,\n",
      "               'type': 'Conv2d'},\n",
      " 'Layer_014': {'type': 'ReLU'},\n",
      " 'Layer_015': {'input': 259,\n",
      "               'kernel_size': 3,\n",
      "               'output': 259,\n",
      "               'padding': 1,\n",
      "               'type': 'Conv2d'},\n",
      " 'Layer_016': {'type': 'ReLU'},\n",
      " 'Layer_017': {'kernel_size': 2, 'stride': 2, 'type': 'MaxPool2d'},\n",
      " 'Layer_018': {'input': 259,\n",
      "               'kernel_size': 3,\n",
      "               'output': 500,\n",
      "               'padding': 1,\n",
      "               'type': 'Conv2d'},\n",
      " 'Layer_019': {'type': 'ReLU'},\n",
      " 'Layer_020': {'input': 500,\n",
      "               'kernel_size': 3,\n",
      "               'output': 500,\n",
      "               'padding': 1,\n",
      "               'type': 'Conv2d'},\n",
      " 'Layer_021': {'type': 'ReLU'},\n",
      " 'Layer_022': {'input': 500,\n",
      "               'kernel_size': 3,\n",
      "               'output': 500,\n",
      "               'padding': 1,\n",
      "               'type': 'Conv2d'},\n",
      " 'Layer_023': {'type': 'ReLU'},\n",
      " 'Layer_024': {'kernel_size': 2, 'stride': 2, 'type': 'MaxPool2d'},\n",
      " 'Layer_025': {'input': 500,\n",
      "               'kernel_size': 3,\n",
      "               'output': 500,\n",
      "               'padding': 1,\n",
      "               'type': 'Conv2d'},\n",
      " 'Layer_026': {'type': 'ReLU'},\n",
      " 'Layer_027': {'input': 500,\n",
      "               'kernel_size': 3,\n",
      "               'output': 500,\n",
      "               'padding': 1,\n",
      "               'type': 'Conv2d'},\n",
      " 'Layer_028': {'type': 'ReLU'},\n",
      " 'Layer_029': {'input': 500,\n",
      "               'kernel_size': 3,\n",
      "               'output': 500,\n",
      "               'padding': 1,\n",
      "               'type': 'Conv2d'},\n",
      " 'Layer_030': {'type': 'ReLU'},\n",
      " 'Layer_031': {'kernel_size': 2, 'stride': 2, 'type': 'MaxPool2d'},\n",
      " 'Layer_032': {'output': 'COMPUTE', 'type': 'AdaptiveAvgPool2d'},\n",
      " 'Layer_033': {'p': 0.4841825499261502, 'type': 'Dropout'},\n",
      " 'Layer_034': {'input': 'COMPUTE', 'output': 2409, 'type': 'Linear'},\n",
      " 'Layer_035': {'type': 'ReLU'},\n",
      " 'Layer_036': {'input': 2409, 'output': 'COMPUTE', 'type': 'Linear'},\n",
      " 'StudentName': 'arindamroy',\n",
      " 'UUID': '7c23f13af9e64022bf56b3915cfdcb1f'}\n"
     ]
    }
   ],
   "source": [
    "# *****START CODE \n",
    "# Import your individual architecture dictionnary here\n",
    "fin = open('/content/nn_arindam_roy.json', 'r')\n",
    "my_architecture_dict = json.load(fin)\n",
    "fin.close()\n",
    "pprint(my_architecture_dict)\n",
    "# *****END CODE"
   ]
  },
  {
   "cell_type": "code",
   "execution_count": null,
   "metadata": {
    "id": "9hb1skoXRKmA"
   },
   "outputs": [],
   "source": [
    "import torch\n",
    "import torch.nn as nn\n",
    "import torch.nn.functional as F\n",
    "\n",
    "# *****START CODE\n",
    "class ConvNet(nn.Module):\n",
    "    def __init__(self):\n",
    "        super(ConvNet, self).__init__()\n",
    "        \"\"\"\n",
    "        Number of layers should be exactly same as in the provided JSON. \n",
    "        Do not use any grouping function like Sequential \n",
    "        \"\"\"\n",
    "        self.l1conv = nn.Conv2d(in_channels=3, \n",
    "                            out_channels=60,\n",
    "                            padding=1,\n",
    "                            kernel_size=3)\n",
    "        self.l2relu = nn.ReLU()\n",
    "        self.l3conv = nn.Conv2d(in_channels=60, \n",
    "                            out_channels=60,\n",
    "                            padding=1,\n",
    "                            kernel_size=3)\n",
    "        self.l4relu = nn.ReLU()\n",
    "        self.l5maxpool = nn.MaxPool2d(kernel_size = 2, stride=2)\n",
    "        self.l6conv = nn.Conv2d(in_channels=60, \n",
    "                            out_channels=134,\n",
    "                            padding=1,\n",
    "                            kernel_size=3)\n",
    "        self.l7relu = nn.ReLU()\n",
    "        self.l8conv = nn.Conv2d(in_channels=134, \n",
    "                            out_channels=134,\n",
    "                            padding=1,\n",
    "                            kernel_size=3)   \n",
    "        self.l9relu = nn.ReLU()\n",
    "        self.l10maxpool = nn.MaxPool2d(kernel_size = 2, stride=2)     \n",
    "        self.l11conv = nn.Conv2d(in_channels=134, \n",
    "                            out_channels=259,\n",
    "                            padding=1,\n",
    "                            kernel_size=3) \n",
    "        self.l12relu = nn.ReLU()\n",
    "        self.l13conv = nn.Conv2d(in_channels=259, \n",
    "                            out_channels=259,\n",
    "                            padding=1,\n",
    "                            kernel_size=3) \n",
    "        self.l14relu = nn.ReLU()\n",
    "        self.l15conv = nn.Conv2d(in_channels=259, \n",
    "                            out_channels=259,\n",
    "                            padding=1,\n",
    "                            kernel_size=3) \n",
    "        self.l16relu = nn.ReLU()\n",
    "        self.l17maxpool = nn.MaxPool2d(kernel_size = 2, stride=2)       \n",
    "        self.l18conv = nn.Conv2d(in_channels=259, \n",
    "                            out_channels=500,\n",
    "                            padding=1,\n",
    "                            kernel_size=3)   \n",
    "        self.l19relu = nn.ReLU()\n",
    "         \n",
    "        self.l20conv = nn.Conv2d(in_channels=500, \n",
    "                            out_channels=500,\n",
    "                            padding=1,\n",
    "                            kernel_size=3)   \n",
    "        self.l21relu = nn.ReLU()\n",
    "        \n",
    "        self.l22conv = nn.Conv2d(in_channels=500, \n",
    "                            out_channels=500,\n",
    "                            padding=1,\n",
    "                            kernel_size=3)   \n",
    "        self.l23relu = nn.ReLU()\n",
    "        self.l24maxpool = nn.MaxPool2d(kernel_size = 2, stride=2) \n",
    "        self.l25conv = nn.Conv2d(in_channels=500, \n",
    "                            out_channels=500,\n",
    "                            padding=1,\n",
    "                            kernel_size=3)  \n",
    "        self.l26relu = nn.ReLU()\n",
    "        self.l27conv = nn.Conv2d(in_channels=500, \n",
    "                            out_channels=500,\n",
    "                            padding=1,\n",
    "                            kernel_size=3)   \n",
    "        self.l28relu = nn.ReLU()\n",
    "\n",
    "        self.l29conv = nn.Conv2d(in_channels=500, \n",
    "                            out_channels=500,\n",
    "                            padding=1,\n",
    "                            kernel_size=3)   \n",
    "        self.l30relu = nn.ReLU()\n",
    "        self.l31max_pool2d = nn.MaxPool2d(kernel_size = 2, stride=2)\n",
    "        self.l32adaptive_avg_pool2d = nn.AvgPool2d((1,1))\n",
    "        self.l33dropout = nn.Dropout(p = 0.4841825499261502)\n",
    "        self.l34linear = nn.Linear(500*1*1,2409)\n",
    "        self.l35relu = nn.ReLU()\n",
    "        self.l36linear = nn.Linear(2409,10)\n",
    "    def forward(self, x):\n",
    "        # l1\n",
    "        x = self.l1conv(x)\n",
    "        # l2\n",
    "        x = self.l2relu(x)\n",
    "        # l3\n",
    "        x = self.l3conv(x)\n",
    "        # l4\n",
    "        x = self.l4relu(x)\n",
    "        # l5\n",
    "        x = self.l5maxpool(x)\n",
    "        # l6 \n",
    "        x = self.l6conv(x)\n",
    "        # l7\n",
    "        x = self.l7relu(x)\n",
    "        # l8\n",
    "        x = self.l8conv(x)\n",
    "        # l9\n",
    "        x = self.l9relu(x)\n",
    "        # l10\n",
    "        x = self.l10maxpool(x)\n",
    "        # l11\n",
    "        x = self.l11conv(x)\n",
    "        # l12\n",
    "        x = self.l12relu(x)\n",
    "        # l13\n",
    "        x = self.l13conv(x)\n",
    "        # l14\n",
    "        x = self.l14relu(x)\n",
    "        # l15\n",
    "        x = self.l15conv(x)\n",
    "        # l16\n",
    "        x = self.l16relu(x)\n",
    "        # l17\n",
    "        x = self.l17maxpool(x)\n",
    "        # l18\n",
    "        x = self.l18conv(x)\n",
    "        # l19\n",
    "        x = self.l19relu(x)\n",
    "        # l20\n",
    "        x = self.l20conv(x)\n",
    "        # l21\n",
    "        x = self.l21relu(x)\n",
    "        # l22\n",
    "        x = self.l22conv(x)\n",
    "        # l23\n",
    "        x = self.l23relu(x)\n",
    "        # l24\n",
    "        x = self.l24maxpool(x)\n",
    "        # l25\n",
    "        x = self.l25conv(x)\n",
    "        # l26\n",
    "        x = self.l26relu(x)\n",
    "        # l27\n",
    "        x = self.l27conv(x)\n",
    "        # l28\n",
    "        x = self.l28relu(x)\n",
    "        # l29\n",
    "        x = self.l29conv(x)\n",
    "        # l30\n",
    "        x = self.l30relu(x)\n",
    "        # l31\n",
    "        x = self.l31max_pool2d(x)\n",
    "        # l32\n",
    "        x = self.l32adaptive_avg_pool2d(x)\n",
    "        # l33\n",
    "        x = self.l33dropout(x)\n",
    "        x = x.reshape(x.size(0), -1)\n",
    "        # l34\n",
    "        x = self.l34linear(x)\n",
    "        # l35\n",
    "        x = self.l35relu(x)\n",
    "        # l36\n",
    "        x = self.l36linear(x)\n",
    "        return x\n",
    "# *****END CODE"
   ]
  },
  {
   "cell_type": "markdown",
   "metadata": {
    "id": "1oCW4FGORKmC"
   },
   "source": [
    "### 1c) Create the training scheme\n",
    "*    Initialize the model\n",
    "*    Validate the model\n",
    "*    Specify the training hyperparameters like type of optimizer, criterion and learning rate\n",
    "*    Specify number of epochs\n",
    "*    Connect the model and any further informations to WandB\n",
    "\n",
    "Then train the model, doing one evaluation pass per epoch (make sure to log any interesting metric to WandB during training)."
   ]
  },
  {
   "cell_type": "code",
   "execution_count": null,
   "metadata": {
    "colab": {
     "base_uri": "https://localhost:8080/"
    },
    "id": "Ukej7CIVK0zP",
    "outputId": "3187ea81-0f4a-467d-e325-8ae7243c5b01"
   },
   "outputs": [
    {
     "name": "stdout",
     "output_type": "stream",
     "text": [
      "Looking in indexes: https://pypi.org/simple, https://us-python.pkg.dev/colab-wheels/public/simple/\n",
      "Requirement already satisfied: torchnet in /usr/local/lib/python3.8/dist-packages (0.0.4)\n",
      "Requirement already satisfied: visdom in /usr/local/lib/python3.8/dist-packages (from torchnet) (0.2.3)\n",
      "Requirement already satisfied: six in /usr/local/lib/python3.8/dist-packages (from torchnet) (1.15.0)\n",
      "Requirement already satisfied: torch in /usr/local/lib/python3.8/dist-packages (from torchnet) (1.13.1+cu116)\n",
      "Requirement already satisfied: typing-extensions in /usr/local/lib/python3.8/dist-packages (from torch->torchnet) (4.4.0)\n",
      "Requirement already satisfied: networkx in /usr/local/lib/python3.8/dist-packages (from visdom->torchnet) (3.0)\n",
      "Requirement already satisfied: pillow in /usr/local/lib/python3.8/dist-packages (from visdom->torchnet) (7.1.2)\n",
      "Requirement already satisfied: numpy>=1.8 in /usr/local/lib/python3.8/dist-packages (from visdom->torchnet) (1.21.6)\n",
      "Requirement already satisfied: tornado in /usr/local/lib/python3.8/dist-packages (from visdom->torchnet) (6.0.4)\n",
      "Requirement already satisfied: jsonpatch in /usr/local/lib/python3.8/dist-packages (from visdom->torchnet) (1.32)\n",
      "Requirement already satisfied: websocket-client in /usr/local/lib/python3.8/dist-packages (from visdom->torchnet) (1.4.2)\n",
      "Requirement already satisfied: scipy in /usr/local/lib/python3.8/dist-packages (from visdom->torchnet) (1.7.3)\n",
      "Requirement already satisfied: requests in /usr/local/lib/python3.8/dist-packages (from visdom->torchnet) (2.25.1)\n",
      "Requirement already satisfied: jsonpointer>=1.9 in /usr/local/lib/python3.8/dist-packages (from jsonpatch->visdom->torchnet) (2.3)\n",
      "Requirement already satisfied: certifi>=2017.4.17 in /usr/local/lib/python3.8/dist-packages (from requests->visdom->torchnet) (2022.12.7)\n",
      "Requirement already satisfied: urllib3<1.27,>=1.21.1 in /usr/local/lib/python3.8/dist-packages (from requests->visdom->torchnet) (1.26.14)\n",
      "Requirement already satisfied: chardet<5,>=3.0.2 in /usr/local/lib/python3.8/dist-packages (from requests->visdom->torchnet) (4.0.0)\n",
      "Requirement already satisfied: idna<3,>=2.5 in /usr/local/lib/python3.8/dist-packages (from requests->visdom->torchnet) (2.10)\n"
     ]
    }
   ],
   "source": [
    "!pip install torchnet\n",
    "import torchnet as tnt\n",
    "confusion_matrix = tnt.meter.ConfusionMeter(10)"
   ]
  },
  {
   "cell_type": "code",
   "execution_count": null,
   "metadata": {
    "id": "_ZkNY0KGv6ZD"
   },
   "outputs": [],
   "source": [
    "save_folder = 'drive/MyDrive/FDL'"
   ]
  },
  {
   "cell_type": "code",
   "execution_count": null,
   "metadata": {
    "colab": {
     "base_uri": "https://localhost:8080/"
    },
    "id": "emDRadjhRKmD",
    "outputId": "c18988c3-95bf-4b51-ccdd-5e8822fa73a3"
   },
   "outputs": [
    {
     "name": "stdout",
     "output_type": "stream",
     "text": [
      "OK!\n"
     ]
    }
   ],
   "source": [
    "\n",
    "import torch.optim as optim\n",
    "model = ConvNet().to(device)\n",
    "validate_network(model, my_architecture_dict)\n",
    "lr = 0.001\n",
    "optimizer = optim.Adam(model.parameters(), lr=lr)\n",
    "criterion = nn.CrossEntropyLoss().to(device)\n",
    "epochs = 20\n"
   ]
  },
  {
   "cell_type": "code",
   "execution_count": null,
   "metadata": {
    "colab": {
     "base_uri": "https://localhost:8080/",
     "height": 1000
    },
    "id": "7rysykRTM-3_",
    "outputId": "68faf7f2-0be1-4d66-8b94-85c40a65acfc"
   },
   "outputs": [
    {
     "name": "stdout",
     "output_type": "stream",
     "text": [
      "EPOCH NUMBER: 1\n"
     ]
    },
    {
     "name": "stderr",
     "output_type": "stream",
     "text": [
      "\r",
      "  0%|          | 0/782 [00:00<?, ?it/s]"
     ]
    },
    {
     "name": "stdout",
     "output_type": "stream",
     "text": [
      "Train (epoch 1/20) [0/782 (0%)]\tLoss: 2.304618\n"
     ]
    },
    {
     "name": "stderr",
     "output_type": "stream",
     "text": [
      " 13%|█▎        | 104/782 [00:06<00:45, 14.88it/s]"
     ]
    },
    {
     "name": "stdout",
     "output_type": "stream",
     "text": [
      "Train (epoch 1/20) [100/782 (13%)]\tLoss: 2.299997\n"
     ]
    },
    {
     "name": "stderr",
     "output_type": "stream",
     "text": [
      " 26%|██▌       | 204/782 [00:13<00:39, 14.75it/s]"
     ]
    },
    {
     "name": "stdout",
     "output_type": "stream",
     "text": [
      "Train (epoch 1/20) [200/782 (26%)]\tLoss: 2.041445\n"
     ]
    },
    {
     "name": "stderr",
     "output_type": "stream",
     "text": [
      " 39%|███▊      | 302/782 [00:22<00:51,  9.30it/s]"
     ]
    },
    {
     "name": "stdout",
     "output_type": "stream",
     "text": [
      "Train (epoch 1/20) [300/782 (38%)]\tLoss: 1.900366\n"
     ]
    },
    {
     "name": "stderr",
     "output_type": "stream",
     "text": [
      " 51%|█████▏    | 402/782 [00:32<00:39,  9.74it/s]"
     ]
    },
    {
     "name": "stdout",
     "output_type": "stream",
     "text": [
      "Train (epoch 1/20) [400/782 (51%)]\tLoss: 1.971838\n"
     ]
    },
    {
     "name": "stderr",
     "output_type": "stream",
     "text": [
      " 64%|██████▍   | 503/782 [00:40<00:22, 12.33it/s]"
     ]
    },
    {
     "name": "stdout",
     "output_type": "stream",
     "text": [
      "Train (epoch 1/20) [500/782 (64%)]\tLoss: 1.774313\n"
     ]
    },
    {
     "name": "stderr",
     "output_type": "stream",
     "text": [
      " 77%|███████▋  | 603/782 [00:46<00:09, 18.79it/s]"
     ]
    },
    {
     "name": "stdout",
     "output_type": "stream",
     "text": [
      "Train (epoch 1/20) [600/782 (77%)]\tLoss: 1.681178\n"
     ]
    },
    {
     "name": "stderr",
     "output_type": "stream",
     "text": [
      " 90%|████████▉ | 703/782 [00:51<00:04, 18.62it/s]"
     ]
    },
    {
     "name": "stdout",
     "output_type": "stream",
     "text": [
      "Train (epoch 1/20) [700/782 (90%)]\tLoss: 1.948785\n"
     ]
    },
    {
     "name": "stderr",
     "output_type": "stream",
     "text": [
      "100%|██████████| 782/782 [00:56<00:00, 13.94it/s]\n",
      "100%|██████████| 157/157 [00:05<00:00, 26.60it/s]\n"
     ]
    },
    {
     "name": "stdout",
     "output_type": "stream",
     "text": [
      "Confusion Matrix:\n",
      "[[  0   0  10  21   0  39   0  33 651 246]\n",
      " [  0   0  21  27   0  31   0   9 675 237]\n",
      " [  0   0  25  57   0 634   0  71  53 160]\n",
      " [  0   0  23  64   0 672   0 105  32 104]\n",
      " [  0   0  15  39   0 759   0  79  21  87]\n",
      " [  0   0  15  57   0 771   0  66  24  67]\n",
      " [  0   0  12  33   0 815   0  84   6  50]\n",
      " [  0   0  13  47   0 455   0 352  21 112]\n",
      " [  0   0   7  16   0  15   0  11 782 169]\n",
      " [  0   0  10  37   0  67   0  66 440 380]]\n",
      "TRAIN_LOSS:  2.011 TRAIN_ACC:  19.024\n",
      "VAL_LOSS:  1.855 VAL_ACC:  23.740\n",
      "EPOCH NUMBER: 2\n"
     ]
    },
    {
     "name": "stderr",
     "output_type": "stream",
     "text": [
      "  0%|          | 1/782 [00:00<01:42,  7.60it/s]"
     ]
    },
    {
     "name": "stdout",
     "output_type": "stream",
     "text": [
      "Train (epoch 2/20) [0/782 (0%)]\tLoss: 1.672780\n"
     ]
    },
    {
     "name": "stderr",
     "output_type": "stream",
     "text": [
      " 13%|█▎        | 104/782 [00:07<00:42, 16.02it/s]"
     ]
    },
    {
     "name": "stdout",
     "output_type": "stream",
     "text": [
      "Train (epoch 2/20) [100/782 (13%)]\tLoss: 1.923815\n"
     ]
    },
    {
     "name": "stderr",
     "output_type": "stream",
     "text": [
      " 26%|██▌       | 204/782 [00:12<00:31, 18.57it/s]"
     ]
    },
    {
     "name": "stdout",
     "output_type": "stream",
     "text": [
      "Train (epoch 2/20) [200/782 (26%)]\tLoss: 1.781167\n"
     ]
    },
    {
     "name": "stderr",
     "output_type": "stream",
     "text": [
      " 39%|███▉      | 304/782 [00:17<00:24, 19.21it/s]"
     ]
    },
    {
     "name": "stdout",
     "output_type": "stream",
     "text": [
      "Train (epoch 2/20) [300/782 (38%)]\tLoss: 1.658403\n"
     ]
    },
    {
     "name": "stderr",
     "output_type": "stream",
     "text": [
      " 52%|█████▏    | 404/782 [00:23<00:19, 19.16it/s]"
     ]
    },
    {
     "name": "stdout",
     "output_type": "stream",
     "text": [
      "Train (epoch 2/20) [400/782 (51%)]\tLoss: 1.600472\n"
     ]
    },
    {
     "name": "stderr",
     "output_type": "stream",
     "text": [
      " 64%|██████▍   | 504/782 [00:28<00:14, 19.07it/s]"
     ]
    },
    {
     "name": "stdout",
     "output_type": "stream",
     "text": [
      "Train (epoch 2/20) [500/782 (64%)]\tLoss: 1.744190\n"
     ]
    },
    {
     "name": "stderr",
     "output_type": "stream",
     "text": [
      " 77%|███████▋  | 604/782 [00:33<00:09, 18.72it/s]"
     ]
    },
    {
     "name": "stdout",
     "output_type": "stream",
     "text": [
      "Train (epoch 2/20) [600/782 (77%)]\tLoss: 1.743581\n"
     ]
    },
    {
     "name": "stderr",
     "output_type": "stream",
     "text": [
      " 90%|█████████ | 704/782 [00:38<00:04, 19.06it/s]"
     ]
    },
    {
     "name": "stdout",
     "output_type": "stream",
     "text": [
      "Train (epoch 2/20) [700/782 (90%)]\tLoss: 1.776532\n"
     ]
    },
    {
     "name": "stderr",
     "output_type": "stream",
     "text": [
      "100%|██████████| 782/782 [00:42<00:00, 18.19it/s]\n",
      "100%|██████████| 157/157 [00:04<00:00, 37.51it/s]\n"
     ]
    },
    {
     "name": "stdout",
     "output_type": "stream",
     "text": [
      "Confusion Matrix:\n",
      "[[611  24  37  16   6  19   4  68  75 140]\n",
      " [ 15 638   9  17   2  14   7   7  17 274]\n",
      " [ 90   1  50  24 166 211 217 194   2  45]\n",
      " [ 16   9  35  54  41 491 147 144   0  63]\n",
      " [ 36   2  16  10 219  90 282 328   1  16]\n",
      " [  9   3  34  31  59 632  65 130   0  37]\n",
      " [  9   1  30  19 124 143 596  59   0  19]\n",
      " [ 24   0  40  22  38 140  29 677   0  30]\n",
      " [298 120  21   8   2  27   2   8 285 229]\n",
      " [ 63 363  36  22   3  20   4  37  22 430]]\n",
      "TRAIN_LOSS:  1.729 TRAIN_ACC:  31.958\n",
      "VAL_LOSS:  1.529 VAL_ACC:  41.920\n",
      "EPOCH NUMBER: 3\n"
     ]
    },
    {
     "name": "stderr",
     "output_type": "stream",
     "text": [
      "  1%|          | 4/782 [00:00<00:46, 16.61it/s]"
     ]
    },
    {
     "name": "stdout",
     "output_type": "stream",
     "text": [
      "Train (epoch 3/20) [0/782 (0%)]\tLoss: 1.380403\n"
     ]
    },
    {
     "name": "stderr",
     "output_type": "stream",
     "text": [
      " 13%|█▎        | 104/782 [00:05<00:35, 19.07it/s]"
     ]
    },
    {
     "name": "stdout",
     "output_type": "stream",
     "text": [
      "Train (epoch 3/20) [100/782 (13%)]\tLoss: 1.534133\n"
     ]
    },
    {
     "name": "stderr",
     "output_type": "stream",
     "text": [
      " 26%|██▌       | 204/782 [00:10<00:31, 18.29it/s]"
     ]
    },
    {
     "name": "stdout",
     "output_type": "stream",
     "text": [
      "Train (epoch 3/20) [200/782 (26%)]\tLoss: 1.439849\n"
     ]
    },
    {
     "name": "stderr",
     "output_type": "stream",
     "text": [
      " 39%|███▉      | 304/782 [00:16<00:25, 19.10it/s]"
     ]
    },
    {
     "name": "stdout",
     "output_type": "stream",
     "text": [
      "Train (epoch 3/20) [300/782 (38%)]\tLoss: 1.566312\n"
     ]
    },
    {
     "name": "stderr",
     "output_type": "stream",
     "text": [
      " 52%|█████▏    | 404/782 [00:21<00:20, 18.84it/s]"
     ]
    },
    {
     "name": "stdout",
     "output_type": "stream",
     "text": [
      "Train (epoch 3/20) [400/782 (51%)]\tLoss: 1.509768\n"
     ]
    },
    {
     "name": "stderr",
     "output_type": "stream",
     "text": [
      " 64%|██████▍   | 504/782 [00:27<00:14, 18.89it/s]"
     ]
    },
    {
     "name": "stdout",
     "output_type": "stream",
     "text": [
      "Train (epoch 3/20) [500/782 (64%)]\tLoss: 1.014495\n"
     ]
    },
    {
     "name": "stderr",
     "output_type": "stream",
     "text": [
      " 77%|███████▋  | 604/782 [00:32<00:09, 19.25it/s]"
     ]
    },
    {
     "name": "stdout",
     "output_type": "stream",
     "text": [
      "Train (epoch 3/20) [600/782 (77%)]\tLoss: 1.274207\n"
     ]
    },
    {
     "name": "stderr",
     "output_type": "stream",
     "text": [
      " 90%|█████████ | 704/782 [00:37<00:04, 18.94it/s]"
     ]
    },
    {
     "name": "stdout",
     "output_type": "stream",
     "text": [
      "Train (epoch 3/20) [700/782 (90%)]\tLoss: 1.056046\n"
     ]
    },
    {
     "name": "stderr",
     "output_type": "stream",
     "text": [
      "100%|██████████| 782/782 [00:41<00:00, 18.63it/s]\n",
      "100%|██████████| 157/157 [00:04<00:00, 37.12it/s]\n"
     ]
    },
    {
     "name": "stdout",
     "output_type": "stream",
     "text": [
      "Confusion Matrix:\n",
      "[[606   6  70  13   6   0  12  15 210  62]\n",
      " [  7 672   0   5   1   0   6   1  49 259]\n",
      " [116   1 214 152 270  14 143  44   8  38]\n",
      " [ 34   2 152 372  58  78 186  29   7  82]\n",
      " [ 38   0 115  65 463   3 142 151   5  18]\n",
      " [ 20   0 112 386  68 249  80  40   6  39]\n",
      " [ 13   0  42  64 125   1 705   4   2  44]\n",
      " [ 14   0 114  92  80  29  23 617   5  26]\n",
      " [137  28  15  13   0   0   5   2 729  71]\n",
      " [ 28 311  17  17   6   0   5   6  48 562]]\n",
      "TRAIN_LOSS:  1.408 TRAIN_ACC:  46.254\n",
      "VAL_LOSS:  1.272 VAL_ACC:  51.890\n",
      "EPOCH NUMBER: 4\n"
     ]
    },
    {
     "name": "stderr",
     "output_type": "stream",
     "text": [
      "  1%|          | 4/782 [00:00<00:48, 16.01it/s]"
     ]
    },
    {
     "name": "stdout",
     "output_type": "stream",
     "text": [
      "Train (epoch 4/20) [0/782 (0%)]\tLoss: 1.244130\n"
     ]
    },
    {
     "name": "stderr",
     "output_type": "stream",
     "text": [
      " 13%|█▎        | 104/782 [00:05<00:35, 18.94it/s]"
     ]
    },
    {
     "name": "stdout",
     "output_type": "stream",
     "text": [
      "Train (epoch 4/20) [100/782 (13%)]\tLoss: 1.229965\n"
     ]
    },
    {
     "name": "stderr",
     "output_type": "stream",
     "text": [
      " 26%|██▌       | 204/782 [00:10<00:30, 18.73it/s]"
     ]
    },
    {
     "name": "stdout",
     "output_type": "stream",
     "text": [
      "Train (epoch 4/20) [200/782 (26%)]\tLoss: 1.294352\n"
     ]
    },
    {
     "name": "stderr",
     "output_type": "stream",
     "text": [
      " 39%|███▉      | 304/782 [00:16<00:24, 19.33it/s]"
     ]
    },
    {
     "name": "stdout",
     "output_type": "stream",
     "text": [
      "Train (epoch 4/20) [300/782 (38%)]\tLoss: 1.195179\n"
     ]
    },
    {
     "name": "stderr",
     "output_type": "stream",
     "text": [
      " 52%|█████▏    | 404/782 [00:21<00:20, 18.66it/s]"
     ]
    },
    {
     "name": "stdout",
     "output_type": "stream",
     "text": [
      "Train (epoch 4/20) [400/782 (51%)]\tLoss: 1.424443\n"
     ]
    },
    {
     "name": "stderr",
     "output_type": "stream",
     "text": [
      " 64%|██████▍   | 504/782 [00:26<00:14, 19.14it/s]"
     ]
    },
    {
     "name": "stdout",
     "output_type": "stream",
     "text": [
      "Train (epoch 4/20) [500/782 (64%)]\tLoss: 1.088897\n"
     ]
    },
    {
     "name": "stderr",
     "output_type": "stream",
     "text": [
      " 77%|███████▋  | 604/782 [00:32<00:09, 18.98it/s]"
     ]
    },
    {
     "name": "stdout",
     "output_type": "stream",
     "text": [
      "Train (epoch 4/20) [600/782 (77%)]\tLoss: 1.126106\n"
     ]
    },
    {
     "name": "stderr",
     "output_type": "stream",
     "text": [
      " 90%|█████████ | 704/782 [00:37<00:04, 18.89it/s]"
     ]
    },
    {
     "name": "stdout",
     "output_type": "stream",
     "text": [
      "Train (epoch 4/20) [700/782 (90%)]\tLoss: 1.094893\n"
     ]
    },
    {
     "name": "stderr",
     "output_type": "stream",
     "text": [
      "100%|██████████| 782/782 [00:42<00:00, 18.49it/s]\n",
      "100%|██████████| 157/157 [00:07<00:00, 21.52it/s]\n"
     ]
    },
    {
     "name": "stdout",
     "output_type": "stream",
     "text": [
      "Confusion Matrix:\n",
      "[[723   2  61  16   5   3   5  19 134  32]\n",
      " [ 25 712   5  12   1   2   5   3  55 180]\n",
      " [117   0 359 117 218  36  91  42   8  12]\n",
      " [ 35   0 131 368  71 250  73  39   4  29]\n",
      " [ 36   0 131  72 517  12  75 150   2   5]\n",
      " [ 16   0  74 270  61 506  19  44   5   5]\n",
      " [ 17   1  51  87  89  10 731   7   1   6]\n",
      " [ 22   0  62  79  62  79   2 684   4   6]\n",
      " [148  20  30  13   0   1   4   3 764  17]\n",
      " [ 51 102  13  21   2   1   4  16  45 745]]\n",
      "TRAIN_LOSS:  1.194 TRAIN_ACC:  56.304\n",
      "VAL_LOSS:  1.079 VAL_ACC:  61.090\n",
      "EPOCH NUMBER: 5\n"
     ]
    },
    {
     "name": "stderr",
     "output_type": "stream",
     "text": [
      "  0%|          | 1/782 [00:00<01:43,  7.55it/s]"
     ]
    },
    {
     "name": "stdout",
     "output_type": "stream",
     "text": [
      "Train (epoch 5/20) [0/782 (0%)]\tLoss: 1.074353\n"
     ]
    },
    {
     "name": "stderr",
     "output_type": "stream",
     "text": [
      " 13%|█▎        | 103/782 [00:05<00:36, 18.62it/s]"
     ]
    },
    {
     "name": "stdout",
     "output_type": "stream",
     "text": [
      "Train (epoch 5/20) [100/782 (13%)]\tLoss: 0.967576\n"
     ]
    },
    {
     "name": "stderr",
     "output_type": "stream",
     "text": [
      " 26%|██▌       | 203/782 [00:11<00:35, 16.33it/s]"
     ]
    },
    {
     "name": "stdout",
     "output_type": "stream",
     "text": [
      "Train (epoch 5/20) [200/782 (26%)]\tLoss: 1.146575\n"
     ]
    },
    {
     "name": "stderr",
     "output_type": "stream",
     "text": [
      " 39%|███▊      | 303/782 [00:17<00:25, 19.13it/s]"
     ]
    },
    {
     "name": "stdout",
     "output_type": "stream",
     "text": [
      "Train (epoch 5/20) [300/782 (38%)]\tLoss: 0.910015\n"
     ]
    },
    {
     "name": "stderr",
     "output_type": "stream",
     "text": [
      " 52%|█████▏    | 403/782 [00:22<00:19, 19.17it/s]"
     ]
    },
    {
     "name": "stdout",
     "output_type": "stream",
     "text": [
      "Train (epoch 5/20) [400/782 (51%)]\tLoss: 1.294348\n"
     ]
    },
    {
     "name": "stderr",
     "output_type": "stream",
     "text": [
      " 64%|██████▍   | 503/782 [00:27<00:14, 18.88it/s]"
     ]
    },
    {
     "name": "stdout",
     "output_type": "stream",
     "text": [
      "Train (epoch 5/20) [500/782 (64%)]\tLoss: 1.056669\n"
     ]
    },
    {
     "name": "stderr",
     "output_type": "stream",
     "text": [
      " 77%|███████▋  | 603/782 [00:32<00:09, 19.22it/s]"
     ]
    },
    {
     "name": "stdout",
     "output_type": "stream",
     "text": [
      "Train (epoch 5/20) [600/782 (77%)]\tLoss: 0.852456\n"
     ]
    },
    {
     "name": "stderr",
     "output_type": "stream",
     "text": [
      " 90%|████████▉ | 703/782 [00:38<00:04, 19.28it/s]"
     ]
    },
    {
     "name": "stdout",
     "output_type": "stream",
     "text": [
      "Train (epoch 5/20) [700/782 (90%)]\tLoss: 1.279006\n"
     ]
    },
    {
     "name": "stderr",
     "output_type": "stream",
     "text": [
      "100%|██████████| 782/782 [00:42<00:00, 18.49it/s]\n",
      "100%|██████████| 157/157 [00:04<00:00, 38.17it/s]\n"
     ]
    },
    {
     "name": "stdout",
     "output_type": "stream",
     "text": [
      "Confusion Matrix:\n",
      "[[786   2  91  19   9   4   6   9  60  14]\n",
      " [ 22 757  12  10   1   6   7   1  83 101]\n",
      " [ 96   0 531  49 154  61  92  10   5   2]\n",
      " [ 34   0 133 219 100 376 119   8   7   4]\n",
      " [ 27   0 160  25 652  28  82  25   1   0]\n",
      " [ 14   0  94 104  78 668  24  15   2   1]\n",
      " [ 10   0  78  36  51  14 809   1   0   1]\n",
      " [ 30   0  60  47 159 155   8 539   0   2]\n",
      " [165   8  23  16   2   9   3   0 771   3]\n",
      " [ 54  70  17  99   3   8  10   5  44 690]]\n",
      "TRAIN_LOSS:  1.036 TRAIN_ACC:  63.470\n",
      "VAL_LOSS:  1.050 VAL_ACC:  64.220\n",
      "EPOCH NUMBER: 6\n"
     ]
    },
    {
     "name": "stderr",
     "output_type": "stream",
     "text": [
      "  1%|          | 4/782 [00:00<00:45, 16.92it/s]"
     ]
    },
    {
     "name": "stdout",
     "output_type": "stream",
     "text": [
      "Train (epoch 6/20) [0/782 (0%)]\tLoss: 1.012672\n"
     ]
    },
    {
     "name": "stderr",
     "output_type": "stream",
     "text": [
      " 13%|█▎        | 104/782 [00:05<00:36, 18.77it/s]"
     ]
    },
    {
     "name": "stdout",
     "output_type": "stream",
     "text": [
      "Train (epoch 6/20) [100/782 (13%)]\tLoss: 1.173806\n"
     ]
    },
    {
     "name": "stderr",
     "output_type": "stream",
     "text": [
      " 26%|██▌       | 204/782 [00:10<00:32, 18.02it/s]"
     ]
    },
    {
     "name": "stdout",
     "output_type": "stream",
     "text": [
      "Train (epoch 6/20) [200/782 (26%)]\tLoss: 1.041186\n"
     ]
    },
    {
     "name": "stderr",
     "output_type": "stream",
     "text": [
      " 39%|███▉      | 304/782 [00:16<00:24, 19.23it/s]"
     ]
    },
    {
     "name": "stdout",
     "output_type": "stream",
     "text": [
      "Train (epoch 6/20) [300/782 (38%)]\tLoss: 0.974899\n"
     ]
    },
    {
     "name": "stderr",
     "output_type": "stream",
     "text": [
      " 52%|█████▏    | 404/782 [00:21<00:19, 19.12it/s]"
     ]
    },
    {
     "name": "stdout",
     "output_type": "stream",
     "text": [
      "Train (epoch 6/20) [400/782 (51%)]\tLoss: 1.020023\n"
     ]
    },
    {
     "name": "stderr",
     "output_type": "stream",
     "text": [
      " 64%|██████▍   | 504/782 [00:26<00:14, 19.07it/s]"
     ]
    },
    {
     "name": "stdout",
     "output_type": "stream",
     "text": [
      "Train (epoch 6/20) [500/782 (64%)]\tLoss: 0.764499\n"
     ]
    },
    {
     "name": "stderr",
     "output_type": "stream",
     "text": [
      " 77%|███████▋  | 604/782 [00:31<00:09, 19.14it/s]"
     ]
    },
    {
     "name": "stdout",
     "output_type": "stream",
     "text": [
      "Train (epoch 6/20) [600/782 (77%)]\tLoss: 0.722296\n"
     ]
    },
    {
     "name": "stderr",
     "output_type": "stream",
     "text": [
      " 90%|█████████ | 704/782 [00:37<00:04, 18.83it/s]"
     ]
    },
    {
     "name": "stdout",
     "output_type": "stream",
     "text": [
      "Train (epoch 6/20) [700/782 (90%)]\tLoss: 1.081271\n"
     ]
    },
    {
     "name": "stderr",
     "output_type": "stream",
     "text": [
      "100%|██████████| 782/782 [00:41<00:00, 18.97it/s]\n",
      "100%|██████████| 157/157 [00:04<00:00, 37.85it/s]\n"
     ]
    },
    {
     "name": "stdout",
     "output_type": "stream",
     "text": [
      "Confusion Matrix:\n",
      "[[758   5  51  25  14   0   4  30  60  53]\n",
      " [  7 870   1  11   2   0   8   2  20  79]\n",
      " [100   0 466 114 144  30  98  35  10   3]\n",
      " [ 24   5  75 491  66 165 104  36   8  26]\n",
      " [ 17   3 101  50 620  22 110  70   2   5]\n",
      " [ 11   0  58 297  69 483  27  45   4   6]\n",
      " [  7   0  43  58  39   5 837   4   4   3]\n",
      " [  8   0  26  73  82  69  10 719   3  10]\n",
      " [119  46  10  21   1   1   3   3 761  35]\n",
      " [ 16  99   5  37   2   2   8  10  12 809]]\n",
      "TRAIN_LOSS:  0.921 TRAIN_ACC:  67.976\n",
      "VAL_LOSS:  0.920 VAL_ACC:  68.140\n",
      "EPOCH NUMBER: 7\n"
     ]
    },
    {
     "name": "stderr",
     "output_type": "stream",
     "text": [
      "  1%|          | 4/782 [00:00<00:49, 15.68it/s]"
     ]
    },
    {
     "name": "stdout",
     "output_type": "stream",
     "text": [
      "Train (epoch 7/20) [0/782 (0%)]\tLoss: 0.878942\n"
     ]
    },
    {
     "name": "stderr",
     "output_type": "stream",
     "text": [
      " 13%|█▎        | 104/782 [00:05<00:35, 18.96it/s]"
     ]
    },
    {
     "name": "stdout",
     "output_type": "stream",
     "text": [
      "Train (epoch 7/20) [100/782 (13%)]\tLoss: 0.761139\n"
     ]
    },
    {
     "name": "stderr",
     "output_type": "stream",
     "text": [
      " 26%|██▌       | 204/782 [00:10<00:32, 18.01it/s]"
     ]
    },
    {
     "name": "stdout",
     "output_type": "stream",
     "text": [
      "Train (epoch 7/20) [200/782 (26%)]\tLoss: 0.956347\n"
     ]
    },
    {
     "name": "stderr",
     "output_type": "stream",
     "text": [
      " 39%|███▉      | 304/782 [00:16<00:24, 19.31it/s]"
     ]
    },
    {
     "name": "stdout",
     "output_type": "stream",
     "text": [
      "Train (epoch 7/20) [300/782 (38%)]\tLoss: 0.941142\n"
     ]
    },
    {
     "name": "stderr",
     "output_type": "stream",
     "text": [
      " 52%|█████▏    | 404/782 [00:21<00:19, 19.09it/s]"
     ]
    },
    {
     "name": "stdout",
     "output_type": "stream",
     "text": [
      "Train (epoch 7/20) [400/782 (51%)]\tLoss: 0.770145\n"
     ]
    },
    {
     "name": "stderr",
     "output_type": "stream",
     "text": [
      " 64%|██████▍   | 504/782 [00:26<00:14, 18.95it/s]"
     ]
    },
    {
     "name": "stdout",
     "output_type": "stream",
     "text": [
      "Train (epoch 7/20) [500/782 (64%)]\tLoss: 0.725091\n"
     ]
    },
    {
     "name": "stderr",
     "output_type": "stream",
     "text": [
      " 77%|███████▋  | 604/782 [00:31<00:09, 18.92it/s]"
     ]
    },
    {
     "name": "stdout",
     "output_type": "stream",
     "text": [
      "Train (epoch 7/20) [600/782 (77%)]\tLoss: 1.263898\n"
     ]
    },
    {
     "name": "stderr",
     "output_type": "stream",
     "text": [
      " 90%|█████████ | 704/782 [00:37<00:04, 18.67it/s]"
     ]
    },
    {
     "name": "stdout",
     "output_type": "stream",
     "text": [
      "Train (epoch 7/20) [700/782 (90%)]\tLoss: 0.772457\n"
     ]
    },
    {
     "name": "stderr",
     "output_type": "stream",
     "text": [
      "100%|██████████| 782/782 [00:41<00:00, 18.91it/s]\n",
      "100%|██████████| 157/157 [00:04<00:00, 37.89it/s]\n"
     ]
    },
    {
     "name": "stdout",
     "output_type": "stream",
     "text": [
      "Confusion Matrix:\n",
      "[[742  10  50  27   6   1   5  15 105  39]\n",
      " [  3 892   0  14   1   0   3   0  22  65]\n",
      " [ 80   4 441 142 118  65  92  33  10  15]\n",
      " [ 19  10  54 571  40 178  35  47   9  37]\n",
      " [ 17   2  63 109 577  33  54 139   3   3]\n",
      " [  6   4  23 265  27 592   5  64   3  11]\n",
      " [  6   8  30 149  32   9 751   5   5   5]\n",
      " [  9   1  15  67  29  61   0 802   3  13]\n",
      " [ 53  44  15  19   2   2   4   1 837  23]\n",
      " [ 20  88   3  15   1   1   2   7  26 837]]\n",
      "TRAIN_LOSS:  0.822 TRAIN_ACC:  71.834\n",
      "VAL_LOSS:  0.872 VAL_ACC:  70.420\n",
      "EPOCH NUMBER: 8\n"
     ]
    },
    {
     "name": "stderr",
     "output_type": "stream",
     "text": [
      "  1%|          | 4/782 [00:00<00:46, 16.70it/s]"
     ]
    },
    {
     "name": "stdout",
     "output_type": "stream",
     "text": [
      "Train (epoch 8/20) [0/782 (0%)]\tLoss: 0.553066\n"
     ]
    },
    {
     "name": "stderr",
     "output_type": "stream",
     "text": [
      " 13%|█▎        | 104/782 [00:05<00:35, 19.10it/s]"
     ]
    },
    {
     "name": "stdout",
     "output_type": "stream",
     "text": [
      "Train (epoch 8/20) [100/782 (13%)]\tLoss: 1.057987\n"
     ]
    },
    {
     "name": "stderr",
     "output_type": "stream",
     "text": [
      " 26%|██▌       | 204/782 [00:10<00:32, 17.94it/s]"
     ]
    },
    {
     "name": "stdout",
     "output_type": "stream",
     "text": [
      "Train (epoch 8/20) [200/782 (26%)]\tLoss: 0.874669\n"
     ]
    },
    {
     "name": "stderr",
     "output_type": "stream",
     "text": [
      " 39%|███▉      | 304/782 [00:16<00:25, 18.90it/s]"
     ]
    },
    {
     "name": "stdout",
     "output_type": "stream",
     "text": [
      "Train (epoch 8/20) [300/782 (38%)]\tLoss: 0.794718\n"
     ]
    },
    {
     "name": "stderr",
     "output_type": "stream",
     "text": [
      " 52%|█████▏    | 404/782 [00:21<00:20, 18.84it/s]"
     ]
    },
    {
     "name": "stdout",
     "output_type": "stream",
     "text": [
      "Train (epoch 8/20) [400/782 (51%)]\tLoss: 0.590449\n"
     ]
    },
    {
     "name": "stderr",
     "output_type": "stream",
     "text": [
      " 64%|██████▍   | 504/782 [00:26<00:14, 19.14it/s]"
     ]
    },
    {
     "name": "stdout",
     "output_type": "stream",
     "text": [
      "Train (epoch 8/20) [500/782 (64%)]\tLoss: 0.708679\n"
     ]
    },
    {
     "name": "stderr",
     "output_type": "stream",
     "text": [
      " 77%|███████▋  | 604/782 [00:32<00:09, 18.95it/s]"
     ]
    },
    {
     "name": "stdout",
     "output_type": "stream",
     "text": [
      "Train (epoch 8/20) [600/782 (77%)]\tLoss: 0.697922\n"
     ]
    },
    {
     "name": "stderr",
     "output_type": "stream",
     "text": [
      " 90%|█████████ | 704/782 [00:37<00:04, 18.88it/s]"
     ]
    },
    {
     "name": "stdout",
     "output_type": "stream",
     "text": [
      "Train (epoch 8/20) [700/782 (90%)]\tLoss: 0.814889\n"
     ]
    },
    {
     "name": "stderr",
     "output_type": "stream",
     "text": [
      "100%|██████████| 782/782 [00:41<00:00, 18.83it/s]\n",
      "100%|██████████| 157/157 [00:04<00:00, 37.16it/s]\n"
     ]
    },
    {
     "name": "stdout",
     "output_type": "stream",
     "text": [
      "Confusion Matrix:\n",
      "[[844   8  24  23   2   0   1  14  62  22]\n",
      " [  6 895   0   8   1   0   1   2  23  64]\n",
      " [138   2 458 171  58  50  66  42  11   4]\n",
      " [ 39   6  42 600  15 179  42  34  17  26]\n",
      " [ 39   2 120 133 490  33  55 120   5   3]\n",
      " [ 17   1  26 251  18 614   4  58   1  10]\n",
      " [  9   2  54 137  17   9 756   4   6   6]\n",
      " [ 21   0   8  69  21  42   3 827   2   7]\n",
      " [ 91  28   3  20   0   0   2   3 840  13]\n",
      " [ 39  83   3  15   0   1   2  11  21 825]]\n",
      "TRAIN_LOSS:  0.772 TRAIN_ACC:  73.816\n",
      "VAL_LOSS:  0.843 VAL_ACC:  71.490\n",
      "EPOCH NUMBER: 9\n"
     ]
    },
    {
     "name": "stderr",
     "output_type": "stream",
     "text": [
      "  1%|          | 4/782 [00:00<00:48, 15.93it/s]"
     ]
    },
    {
     "name": "stdout",
     "output_type": "stream",
     "text": [
      "Train (epoch 9/20) [0/782 (0%)]\tLoss: 0.755677\n"
     ]
    },
    {
     "name": "stderr",
     "output_type": "stream",
     "text": [
      " 13%|█▎        | 104/782 [00:05<00:35, 18.88it/s]"
     ]
    },
    {
     "name": "stdout",
     "output_type": "stream",
     "text": [
      "Train (epoch 9/20) [100/782 (13%)]\tLoss: 0.796265\n"
     ]
    },
    {
     "name": "stderr",
     "output_type": "stream",
     "text": [
      " 26%|██▌       | 204/782 [00:11<00:37, 15.59it/s]"
     ]
    },
    {
     "name": "stdout",
     "output_type": "stream",
     "text": [
      "Train (epoch 9/20) [200/782 (26%)]\tLoss: 0.725820\n"
     ]
    },
    {
     "name": "stderr",
     "output_type": "stream",
     "text": [
      " 39%|███▉      | 304/782 [00:17<00:25, 18.72it/s]"
     ]
    },
    {
     "name": "stdout",
     "output_type": "stream",
     "text": [
      "Train (epoch 9/20) [300/782 (38%)]\tLoss: 0.627663\n"
     ]
    },
    {
     "name": "stderr",
     "output_type": "stream",
     "text": [
      " 52%|█████▏    | 404/782 [00:22<00:20, 18.73it/s]"
     ]
    },
    {
     "name": "stdout",
     "output_type": "stream",
     "text": [
      "Train (epoch 9/20) [400/782 (51%)]\tLoss: 0.506236\n"
     ]
    },
    {
     "name": "stderr",
     "output_type": "stream",
     "text": [
      " 64%|██████▍   | 504/782 [00:28<00:17, 15.78it/s]"
     ]
    },
    {
     "name": "stdout",
     "output_type": "stream",
     "text": [
      "Train (epoch 9/20) [500/782 (64%)]\tLoss: 0.760840\n"
     ]
    },
    {
     "name": "stderr",
     "output_type": "stream",
     "text": [
      " 77%|███████▋  | 604/782 [00:33<00:09, 19.14it/s]"
     ]
    },
    {
     "name": "stdout",
     "output_type": "stream",
     "text": [
      "Train (epoch 9/20) [600/782 (77%)]\tLoss: 0.667849\n"
     ]
    },
    {
     "name": "stderr",
     "output_type": "stream",
     "text": [
      " 90%|█████████ | 704/782 [00:39<00:04, 18.80it/s]"
     ]
    },
    {
     "name": "stdout",
     "output_type": "stream",
     "text": [
      "Train (epoch 9/20) [700/782 (90%)]\tLoss: 0.981302\n"
     ]
    },
    {
     "name": "stderr",
     "output_type": "stream",
     "text": [
      "100%|██████████| 782/782 [00:43<00:00, 18.11it/s]\n",
      "100%|██████████| 157/157 [00:04<00:00, 37.06it/s]\n"
     ]
    },
    {
     "name": "stdout",
     "output_type": "stream",
     "text": [
      "Confusion Matrix:\n",
      "[[723   7  81  38  24   1   7  23  57  39]\n",
      " [  6 821   1  19   1   1   6   2  24 119]\n",
      " [ 41   2 639  89  66  71  40  40   5   7]\n",
      " [  6   1  83 594  51 142  45  56   7  15]\n",
      " [  7   1  96  79 643  28  48  91   4   3]\n",
      " [  6   1  45 249  31 605   3  60   0   0]\n",
      " [  4   1  93  90  26  12 763   7   2   2]\n",
      " [ 12   1  17  48  31  38   2 845   3   3]\n",
      " [ 76  28  22  26   4   2   4   7 805  26]\n",
      " [ 10  49   3  24   2   1   6  20  19 866]]\n",
      "TRAIN_LOSS:  0.700 TRAIN_ACC:  76.504\n",
      "VAL_LOSS:  0.849 VAL_ACC:  73.040\n",
      "EPOCH NUMBER: 10\n"
     ]
    },
    {
     "name": "stderr",
     "output_type": "stream",
     "text": [
      "  1%|          | 4/782 [00:00<00:47, 16.55it/s]"
     ]
    },
    {
     "name": "stdout",
     "output_type": "stream",
     "text": [
      "Train (epoch 10/20) [0/782 (0%)]\tLoss: 0.516412\n"
     ]
    },
    {
     "name": "stderr",
     "output_type": "stream",
     "text": [
      " 13%|█▎        | 104/782 [00:05<00:35, 18.88it/s]"
     ]
    },
    {
     "name": "stdout",
     "output_type": "stream",
     "text": [
      "Train (epoch 10/20) [100/782 (13%)]\tLoss: 0.790430\n"
     ]
    },
    {
     "name": "stderr",
     "output_type": "stream",
     "text": [
      " 26%|██▌       | 204/782 [00:10<00:33, 17.30it/s]"
     ]
    },
    {
     "name": "stdout",
     "output_type": "stream",
     "text": [
      "Train (epoch 10/20) [200/782 (26%)]\tLoss: 0.539801\n"
     ]
    },
    {
     "name": "stderr",
     "output_type": "stream",
     "text": [
      " 39%|███▉      | 304/782 [00:16<00:25, 18.88it/s]"
     ]
    },
    {
     "name": "stdout",
     "output_type": "stream",
     "text": [
      "Train (epoch 10/20) [300/782 (38%)]\tLoss: 0.773017\n"
     ]
    },
    {
     "name": "stderr",
     "output_type": "stream",
     "text": [
      " 52%|█████▏    | 404/782 [00:21<00:20, 18.39it/s]"
     ]
    },
    {
     "name": "stdout",
     "output_type": "stream",
     "text": [
      "Train (epoch 10/20) [400/782 (51%)]\tLoss: 0.653984\n"
     ]
    },
    {
     "name": "stderr",
     "output_type": "stream",
     "text": [
      " 64%|██████▍   | 504/782 [00:26<00:14, 19.32it/s]"
     ]
    },
    {
     "name": "stdout",
     "output_type": "stream",
     "text": [
      "Train (epoch 10/20) [500/782 (64%)]\tLoss: 0.807422\n"
     ]
    },
    {
     "name": "stderr",
     "output_type": "stream",
     "text": [
      " 77%|███████▋  | 604/782 [00:32<00:09, 18.82it/s]"
     ]
    },
    {
     "name": "stdout",
     "output_type": "stream",
     "text": [
      "Train (epoch 10/20) [600/782 (77%)]\tLoss: 0.774796\n"
     ]
    },
    {
     "name": "stderr",
     "output_type": "stream",
     "text": [
      " 90%|█████████ | 704/782 [00:37<00:04, 19.06it/s]"
     ]
    },
    {
     "name": "stdout",
     "output_type": "stream",
     "text": [
      "Train (epoch 10/20) [700/782 (90%)]\tLoss: 0.729383\n"
     ]
    },
    {
     "name": "stderr",
     "output_type": "stream",
     "text": [
      "100%|██████████| 782/782 [00:41<00:00, 18.89it/s]\n",
      "100%|██████████| 157/157 [00:04<00:00, 37.73it/s]\n"
     ]
    },
    {
     "name": "stdout",
     "output_type": "stream",
     "text": [
      "Confusion Matrix:\n",
      "[[773   3  38  32  24   1   6  16  96  11]\n",
      " [  8 823   3  20   4   2  13   3  71  53]\n",
      " [ 80   0 551  91 126  46  74  26   5   1]\n",
      " [ 21   3  55 605  75 139  53  37   8   4]\n",
      " [ 13   0  45  73 746  17  53  48   5   0]\n",
      " [ 10   1  48 247  48 588   9  46   3   0]\n",
      " [  4   0  46  92  40   5 808   3   2   0]\n",
      " [  9   1  14  59  76  39   6 789   5   2]\n",
      " [ 56   8   9  30   7   1   4   4 873   8]\n",
      " [ 26  58   8  48   4   0  11  28  47 770]]\n",
      "TRAIN_LOSS:  0.643 TRAIN_ACC:  78.566\n",
      "VAL_LOSS:  0.834 VAL_ACC:  73.260\n",
      "EPOCH NUMBER: 11\n"
     ]
    },
    {
     "name": "stderr",
     "output_type": "stream",
     "text": [
      "  1%|          | 4/782 [00:00<00:50, 15.50it/s]"
     ]
    },
    {
     "name": "stdout",
     "output_type": "stream",
     "text": [
      "Train (epoch 11/20) [0/782 (0%)]\tLoss: 0.532310\n"
     ]
    },
    {
     "name": "stderr",
     "output_type": "stream",
     "text": [
      " 13%|█▎        | 104/782 [00:05<00:35, 19.26it/s]"
     ]
    },
    {
     "name": "stdout",
     "output_type": "stream",
     "text": [
      "Train (epoch 11/20) [100/782 (13%)]\tLoss: 0.780240\n"
     ]
    },
    {
     "name": "stderr",
     "output_type": "stream",
     "text": [
      " 26%|██▌       | 204/782 [00:10<00:31, 18.08it/s]"
     ]
    },
    {
     "name": "stdout",
     "output_type": "stream",
     "text": [
      "Train (epoch 11/20) [200/782 (26%)]\tLoss: 0.756800\n"
     ]
    },
    {
     "name": "stderr",
     "output_type": "stream",
     "text": [
      " 39%|███▉      | 304/782 [00:16<00:25, 18.71it/s]"
     ]
    },
    {
     "name": "stdout",
     "output_type": "stream",
     "text": [
      "Train (epoch 11/20) [300/782 (38%)]\tLoss: 0.510626\n"
     ]
    },
    {
     "name": "stderr",
     "output_type": "stream",
     "text": [
      " 52%|█████▏    | 404/782 [00:21<00:20, 18.82it/s]"
     ]
    },
    {
     "name": "stdout",
     "output_type": "stream",
     "text": [
      "Train (epoch 11/20) [400/782 (51%)]\tLoss: 0.544073\n"
     ]
    },
    {
     "name": "stderr",
     "output_type": "stream",
     "text": [
      " 64%|██████▍   | 504/782 [00:26<00:14, 19.12it/s]"
     ]
    },
    {
     "name": "stdout",
     "output_type": "stream",
     "text": [
      "Train (epoch 11/20) [500/782 (64%)]\tLoss: 0.643474\n"
     ]
    },
    {
     "name": "stderr",
     "output_type": "stream",
     "text": [
      " 77%|███████▋  | 604/782 [00:32<00:09, 18.74it/s]"
     ]
    },
    {
     "name": "stdout",
     "output_type": "stream",
     "text": [
      "Train (epoch 11/20) [600/782 (77%)]\tLoss: 0.460361\n"
     ]
    },
    {
     "name": "stderr",
     "output_type": "stream",
     "text": [
      " 90%|█████████ | 704/782 [00:37<00:04, 19.08it/s]"
     ]
    },
    {
     "name": "stdout",
     "output_type": "stream",
     "text": [
      "Train (epoch 11/20) [700/782 (90%)]\tLoss: 0.968574\n"
     ]
    },
    {
     "name": "stderr",
     "output_type": "stream",
     "text": [
      "100%|██████████| 782/782 [00:41<00:00, 18.85it/s]\n",
      "100%|██████████| 157/157 [00:04<00:00, 37.64it/s]\n"
     ]
    },
    {
     "name": "stdout",
     "output_type": "stream",
     "text": [
      "Confusion Matrix:\n",
      "[[800   7  43  14  16   1   5   7  84  23]\n",
      " [ 13 879   3   4   1   0  13   1  34  52]\n",
      " [ 85   0 620  54  96  32  82  20   9   2]\n",
      " [ 30   7  79 568  61  80 117  28  11  19]\n",
      " [ 25   1  81  55 690  12  49  77   9   1]\n",
      " [ 10   3  85 262  37 512  23  60   4   4]\n",
      " [  5   0  61  38  32   3 853   3   5   0]\n",
      " [ 13   1  38  30  52  37   4 808   6  11]\n",
      " [ 56   9  13  14   3   1  10   2 880  12]\n",
      " [ 25  89   2  13   2   0   5   8  29 827]]\n",
      "TRAIN_LOSS:  0.592 TRAIN_ACC:  80.362\n",
      "VAL_LOSS:  0.797 VAL_ACC:  74.370\n",
      "EPOCH NUMBER: 12\n"
     ]
    },
    {
     "name": "stderr",
     "output_type": "stream",
     "text": [
      "  1%|          | 4/782 [00:00<00:48, 16.06it/s]"
     ]
    },
    {
     "name": "stdout",
     "output_type": "stream",
     "text": [
      "Train (epoch 12/20) [0/782 (0%)]\tLoss: 0.465703\n"
     ]
    },
    {
     "name": "stderr",
     "output_type": "stream",
     "text": [
      " 13%|█▎        | 104/782 [00:05<00:35, 19.03it/s]"
     ]
    },
    {
     "name": "stdout",
     "output_type": "stream",
     "text": [
      "Train (epoch 12/20) [100/782 (13%)]\tLoss: 0.697774\n"
     ]
    },
    {
     "name": "stderr",
     "output_type": "stream",
     "text": [
      " 26%|██▌       | 204/782 [00:11<00:32, 17.99it/s]"
     ]
    },
    {
     "name": "stdout",
     "output_type": "stream",
     "text": [
      "Train (epoch 12/20) [200/782 (26%)]\tLoss: 0.741017\n"
     ]
    },
    {
     "name": "stderr",
     "output_type": "stream",
     "text": [
      " 39%|███▉      | 304/782 [00:16<00:25, 18.86it/s]"
     ]
    },
    {
     "name": "stdout",
     "output_type": "stream",
     "text": [
      "Train (epoch 12/20) [300/782 (38%)]\tLoss: 0.688569\n"
     ]
    },
    {
     "name": "stderr",
     "output_type": "stream",
     "text": [
      " 52%|█████▏    | 404/782 [00:21<00:20, 18.72it/s]"
     ]
    },
    {
     "name": "stdout",
     "output_type": "stream",
     "text": [
      "Train (epoch 12/20) [400/782 (51%)]\tLoss: 0.479215\n"
     ]
    },
    {
     "name": "stderr",
     "output_type": "stream",
     "text": [
      " 64%|██████▍   | 504/782 [00:26<00:14, 19.02it/s]"
     ]
    },
    {
     "name": "stdout",
     "output_type": "stream",
     "text": [
      "Train (epoch 12/20) [500/782 (64%)]\tLoss: 0.266369\n"
     ]
    },
    {
     "name": "stderr",
     "output_type": "stream",
     "text": [
      " 77%|███████▋  | 604/782 [00:32<00:09, 18.93it/s]"
     ]
    },
    {
     "name": "stdout",
     "output_type": "stream",
     "text": [
      "Train (epoch 12/20) [600/782 (77%)]\tLoss: 0.585665\n"
     ]
    },
    {
     "name": "stderr",
     "output_type": "stream",
     "text": [
      " 90%|█████████ | 704/782 [00:37<00:04, 18.45it/s]"
     ]
    },
    {
     "name": "stdout",
     "output_type": "stream",
     "text": [
      "Train (epoch 12/20) [700/782 (90%)]\tLoss: 0.611660\n"
     ]
    },
    {
     "name": "stderr",
     "output_type": "stream",
     "text": [
      "100%|██████████| 782/782 [00:41<00:00, 18.86it/s]\n",
      "100%|██████████| 157/157 [00:04<00:00, 37.76it/s]\n"
     ]
    },
    {
     "name": "stdout",
     "output_type": "stream",
     "text": [
      "Confusion Matrix:\n",
      "[[787   8  36   7   5   0   2  10 125  20]\n",
      " [  9 888   3   3   2   2   2   0  46  45]\n",
      " [ 77   3 679  44  65  34  56  13  24   5]\n",
      " [ 36  10 115 493  42 120  68  44  49  23]\n",
      " [ 34   1 123  64 672  17  39  28  20   2]\n",
      " [ 16   5  74 176  37 608  12  52  16   4]\n",
      " [  9   3  75  41  26   4 817   3  19   3]\n",
      " [ 23   4  33  38  84  26   4 766  13   9]\n",
      " [ 38  14   4   5   0   0   0   1 928  10]\n",
      " [ 16  83   3  10   2   0   3   5  50 828]]\n",
      "TRAIN_LOSS:  0.561 TRAIN_ACC:  81.454\n",
      "VAL_LOSS:  0.825 VAL_ACC:  74.660\n",
      "EPOCH NUMBER: 13\n"
     ]
    },
    {
     "name": "stderr",
     "output_type": "stream",
     "text": [
      "  0%|          | 3/782 [00:00<00:53, 14.69it/s]"
     ]
    },
    {
     "name": "stdout",
     "output_type": "stream",
     "text": [
      "Train (epoch 13/20) [0/782 (0%)]\tLoss: 0.646308\n"
     ]
    },
    {
     "name": "stderr",
     "output_type": "stream",
     "text": [
      " 13%|█▎        | 103/782 [00:05<00:35, 18.87it/s]"
     ]
    },
    {
     "name": "stdout",
     "output_type": "stream",
     "text": [
      "Train (epoch 13/20) [100/782 (13%)]\tLoss: 0.472081\n"
     ]
    },
    {
     "name": "stderr",
     "output_type": "stream",
     "text": [
      " 26%|██▌       | 203/782 [00:10<00:33, 17.25it/s]"
     ]
    },
    {
     "name": "stdout",
     "output_type": "stream",
     "text": [
      "Train (epoch 13/20) [200/782 (26%)]\tLoss: 0.341525\n"
     ]
    },
    {
     "name": "stderr",
     "output_type": "stream",
     "text": [
      " 39%|███▊      | 303/782 [00:16<00:25, 18.65it/s]"
     ]
    },
    {
     "name": "stdout",
     "output_type": "stream",
     "text": [
      "Train (epoch 13/20) [300/782 (38%)]\tLoss: 0.291272\n"
     ]
    },
    {
     "name": "stderr",
     "output_type": "stream",
     "text": [
      " 52%|█████▏    | 403/782 [00:21<00:19, 19.05it/s]"
     ]
    },
    {
     "name": "stdout",
     "output_type": "stream",
     "text": [
      "Train (epoch 13/20) [400/782 (51%)]\tLoss: 0.439237\n"
     ]
    },
    {
     "name": "stderr",
     "output_type": "stream",
     "text": [
      " 64%|██████▍   | 503/782 [00:27<00:17, 16.25it/s]"
     ]
    },
    {
     "name": "stdout",
     "output_type": "stream",
     "text": [
      "Train (epoch 13/20) [500/782 (64%)]\tLoss: 0.673910\n"
     ]
    },
    {
     "name": "stderr",
     "output_type": "stream",
     "text": [
      " 77%|███████▋  | 603/782 [00:33<00:09, 19.17it/s]"
     ]
    },
    {
     "name": "stdout",
     "output_type": "stream",
     "text": [
      "Train (epoch 13/20) [600/782 (77%)]\tLoss: 0.631831\n"
     ]
    },
    {
     "name": "stderr",
     "output_type": "stream",
     "text": [
      " 90%|████████▉ | 703/782 [00:38<00:04, 17.21it/s]"
     ]
    },
    {
     "name": "stdout",
     "output_type": "stream",
     "text": [
      "Train (epoch 13/20) [700/782 (90%)]\tLoss: 0.499605\n"
     ]
    },
    {
     "name": "stderr",
     "output_type": "stream",
     "text": [
      "100%|██████████| 782/782 [00:43<00:00, 18.02it/s]\n",
      "100%|██████████| 157/157 [00:04<00:00, 37.08it/s]\n"
     ]
    },
    {
     "name": "stdout",
     "output_type": "stream",
     "text": [
      "Confusion Matrix:\n",
      "[[820  10  30  32  11   1   5  14  48  29]\n",
      " [ 13 886   1   8   1   1   6   0  26  58]\n",
      " [ 96   3 591  80  54  54  68  31   9  14]\n",
      " [ 25   9  52 586  31 160  66  36  12  23]\n",
      " [ 34   3  71  95 643  19  83  42   7   3]\n",
      " [ 13   2  37 159  20 702  10  47   5   5]\n",
      " [  6   3  49  68  16   9 836   3   6   4]\n",
      " [ 19   2  18  53  41  58   7 781   2  19]\n",
      " [119  13   7  13   2   3   3   1 816  23]\n",
      " [ 27  86   3  17   1   0   7  10  16 833]]\n",
      "TRAIN_LOSS:  0.555 TRAIN_ACC:  81.818\n",
      "VAL_LOSS:  0.817 VAL_ACC:  74.940\n",
      "EPOCH NUMBER: 14\n"
     ]
    },
    {
     "name": "stderr",
     "output_type": "stream",
     "text": [
      "  1%|          | 4/782 [00:00<00:48, 15.96it/s]"
     ]
    },
    {
     "name": "stdout",
     "output_type": "stream",
     "text": [
      "Train (epoch 14/20) [0/782 (0%)]\tLoss: 0.368232\n"
     ]
    },
    {
     "name": "stderr",
     "output_type": "stream",
     "text": [
      " 13%|█▎        | 104/782 [00:05<00:36, 18.67it/s]"
     ]
    },
    {
     "name": "stdout",
     "output_type": "stream",
     "text": [
      "Train (epoch 14/20) [100/782 (13%)]\tLoss: 0.382166\n"
     ]
    },
    {
     "name": "stderr",
     "output_type": "stream",
     "text": [
      " 26%|██▌       | 204/782 [00:11<00:31, 18.10it/s]"
     ]
    },
    {
     "name": "stdout",
     "output_type": "stream",
     "text": [
      "Train (epoch 14/20) [200/782 (26%)]\tLoss: 0.505103\n"
     ]
    },
    {
     "name": "stderr",
     "output_type": "stream",
     "text": [
      " 39%|███▉      | 304/782 [00:16<00:25, 18.98it/s]"
     ]
    },
    {
     "name": "stdout",
     "output_type": "stream",
     "text": [
      "Train (epoch 14/20) [300/782 (38%)]\tLoss: 0.529599\n"
     ]
    },
    {
     "name": "stderr",
     "output_type": "stream",
     "text": [
      " 52%|█████▏    | 404/782 [00:21<00:19, 19.00it/s]"
     ]
    },
    {
     "name": "stdout",
     "output_type": "stream",
     "text": [
      "Train (epoch 14/20) [400/782 (51%)]\tLoss: 0.446089\n"
     ]
    },
    {
     "name": "stderr",
     "output_type": "stream",
     "text": [
      " 64%|██████▍   | 504/782 [00:26<00:14, 18.60it/s]"
     ]
    },
    {
     "name": "stdout",
     "output_type": "stream",
     "text": [
      "Train (epoch 14/20) [500/782 (64%)]\tLoss: 0.543271\n"
     ]
    },
    {
     "name": "stderr",
     "output_type": "stream",
     "text": [
      " 77%|███████▋  | 604/782 [00:32<00:09, 19.05it/s]"
     ]
    },
    {
     "name": "stdout",
     "output_type": "stream",
     "text": [
      "Train (epoch 14/20) [600/782 (77%)]\tLoss: 0.534744\n"
     ]
    },
    {
     "name": "stderr",
     "output_type": "stream",
     "text": [
      " 90%|█████████ | 704/782 [00:37<00:04, 18.85it/s]"
     ]
    },
    {
     "name": "stdout",
     "output_type": "stream",
     "text": [
      "Train (epoch 14/20) [700/782 (90%)]\tLoss: 0.497646\n"
     ]
    },
    {
     "name": "stderr",
     "output_type": "stream",
     "text": [
      "100%|██████████| 782/782 [00:41<00:00, 18.78it/s]\n",
      "100%|██████████| 157/157 [00:04<00:00, 35.44it/s]\n"
     ]
    },
    {
     "name": "stdout",
     "output_type": "stream",
     "text": [
      "Confusion Matrix:\n",
      "[[861   5  12  19  23   0   1   6  46  27]\n",
      " [ 11 904   1   9   2   1   1   0  15  56]\n",
      " [107   2 505 110 124  47  69  25   5   6]\n",
      " [ 24   8  35 656  70 120  41  24   7  15]\n",
      " [ 30   1  28  67 789  12  28  38   3   4]\n",
      " [ 20   2  21 218  47 634   4  47   2   5]\n",
      " [ 13   3  22  85  45   4 812   6   4   6]\n",
      " [ 19   4   9  47  82  36   3 791   0   9]\n",
      " [ 88  21   7  16   1   0   0   4 845  18]\n",
      " [ 27  76   2  16   1   0   1  12  15 850]]\n",
      "TRAIN_LOSS:  0.493 TRAIN_ACC:  83.894\n",
      "VAL_LOSS:  0.781 VAL_ACC:  76.470\n",
      "EPOCH NUMBER: 15\n"
     ]
    },
    {
     "name": "stderr",
     "output_type": "stream",
     "text": [
      "  0%|          | 3/782 [00:00<00:54, 14.28it/s]"
     ]
    },
    {
     "name": "stdout",
     "output_type": "stream",
     "text": [
      "Train (epoch 15/20) [0/782 (0%)]\tLoss: 0.422756\n"
     ]
    },
    {
     "name": "stderr",
     "output_type": "stream",
     "text": [
      " 13%|█▎        | 103/782 [00:05<00:36, 18.65it/s]"
     ]
    },
    {
     "name": "stdout",
     "output_type": "stream",
     "text": [
      "Train (epoch 15/20) [100/782 (13%)]\tLoss: 0.402498\n"
     ]
    },
    {
     "name": "stderr",
     "output_type": "stream",
     "text": [
      " 26%|██▌       | 203/782 [00:10<00:31, 18.57it/s]"
     ]
    },
    {
     "name": "stdout",
     "output_type": "stream",
     "text": [
      "Train (epoch 15/20) [200/782 (26%)]\tLoss: 0.447536\n"
     ]
    },
    {
     "name": "stderr",
     "output_type": "stream",
     "text": [
      " 39%|███▊      | 303/782 [00:16<00:25, 18.94it/s]"
     ]
    },
    {
     "name": "stdout",
     "output_type": "stream",
     "text": [
      "Train (epoch 15/20) [300/782 (38%)]\tLoss: 0.393125\n"
     ]
    },
    {
     "name": "stderr",
     "output_type": "stream",
     "text": [
      " 52%|█████▏    | 403/782 [00:21<00:20, 18.31it/s]"
     ]
    },
    {
     "name": "stdout",
     "output_type": "stream",
     "text": [
      "Train (epoch 15/20) [400/782 (51%)]\tLoss: 0.401790\n"
     ]
    },
    {
     "name": "stderr",
     "output_type": "stream",
     "text": [
      " 64%|██████▍   | 503/782 [00:26<00:15, 18.51it/s]"
     ]
    },
    {
     "name": "stdout",
     "output_type": "stream",
     "text": [
      "Train (epoch 15/20) [500/782 (64%)]\tLoss: 0.383274\n"
     ]
    },
    {
     "name": "stderr",
     "output_type": "stream",
     "text": [
      " 77%|███████▋  | 603/782 [00:32<00:09, 18.30it/s]"
     ]
    },
    {
     "name": "stdout",
     "output_type": "stream",
     "text": [
      "Train (epoch 15/20) [600/782 (77%)]\tLoss: 0.319029\n"
     ]
    },
    {
     "name": "stderr",
     "output_type": "stream",
     "text": [
      " 90%|████████▉ | 703/782 [00:37<00:04, 18.69it/s]"
     ]
    },
    {
     "name": "stdout",
     "output_type": "stream",
     "text": [
      "Train (epoch 15/20) [700/782 (90%)]\tLoss: 0.615328\n"
     ]
    },
    {
     "name": "stderr",
     "output_type": "stream",
     "text": [
      "100%|██████████| 782/782 [00:41<00:00, 18.78it/s]\n",
      "100%|██████████| 157/157 [00:04<00:00, 37.45it/s]\n"
     ]
    },
    {
     "name": "stdout",
     "output_type": "stream",
     "text": [
      "Confusion Matrix:\n",
      "[[807   3  62  36  22   0   5  17  42   6]\n",
      " [ 18 871   4  17   2   3   5   3  23  54]\n",
      " [ 46   0 617  82 103  55  70  21   3   3]\n",
      " [ 15   1  71 601  54 130  81  33   3  11]\n",
      " [ 12   1  55  63 757  21  55  32   4   0]\n",
      " [  4   1  37 203  52 643  18  38   3   1]\n",
      " [  6   2  50  58  29   9 840   5   1   0]\n",
      " [ 14   1  21  43  72  66   5 778   0   0]\n",
      " [ 80  11  13  37   2   2   1   8 841   5]\n",
      " [ 46  62   2  48   2   2   7  29  31 771]]\n",
      "TRAIN_LOSS:  0.449 TRAIN_ACC:  85.244\n",
      "VAL_LOSS:  0.805 VAL_ACC:  75.260\n",
      "EPOCH NUMBER: 16\n"
     ]
    },
    {
     "name": "stderr",
     "output_type": "stream",
     "text": [
      "  1%|          | 4/782 [00:00<00:48, 16.17it/s]"
     ]
    },
    {
     "name": "stdout",
     "output_type": "stream",
     "text": [
      "Train (epoch 16/20) [0/782 (0%)]\tLoss: 0.349064\n"
     ]
    },
    {
     "name": "stderr",
     "output_type": "stream",
     "text": [
      " 13%|█▎        | 104/782 [00:05<00:35, 18.93it/s]"
     ]
    },
    {
     "name": "stdout",
     "output_type": "stream",
     "text": [
      "Train (epoch 16/20) [100/782 (13%)]\tLoss: 0.325830\n"
     ]
    },
    {
     "name": "stderr",
     "output_type": "stream",
     "text": [
      " 26%|██▌       | 204/782 [00:11<00:32, 18.01it/s]"
     ]
    },
    {
     "name": "stdout",
     "output_type": "stream",
     "text": [
      "Train (epoch 16/20) [200/782 (26%)]\tLoss: 0.515541\n"
     ]
    },
    {
     "name": "stderr",
     "output_type": "stream",
     "text": [
      " 39%|███▉      | 304/782 [00:16<00:25, 18.79it/s]"
     ]
    },
    {
     "name": "stdout",
     "output_type": "stream",
     "text": [
      "Train (epoch 16/20) [300/782 (38%)]\tLoss: 0.385823\n"
     ]
    },
    {
     "name": "stderr",
     "output_type": "stream",
     "text": [
      " 52%|█████▏    | 404/782 [00:21<00:20, 18.69it/s]"
     ]
    },
    {
     "name": "stdout",
     "output_type": "stream",
     "text": [
      "Train (epoch 16/20) [400/782 (51%)]\tLoss: 0.468584\n"
     ]
    },
    {
     "name": "stderr",
     "output_type": "stream",
     "text": [
      " 64%|██████▍   | 504/782 [00:26<00:14, 19.27it/s]"
     ]
    },
    {
     "name": "stdout",
     "output_type": "stream",
     "text": [
      "Train (epoch 16/20) [500/782 (64%)]\tLoss: 0.677244\n"
     ]
    },
    {
     "name": "stderr",
     "output_type": "stream",
     "text": [
      " 77%|███████▋  | 604/782 [00:32<00:09, 18.68it/s]"
     ]
    },
    {
     "name": "stdout",
     "output_type": "stream",
     "text": [
      "Train (epoch 16/20) [600/782 (77%)]\tLoss: 0.225973\n"
     ]
    },
    {
     "name": "stderr",
     "output_type": "stream",
     "text": [
      " 90%|█████████ | 704/782 [00:37<00:04, 18.81it/s]"
     ]
    },
    {
     "name": "stdout",
     "output_type": "stream",
     "text": [
      "Train (epoch 16/20) [700/782 (90%)]\tLoss: 0.209059\n"
     ]
    },
    {
     "name": "stderr",
     "output_type": "stream",
     "text": [
      "100%|██████████| 782/782 [00:41<00:00, 18.75it/s]\n",
      "100%|██████████| 157/157 [00:04<00:00, 35.95it/s]\n"
     ]
    },
    {
     "name": "stdout",
     "output_type": "stream",
     "text": [
      "Confusion Matrix:\n",
      "[[814   4  42  21   7   0   2   8  77  25]\n",
      " [ 11 864   4   6   1   2   1   1  44  66]\n",
      " [ 77   0 688  60  61  43  31  16  15   9]\n",
      " [ 30   3  86 582  38 167  26  29  16  23]\n",
      " [ 29   1 100  73 670  34  20  55  16   2]\n",
      " [  7   1  71 170  25 667   3  47   5   4]\n",
      " [  6   4 103  89  43  15 723   4   8   5]\n",
      " [ 22   0  38  47  50  40   0 787   5  11]\n",
      " [ 65  13   8  15   1   0   0   0 879  19]\n",
      " [ 20  43   4  18   2   1   1   8  26 877]]\n",
      "TRAIN_LOSS:  0.431 TRAIN_ACC:  85.878\n",
      "VAL_LOSS:  0.843 VAL_ACC:  75.510\n",
      "EPOCH NUMBER: 17\n"
     ]
    },
    {
     "name": "stderr",
     "output_type": "stream",
     "text": [
      "  1%|          | 4/782 [00:00<00:46, 16.74it/s]"
     ]
    },
    {
     "name": "stdout",
     "output_type": "stream",
     "text": [
      "Train (epoch 17/20) [0/782 (0%)]\tLoss: 0.514494\n"
     ]
    },
    {
     "name": "stderr",
     "output_type": "stream",
     "text": [
      " 13%|█▎        | 104/782 [00:05<00:36, 18.50it/s]"
     ]
    },
    {
     "name": "stdout",
     "output_type": "stream",
     "text": [
      "Train (epoch 17/20) [100/782 (13%)]\tLoss: 0.370685\n"
     ]
    },
    {
     "name": "stderr",
     "output_type": "stream",
     "text": [
      " 26%|██▌       | 204/782 [00:10<00:31, 18.07it/s]"
     ]
    },
    {
     "name": "stdout",
     "output_type": "stream",
     "text": [
      "Train (epoch 17/20) [200/782 (26%)]\tLoss: 0.393522\n"
     ]
    },
    {
     "name": "stderr",
     "output_type": "stream",
     "text": [
      " 39%|███▉      | 304/782 [00:16<00:26, 18.34it/s]"
     ]
    },
    {
     "name": "stdout",
     "output_type": "stream",
     "text": [
      "Train (epoch 17/20) [300/782 (38%)]\tLoss: 0.482111\n"
     ]
    },
    {
     "name": "stderr",
     "output_type": "stream",
     "text": [
      " 52%|█████▏    | 404/782 [00:21<00:20, 18.85it/s]"
     ]
    },
    {
     "name": "stdout",
     "output_type": "stream",
     "text": [
      "Train (epoch 17/20) [400/782 (51%)]\tLoss: 0.436324\n"
     ]
    },
    {
     "name": "stderr",
     "output_type": "stream",
     "text": [
      " 64%|██████▍   | 504/782 [00:26<00:14, 18.63it/s]"
     ]
    },
    {
     "name": "stdout",
     "output_type": "stream",
     "text": [
      "Train (epoch 17/20) [500/782 (64%)]\tLoss: 0.442884\n"
     ]
    },
    {
     "name": "stderr",
     "output_type": "stream",
     "text": [
      " 77%|███████▋  | 604/782 [00:32<00:09, 18.51it/s]"
     ]
    },
    {
     "name": "stdout",
     "output_type": "stream",
     "text": [
      "Train (epoch 17/20) [600/782 (77%)]\tLoss: 0.336167\n"
     ]
    },
    {
     "name": "stderr",
     "output_type": "stream",
     "text": [
      " 90%|█████████ | 704/782 [00:38<00:04, 16.93it/s]"
     ]
    },
    {
     "name": "stdout",
     "output_type": "stream",
     "text": [
      "Train (epoch 17/20) [700/782 (90%)]\tLoss: 0.431416\n"
     ]
    },
    {
     "name": "stderr",
     "output_type": "stream",
     "text": [
      "100%|██████████| 782/782 [00:42<00:00, 18.32it/s]\n",
      "100%|██████████| 157/157 [00:04<00:00, 32.86it/s]\n"
     ]
    },
    {
     "name": "stdout",
     "output_type": "stream",
     "text": [
      "Confusion Matrix:\n",
      "[[836   5  28  32   7   3   3  12  45  29]\n",
      " [ 14 843   2   8   1   4   6   1  21 100]\n",
      " [ 75   0 565  89  86  73  59  38   8   7]\n",
      " [ 20   3  43 508  47 261  53  44   4  17]\n",
      " [ 23   1  49  82 678  47  35  73   4   8]\n",
      " [ 11   2  25 121  32 765   7  32   3   2]\n",
      " [  9   0  39  74  36  26 806   6   2   2]\n",
      " [ 13   1  11  46  35  87   2 790   5  10]\n",
      " [ 91  16   5  22   3   3   3   5 833  19]\n",
      " [ 21  37   5  18   2   3   1  13  14 886]]\n",
      "TRAIN_LOSS:  0.414 TRAIN_ACC:  86.538\n",
      "VAL_LOSS:  0.848 VAL_ACC:  75.100\n",
      "EPOCH NUMBER: 18\n"
     ]
    },
    {
     "name": "stderr",
     "output_type": "stream",
     "text": [
      "  0%|          | 2/782 [00:00<01:00, 12.80it/s]"
     ]
    },
    {
     "name": "stdout",
     "output_type": "stream",
     "text": [
      "Train (epoch 18/20) [0/782 (0%)]\tLoss: 0.333067\n"
     ]
    },
    {
     "name": "stderr",
     "output_type": "stream",
     "text": [
      " 13%|█▎        | 104/782 [00:06<00:36, 18.77it/s]"
     ]
    },
    {
     "name": "stdout",
     "output_type": "stream",
     "text": [
      "Train (epoch 18/20) [100/782 (13%)]\tLoss: 0.595924\n"
     ]
    },
    {
     "name": "stderr",
     "output_type": "stream",
     "text": [
      " 26%|██▌       | 204/782 [00:11<00:31, 18.22it/s]"
     ]
    },
    {
     "name": "stdout",
     "output_type": "stream",
     "text": [
      "Train (epoch 18/20) [200/782 (26%)]\tLoss: 0.383376\n"
     ]
    },
    {
     "name": "stderr",
     "output_type": "stream",
     "text": [
      " 39%|███▉      | 304/782 [00:16<00:25, 18.92it/s]"
     ]
    },
    {
     "name": "stdout",
     "output_type": "stream",
     "text": [
      "Train (epoch 18/20) [300/782 (38%)]\tLoss: 0.380688\n"
     ]
    },
    {
     "name": "stderr",
     "output_type": "stream",
     "text": [
      " 52%|█████▏    | 404/782 [00:22<00:21, 17.81it/s]"
     ]
    },
    {
     "name": "stdout",
     "output_type": "stream",
     "text": [
      "Train (epoch 18/20) [400/782 (51%)]\tLoss: 0.419004\n"
     ]
    },
    {
     "name": "stderr",
     "output_type": "stream",
     "text": [
      " 64%|██████▍   | 504/782 [00:27<00:14, 18.76it/s]"
     ]
    },
    {
     "name": "stdout",
     "output_type": "stream",
     "text": [
      "Train (epoch 18/20) [500/782 (64%)]\tLoss: 0.248806\n"
     ]
    },
    {
     "name": "stderr",
     "output_type": "stream",
     "text": [
      " 77%|███████▋  | 604/782 [00:32<00:09, 18.58it/s]"
     ]
    },
    {
     "name": "stdout",
     "output_type": "stream",
     "text": [
      "Train (epoch 18/20) [600/782 (77%)]\tLoss: 0.376134\n"
     ]
    },
    {
     "name": "stderr",
     "output_type": "stream",
     "text": [
      " 90%|█████████ | 704/782 [00:38<00:04, 18.89it/s]"
     ]
    },
    {
     "name": "stdout",
     "output_type": "stream",
     "text": [
      "Train (epoch 18/20) [700/782 (90%)]\tLoss: 0.515977\n"
     ]
    },
    {
     "name": "stderr",
     "output_type": "stream",
     "text": [
      "100%|██████████| 782/782 [00:42<00:00, 18.43it/s]\n",
      "100%|██████████| 157/157 [00:04<00:00, 36.66it/s]\n"
     ]
    },
    {
     "name": "stdout",
     "output_type": "stream",
     "text": [
      "Confusion Matrix:\n",
      "[[757  16  27  85   8   1   3  19  61  23]\n",
      " [  6 924   0  16   1   3   1   4  13  32]\n",
      " [ 59   3 520 171  85  49  61  35  14   3]\n",
      " [ 13   5  21 694  38 135  33  37  11  13]\n",
      " [ 11   1  32 135 685  19  47  64   6   0]\n",
      " [  2   2  22 247  24 653   8  36   4   2]\n",
      " [  3   1  29 126  20  12 798   6   3   2]\n",
      " [  7   1   6  79  31  45   4 818   4   5]\n",
      " [ 43  28   5  29   0   0   1   2 868  24]\n",
      " [  8  87   3  34   1   4   4  14  15 830]]\n",
      "TRAIN_LOSS:  0.412 TRAIN_ACC:  86.670\n",
      "VAL_LOSS:  0.822 VAL_ACC:  75.470\n",
      "EPOCH NUMBER: 19\n"
     ]
    },
    {
     "name": "stderr",
     "output_type": "stream",
     "text": [
      "  1%|          | 4/782 [00:00<00:49, 15.57it/s]"
     ]
    },
    {
     "name": "stdout",
     "output_type": "stream",
     "text": [
      "Train (epoch 19/20) [0/782 (0%)]\tLoss: 0.281720\n"
     ]
    },
    {
     "name": "stderr",
     "output_type": "stream",
     "text": [
      " 13%|█▎        | 104/782 [00:05<00:35, 18.94it/s]"
     ]
    },
    {
     "name": "stdout",
     "output_type": "stream",
     "text": [
      "Train (epoch 19/20) [100/782 (13%)]\tLoss: 0.348772\n"
     ]
    },
    {
     "name": "stderr",
     "output_type": "stream",
     "text": [
      " 26%|██▌       | 204/782 [00:11<00:31, 18.22it/s]"
     ]
    },
    {
     "name": "stdout",
     "output_type": "stream",
     "text": [
      "Train (epoch 19/20) [200/782 (26%)]\tLoss: 0.219126\n"
     ]
    },
    {
     "name": "stderr",
     "output_type": "stream",
     "text": [
      " 39%|███▉      | 304/782 [00:16<00:25, 18.71it/s]"
     ]
    },
    {
     "name": "stdout",
     "output_type": "stream",
     "text": [
      "Train (epoch 19/20) [300/782 (38%)]\tLoss: 0.434054\n"
     ]
    },
    {
     "name": "stderr",
     "output_type": "stream",
     "text": [
      " 52%|█████▏    | 404/782 [00:21<00:20, 18.63it/s]"
     ]
    },
    {
     "name": "stdout",
     "output_type": "stream",
     "text": [
      "Train (epoch 19/20) [400/782 (51%)]\tLoss: 0.467744\n"
     ]
    },
    {
     "name": "stderr",
     "output_type": "stream",
     "text": [
      " 64%|██████▍   | 504/782 [00:27<00:15, 18.50it/s]"
     ]
    },
    {
     "name": "stdout",
     "output_type": "stream",
     "text": [
      "Train (epoch 19/20) [500/782 (64%)]\tLoss: 0.289471\n"
     ]
    },
    {
     "name": "stderr",
     "output_type": "stream",
     "text": [
      " 77%|███████▋  | 604/782 [00:32<00:09, 18.96it/s]"
     ]
    },
    {
     "name": "stdout",
     "output_type": "stream",
     "text": [
      "Train (epoch 19/20) [600/782 (77%)]\tLoss: 0.483677\n"
     ]
    },
    {
     "name": "stderr",
     "output_type": "stream",
     "text": [
      " 90%|█████████ | 704/782 [00:37<00:04, 18.62it/s]"
     ]
    },
    {
     "name": "stdout",
     "output_type": "stream",
     "text": [
      "Train (epoch 19/20) [700/782 (90%)]\tLoss: 0.219876\n"
     ]
    },
    {
     "name": "stderr",
     "output_type": "stream",
     "text": [
      "100%|██████████| 782/782 [00:41<00:00, 18.69it/s]\n",
      "100%|██████████| 157/157 [00:04<00:00, 37.03it/s]\n"
     ]
    },
    {
     "name": "stdout",
     "output_type": "stream",
     "text": [
      "Confusion Matrix:\n",
      "[[824   6  36  31  15   1   5  17  41  24]\n",
      " [ 10 881   2  12   3   2   7   1  20  62]\n",
      " [ 75   1 659  38  84  52  53  24   9   5]\n",
      " [ 21   0  81 538  69 166  77  32   9   7]\n",
      " [ 15   0  89  40 735  33  28  58   2   0]\n",
      " [ 11   1  73 122  32 717  16  26   2   0]\n",
      " [  4   1  86  37  46  12 806   3   4   1]\n",
      " [ 13   0  28  30  43  80   3 799   2   2]\n",
      " [ 71  27  12  20   4   1   3   4 840  18]\n",
      " [ 21  57  10  24   3   7   2  19  15 842]]\n",
      "TRAIN_LOSS:  0.392 TRAIN_ACC:  87.520\n",
      "VAL_LOSS:  0.865 VAL_ACC:  76.410\n",
      "EPOCH NUMBER: 20\n"
     ]
    },
    {
     "name": "stderr",
     "output_type": "stream",
     "text": [
      "  1%|          | 4/782 [00:00<00:49, 15.78it/s]"
     ]
    },
    {
     "name": "stdout",
     "output_type": "stream",
     "text": [
      "Train (epoch 20/20) [0/782 (0%)]\tLoss: 0.218827\n"
     ]
    },
    {
     "name": "stderr",
     "output_type": "stream",
     "text": [
      " 13%|█▎        | 104/782 [00:05<00:36, 18.68it/s]"
     ]
    },
    {
     "name": "stdout",
     "output_type": "stream",
     "text": [
      "Train (epoch 20/20) [100/782 (13%)]\tLoss: 0.197321\n"
     ]
    },
    {
     "name": "stderr",
     "output_type": "stream",
     "text": [
      " 26%|██▌       | 204/782 [00:11<00:31, 18.07it/s]"
     ]
    },
    {
     "name": "stdout",
     "output_type": "stream",
     "text": [
      "Train (epoch 20/20) [200/782 (26%)]\tLoss: 0.503239\n"
     ]
    },
    {
     "name": "stderr",
     "output_type": "stream",
     "text": [
      " 39%|███▉      | 304/782 [00:16<00:26, 18.38it/s]"
     ]
    },
    {
     "name": "stdout",
     "output_type": "stream",
     "text": [
      "Train (epoch 20/20) [300/782 (38%)]\tLoss: 0.296801\n"
     ]
    },
    {
     "name": "stderr",
     "output_type": "stream",
     "text": [
      " 52%|█████▏    | 404/782 [00:21<00:20, 18.81it/s]"
     ]
    },
    {
     "name": "stdout",
     "output_type": "stream",
     "text": [
      "Train (epoch 20/20) [400/782 (51%)]\tLoss: 0.480495\n"
     ]
    },
    {
     "name": "stderr",
     "output_type": "stream",
     "text": [
      " 64%|██████▍   | 504/782 [00:27<00:14, 18.59it/s]"
     ]
    },
    {
     "name": "stdout",
     "output_type": "stream",
     "text": [
      "Train (epoch 20/20) [500/782 (64%)]\tLoss: 0.322559\n"
     ]
    },
    {
     "name": "stderr",
     "output_type": "stream",
     "text": [
      " 77%|███████▋  | 604/782 [00:32<00:09, 18.06it/s]"
     ]
    },
    {
     "name": "stdout",
     "output_type": "stream",
     "text": [
      "Train (epoch 20/20) [600/782 (77%)]\tLoss: 0.330710\n"
     ]
    },
    {
     "name": "stderr",
     "output_type": "stream",
     "text": [
      " 90%|█████████ | 704/782 [00:37<00:04, 18.93it/s]"
     ]
    },
    {
     "name": "stdout",
     "output_type": "stream",
     "text": [
      "Train (epoch 20/20) [700/782 (90%)]\tLoss: 0.617462\n"
     ]
    },
    {
     "name": "stderr",
     "output_type": "stream",
     "text": [
      "100%|██████████| 782/782 [00:41<00:00, 18.66it/s]\n",
      "100%|██████████| 157/157 [00:04<00:00, 37.17it/s]\n"
     ]
    },
    {
     "name": "stdout",
     "output_type": "stream",
     "text": [
      "Confusion Matrix:\n",
      "[[799   8  83  16  21   0   7   4  55   7]\n",
      " [ 19 856   3   4   2   1  11   0  57  47]\n",
      " [ 48   0 707  60  79  11  71  11   9   4]\n",
      " [ 32   4 109 607  52  63  72  27  17  17]\n",
      " [ 22   1  83  65 749   6  42  27   4   1]\n",
      " [ 12   1 114 248  42 508  31  37   4   3]\n",
      " [  6   1  60  46  38   0 841   3   4   1]\n",
      " [ 21   0  59  44  75  25   8 754   7   7]\n",
      " [ 76   8  18   9   3   0   1   1 879   5]\n",
      " [ 53  68   7  23   2   0   7   4  37 799]]\n",
      "TRAIN_LOSS:  0.346 TRAIN_ACC:  88.838\n",
      "VAL_LOSS:  0.975 VAL_ACC:  74.990\n"
     ]
    },
    {
     "data": {
      "image/png": "[encoded data removed]",
      "text/plain": [
       "<Figure size 432x288 with 1 Axes>"
      ]
     },
     "metadata": {
      "needs_background": "light"
     },
     "output_type": "display_data"
    }
   ],
   "source": [
    "\n",
    "correct_pred = {classname: 0 for classname in classes}\n",
    "total_pred = {classname: 0 for classname in classes}\n",
    "\n",
    "total_train_losses = []\n",
    "total_val_losses = []\n",
    "\n",
    "for epoch in range(1,epochs+1):\n",
    "    print(f\"EPOCH NUMBER: {epoch}\")\n",
    "    model.train()\n",
    "    train_losses = []\n",
    "    confusion_matrix.reset()\n",
    "\n",
    "    for i, batch in enumerate(tqdm(train_dataloader)):\n",
    "        img_batch, lbl_batch = batch\n",
    "        img_batch, lbl_batch=img_batch.to(device), lbl_batch.to(device)\n",
    "        optimizer.zero_grad()\n",
    "        outputs = model(img_batch.float())\n",
    "        loss=criterion(outputs, lbl_batch.long())\n",
    "        loss.backward()\n",
    "        optimizer.step()\n",
    "        train_losses.append(loss.item())\n",
    "        confusion_matrix.add(outputs.data.squeeze(), lbl_batch.long())\n",
    "\n",
    "        if i % 100 == 0:\n",
    "            print('Train (epoch {}/{}) [{}/{} ({:.0f}%)]\\tLoss: {:.6f}'.format(\n",
    "                epoch, epochs, i, len(train_dataloader),100.*i/len(train_dataloader), loss.item()))\n",
    "\n",
    "    train_acc=(np.trace(confusion_matrix.conf)/float(np.ndarray.sum(confusion_matrix.conf))) *100\n",
    "    train_loss_mean = np.mean(train_losses)\n",
    "    total_train_losses.append(train_loss_mean)\n",
    "    \n",
    "\n",
    "    model.eval()\n",
    "    val_losses = []\n",
    "    confusion_matrix.reset()\n",
    "\n",
    "    for i, batch, in enumerate(tqdm(val_dataloader)):\n",
    "        img_batch, lbl_batch = batch\n",
    "        img_batch, lbl_batch=img_batch.to(device), lbl_batch.to(device)\n",
    "   \n",
    "\n",
    "        with torch.no_grad():\n",
    "          outputs=model(img_batch.float())\n",
    "          loss=criterion(outputs, lbl_batch.long())\n",
    "          _, predictions = torch.max(outputs, 1)\n",
    "\n",
    "          for label, prediction in zip(lbl_batch.long(), predictions):\n",
    "              if label == prediction:\n",
    "                  correct_pred[classes[label]] += 1\n",
    "              total_pred[classes[label]] += 1\n",
    "\n",
    "       \n",
    "\n",
    "        confusion_matrix.add(outputs.data.squeeze(), lbl_batch.long())\n",
    "        val_losses.append(loss.item())\n",
    "\n",
    "    print('Confusion Matrix:')\n",
    "    print(confusion_matrix.conf)\n",
    "\n",
    "    val_acc=(np.trace(confusion_matrix.conf)/float(np.ndarray.sum(confusion_matrix.conf))) *100\n",
    "    val_loss_mean = np.mean(val_losses)\n",
    "    total_val_losses.append(val_loss_mean)\n",
    "\n",
    "    print('TRAIN_LOSS: ', '%.3f' % train_loss_mean, 'TRAIN_ACC: ', '%.3f' % train_acc)\n",
    "    print('VAL_LOSS: ', '%.3f' % val_loss_mean, 'VAL_ACC: ', '%.3f' % val_acc)\n",
    "    torch.save(model.state_dict(), save_folder + '/model_{}.pt'.format(epoch))\n",
    "\n",
    "save_graph(total_train_losses, total_val_losses, epochs, save_folder)\n",
    "\n",
    " # *****END CODE"
   ]
  },
  {
   "cell_type": "markdown",
   "metadata": {
    "id": "cIAwvLE7RKmD"
   },
   "source": [
    "### 1d) Validate your model\n",
    "\n",
    "- Show that the model is not overfitting\n",
    "- How does your model perform ?"
   ]
  },
  {
   "cell_type": "code",
   "execution_count": null,
   "metadata": {
    "id": "UefurGcde1CR"
   },
   "outputs": [],
   "source": [
    "from sklearn.metrics import multilabel_confusion_matrix, accuracy_score, precision_score, recall_score, confusion_matrix, ConfusionMatrixDisplay, classification_report "
   ]
  },
  {
   "cell_type": "code",
   "execution_count": null,
   "metadata": {
    "colab": {
     "base_uri": "https://localhost:8080/",
     "height": 305
    },
    "id": "v3Aq6EKtiAO3",
    "outputId": "6faa87a4-6a92-426f-b1c3-57b331e15ab7"
   },
   "outputs": [
    {
     "data": {
      "image/png": "[encoded data removed]",
      "text/plain": [
       "<PIL.Image.Image image mode=RGB size=432x288 at 0x7F91676FB940>"
      ]
     },
     "metadata": {},
     "output_type": "display_data"
    }
   ],
   "source": [
    "import cv2 as cv2\n",
    "from google.colab.patches import cv2_imshow\n",
    "img = cv2.imread(save_folder + '/chart.png')\n",
    "cv2_imshow(img)"
   ]
  },
  {
   "cell_type": "code",
   "execution_count": null,
   "metadata": {
    "colab": {
     "base_uri": "https://localhost:8080/"
    },
    "id": "-UITTFW0RKmE",
    "outputId": "11835f5f-0b06-403c-b7a9-038ce41f51c5"
   },
   "outputs": [
    {
     "data": {
      "text/plain": [
       "<All keys matched successfully>"
      ]
     },
     "execution_count": 18,
     "metadata": {},
     "output_type": "execute_result"
    }
   ],
   "source": [
    "\n",
    "model = ConvNet().to(device)\n",
    "model.load_state_dict(torch.load(save_folder + '/model_8.pt'))"
   ]
  },
  {
   "cell_type": "code",
   "execution_count": null,
   "metadata": {
    "id": "HV--y7hr9HG2"
   },
   "outputs": [],
   "source": [
    "correct_pred = {classname: 0 for classname in classes}\n",
    "total_pred = {classname: 0 for classname in classes}"
   ]
  },
  {
   "cell_type": "code",
   "execution_count": null,
   "metadata": {
    "colab": {
     "base_uri": "https://localhost:8080/"
    },
    "id": "qTn-7OBbdm8_",
    "outputId": "e91389eb-6cc2-4d67-b6d2-ec753d4b71ad"
   },
   "outputs": [
    {
     "name": "stderr",
     "output_type": "stream",
     "text": [
      "100%|██████████| 157/157 [00:12<00:00, 12.22it/s]\n"
     ]
    },
    {
     "name": "stdout",
     "output_type": "stream",
     "text": [
      "Accuracy: 0.714900016784668\n",
      "              precision    recall  f1-score   support\n",
      "\n",
      "       plane       0.68      0.84      0.75      1000\n",
      "         car       0.87      0.90      0.88      1000\n",
      "        bird       0.62      0.46      0.53      1000\n",
      "         cat       0.42      0.60      0.49      1000\n",
      "        deer       0.79      0.49      0.60      1000\n",
      "         dog       0.66      0.61      0.64      1000\n",
      "        frog       0.81      0.76      0.78      1000\n",
      "       horse       0.74      0.83      0.78      1000\n",
      "        ship       0.85      0.84      0.85      1000\n",
      "       truck       0.84      0.82      0.83      1000\n",
      "\n",
      "    accuracy                           0.71     10000\n",
      "   macro avg       0.73      0.71      0.71     10000\n",
      "weighted avg       0.73      0.71      0.71     10000\n",
      "\n"
     ]
    }
   ],
   "source": [
    "\n",
    "model.eval()\n",
    "val_losses = []\n",
    "val_lbl = torch.Tensor([])\n",
    "val_preds = torch.Tensor([])\n",
    "\n",
    "\n",
    "total_train_losses = []\n",
    "total_val_losses = []\n",
    "\n",
    "with torch.no_grad():\n",
    "\n",
    "    for i, batch, in enumerate(tqdm(val_dataloader)):\n",
    "        img_batch, lbl_batch = batch\n",
    "        val_lbl=torch.cat((val_lbl, lbl_batch))\n",
    "        img_batch, lbl_batch = img_batch.to(device), lbl_batch.to(device)\n",
    "\n",
    "        logits=model(img_batch)\n",
    "        val_preds=torch.cat((val_preds, logits.argmax(1).cpu()))\n",
    "        loss=criterion(logits, lbl_batch)\n",
    "        val_losses.append(loss.item())\n",
    "\n",
    "      \n",
    "        _, predictions = torch.max(logits, 1)\n",
    "        for label, prediction in zip(lbl_batch.long(), predictions):\n",
    "            if label == prediction:\n",
    "                correct_pred[classes[label]] += 1\n",
    "            total_pred[classes[label]] += 1\n",
    "\n",
    "\n",
    "val_acc=accuracy(val_preds, val_lbl)\n",
    "val_loss_mean = np.mean(val_losses)\n",
    "total_val_losses.append(val_loss_mean)\n",
    "\n",
    "\n",
    "print(f'Accuracy: {accuracy(val_lbl, val_preds)}')\n",
    "print(classification_report(val_lbl, val_preds, target_names=classes))"
   ]
  },
  {
   "cell_type": "code",
   "execution_count": null,
   "metadata": {
    "colab": {
     "base_uri": "https://localhost:8080/"
    },
    "id": "V6ZaMCzO_O4q",
    "outputId": "b665a779-4d2a-4a5b-a7a0-0749955f2f30"
   },
   "outputs": [
    {
     "name": "stdout",
     "output_type": "stream",
     "text": [
      "Accuracy for class: plane is 84.4 %\n",
      "Accuracy for class: car   is 89.5 %\n",
      "Accuracy for class: bird  is 45.8 %\n",
      "Accuracy for class: cat   is 60.0 %\n",
      "Accuracy for class: deer  is 49.0 %\n",
      "Accuracy for class: dog   is 61.4 %\n",
      "Accuracy for class: frog  is 75.6 %\n",
      "Accuracy for class: horse is 82.7 %\n",
      "Accuracy for class: ship  is 84.0 %\n",
      "Accuracy for class: truck is 82.5 %\n"
     ]
    }
   ],
   "source": [
    "\n",
    "for classname, correct_count in correct_pred.items():\n",
    "    accuracy = 100 * float(correct_count) / total_pred[classname]\n",
    "    print(f'Accuracy for class: {classname:5s} is {accuracy:.1f} %')\n"
   ]
  },
  {
   "cell_type": "markdown",
   "metadata": {
    "id": "J7B9gOlwbYny"
   },
   "source": [
    "### 1e) Try to optimize hyperparameters, does it improve the performance of your model ?\n",
    "Anwser with a graph and comment on the result."
   ]
  },
  {
   "cell_type": "code",
   "execution_count": null,
   "metadata": {
    "colab": {
     "base_uri": "https://localhost:8080/"
    },
    "id": "afE3vNW5qNqK",
    "outputId": "54c65692-07e6-40d0-b4ac-6eab8dcd302f"
   },
   "outputs": [
    {
     "name": "stdout",
     "output_type": "stream",
     "text": [
      "Looking in indexes: https://pypi.org/simple, https://us-python.pkg.dev/colab-wheels/public/simple/\n",
      "Requirement already satisfied: ray in /usr/local/lib/python3.8/dist-packages (2.2.0)\n",
      "Requirement already satisfied: pyyaml in /usr/local/lib/python3.8/dist-packages (from ray) (6.0)\n",
      "Requirement already satisfied: grpcio>=1.32.0 in /usr/local/lib/python3.8/dist-packages (from ray) (1.51.1)\n",
      "Requirement already satisfied: click>=7.0 in /usr/local/lib/python3.8/dist-packages (from ray) (7.1.2)\n",
      "Requirement already satisfied: attrs in /usr/local/lib/python3.8/dist-packages (from ray) (22.2.0)\n",
      "Requirement already satisfied: aiosignal in /usr/local/lib/python3.8/dist-packages (from ray) (1.3.1)\n",
      "Requirement already satisfied: protobuf!=3.19.5,>=3.15.3 in /usr/local/lib/python3.8/dist-packages (from ray) (3.19.6)\n",
      "Requirement already satisfied: virtualenv>=20.0.24 in /usr/local/lib/python3.8/dist-packages (from ray) (20.17.1)\n",
      "Requirement already satisfied: msgpack<2.0.0,>=1.0.0 in /usr/local/lib/python3.8/dist-packages (from ray) (1.0.4)\n",
      "Requirement already satisfied: frozenlist in /usr/local/lib/python3.8/dist-packages (from ray) (1.3.3)\n",
      "Requirement already satisfied: requests in /usr/local/lib/python3.8/dist-packages (from ray) (2.25.1)\n",
      "Requirement already satisfied: numpy>=1.16 in /usr/local/lib/python3.8/dist-packages (from ray) (1.21.6)\n",
      "Requirement already satisfied: jsonschema in /usr/local/lib/python3.8/dist-packages (from ray) (4.3.3)\n",
      "Requirement already satisfied: filelock in /usr/local/lib/python3.8/dist-packages (from ray) (3.9.0)\n",
      "Requirement already satisfied: distlib<1,>=0.3.6 in /usr/local/lib/python3.8/dist-packages (from virtualenv>=20.0.24->ray) (0.3.6)\n",
      "Requirement already satisfied: platformdirs<3,>=2.4 in /usr/local/lib/python3.8/dist-packages (from virtualenv>=20.0.24->ray) (2.6.2)\n",
      "Requirement already satisfied: importlib-resources>=1.4.0 in /usr/local/lib/python3.8/dist-packages (from jsonschema->ray) (5.10.2)\n",
      "Requirement already satisfied: pyrsistent!=0.17.0,!=0.17.1,!=0.17.2,>=0.14.0 in /usr/local/lib/python3.8/dist-packages (from jsonschema->ray) (0.19.3)\n",
      "Requirement already satisfied: certifi>=2017.4.17 in /usr/local/lib/python3.8/dist-packages (from requests->ray) (2022.12.7)\n",
      "Requirement already satisfied: urllib3<1.27,>=1.21.1 in /usr/local/lib/python3.8/dist-packages (from requests->ray) (1.26.14)\n",
      "Requirement already satisfied: chardet<5,>=3.0.2 in /usr/local/lib/python3.8/dist-packages (from requests->ray) (4.0.0)\n",
      "Requirement already satisfied: idna<3,>=2.5 in /usr/local/lib/python3.8/dist-packages (from requests->ray) (2.10)\n",
      "Requirement already satisfied: zipp>=3.1.0 in /usr/local/lib/python3.8/dist-packages (from importlib-resources>=1.4.0->jsonschema->ray) (3.11.0)\n"
     ]
    }
   ],
   "source": [
    "!pip install ray"
   ]
  },
  {
   "cell_type": "code",
   "execution_count": null,
   "metadata": {
    "colab": {
     "base_uri": "https://localhost:8080/"
    },
    "id": "AlkFUc8xW0pQ",
    "outputId": "2d87555a-4afe-4595-89d2-b6650be01694"
   },
   "outputs": [
    {
     "name": "stdout",
     "output_type": "stream",
     "text": [
      "Looking in indexes: https://pypi.org/simple, https://us-python.pkg.dev/colab-wheels/public/simple/\n",
      "Requirement already satisfied: tensorboardx in /usr/local/lib/python3.8/dist-packages (2.5.1)\n",
      "Requirement already satisfied: numpy in /usr/local/lib/python3.8/dist-packages (from tensorboardx) (1.21.6)\n",
      "Requirement already satisfied: protobuf<=3.20.1,>=3.8.0 in /usr/local/lib/python3.8/dist-packages (from tensorboardx) (3.19.6)\n"
     ]
    }
   ],
   "source": [
    "!pip install -U tensorboardx"
   ]
  },
  {
   "cell_type": "code",
   "execution_count": null,
   "metadata": {
    "id": "mDcpbCQGsgLV"
   },
   "outputs": [],
   "source": [
    "\n",
    "from filelock import FileLock\n",
    "from torch.utils.data import random_split\n",
    "\n",
    "from functools import partial\n",
    "import os\n",
    "\n",
    "import ray\n",
    "from ray import tune\n",
    "from ray.air import session\n",
    "from ray.air.checkpoint import Checkpoint\n",
    "from ray.tune import CLIReporter\n",
    "from ray.tune.schedulers import ASHAScheduler"
   ]
  },
  {
   "cell_type": "code",
   "execution_count": null,
   "metadata": {
    "id": "oUG0I6eI4imE"
   },
   "outputs": [],
   "source": [
    "def load_data(data_dir=\"./data\"):\n",
    "  \n",
    "  with FileLock(os.path.expanduser(\"~/.data.lock\")):\n",
    "    \n",
    "    transform_train = transforms.Compose(\n",
    "      [transforms.ToTensor(),\n",
    "      transforms.Normalize((0.49139968, 0.48215827 ,0.44653124), (0.24703233, 0.24348505, 0.26158768))\n",
    "      ])\n",
    "\n",
    "    transform_test = transforms.Compose(\n",
    "      [transforms.ToTensor(),\n",
    "      transforms.Normalize((0.49139968, 0.48215827 ,0.44653124), (0.24703233, 0.24348505, 0.26158768))\n",
    "      ])\n",
    "\n",
    "\n",
    "    batch_size=64\n",
    "    trainset = torchvision.datasets.CIFAR10(root='./data', train=True, download=True, transform=transform_train)\n",
    "  \n",
    "    testset = torchvision.datasets.CIFAR10(root='./data', train=False, download=True, transform=transform_test)\n",
    "    \n",
    "    return trainset, testset\n",
    "\n",
    "def train_cifar(config,  epochs = 1):\n",
    "    net = ConvNet().to(device)\n",
    "\n",
    "\n",
    "\n",
    "    optimizer = optim.Adam(net.parameters(), lr=config[\"lr\"], betas=(config[\"beta1\"],config[\"beta2\"]), amsgrad=config[\"amsgrad\"], weight_decay=config[\"wd\"])\n",
    "    criterion = nn.CrossEntropyLoss().to(device)\n",
    "\n",
    "    loaded_checkpoint = session.get_checkpoint()\n",
    "\n",
    "    if loaded_checkpoint:\n",
    "        with loaded_checkpoint.as_directory() as loaded_checkpoint_dir:\n",
    "           model_state, optimizer_state = torch.load(os.path.join(loaded_checkpoint_dir, \"checkpoint.pt\"))\n",
    "        net.load_state_dict(model_state)\n",
    "        optimizer.load_state_dict(optimizer_state)\n",
    "\n",
    "    data_dir = os.path.abspath(\"./data\")\n",
    "\n",
    "    trainset, testset = load_data(data_dir)\n",
    "\n",
    "    test_abs = int(len(trainset) * 0.8)\n",
    "    train_subset, val_subset = random_split(\n",
    "        trainset, [test_abs, len(trainset) - test_abs])\n",
    "\n",
    "    trainloader = torch.utils.data.DataLoader( train_subset, batch_size=64, shuffle=True)\n",
    "    valloader = torch.utils.data.DataLoader(val_subset, batch_size=64, shuffle=True)\n",
    "\n",
    "    for epoch in range(epochs):  # loop over the dataset multiple times\n",
    "        running_loss = 0.0\n",
    "        epoch_steps = 0\n",
    "        for i, data in enumerate(trainloader, 0):\n",
    "            inputs, labels = data\n",
    "            inputs, labels = inputs.to(device), labels.to(device)\n",
    "\n",
    "\n",
    "            optimizer.zero_grad()\n",
    "\n",
    "\n",
    "            outputs = net(inputs)\n",
    "            loss = criterion(outputs, labels)\n",
    "            loss.backward()\n",
    "            optimizer.step()\n",
    "\n",
    "            running_loss += loss.item()\n",
    "            epoch_steps += 1\n",
    "            if i % 2000 == 1999:  # print every 2000 mini-batches\n",
    "                print(\"[%d, %5d] loss: %.3f\" % (epoch + 1, i + 1,\n",
    "                                                running_loss / epoch_steps))\n",
    "                running_loss = 0.0\n",
    "\n",
    "        val_loss = 0.0\n",
    "        val_steps = 0\n",
    "        total = 0\n",
    "        correct = 0\n",
    "        for i, data in enumerate(valloader, 0):\n",
    "            with torch.no_grad():\n",
    "                inputs, labels = data\n",
    "                inputs, labels = inputs.to(device), labels.to(device)\n",
    "\n",
    "                outputs = net(inputs)\n",
    "                _, predicted = torch.max(outputs.data, 1)\n",
    "                total += labels.size(0)\n",
    "                correct += (predicted == labels).sum().item()\n",
    "\n",
    "                loss = criterion(outputs, labels)\n",
    "                val_loss += loss.cpu().numpy()\n",
    "                val_steps += 1\n",
    "\n",
    "        os.makedirs(\"my_model\", exist_ok=True)\n",
    "        torch.save((net.state_dict(), optimizer.state_dict()), \"my_model/checkpoint.pt\")\n",
    "        checkpoint = Checkpoint.from_directory(\"my_model\")\n",
    "        session.report({\"loss\": (val_loss / val_steps), \"accuracy\": correct / total}, checkpoint=checkpoint)\n",
    "\n",
    "    print(\"Finished Training\")\n",
    "\n",
    "def test_best_model(best_result):\n",
    "    best_trained_model = ConvNet()\n",
    "    device = \"cuda\" if torch.cuda.is_available() else \"cpu\"\n",
    "    best_trained_model.to(device)\n",
    "\n",
    "    checkpoint_path = os.path.join(best_result.checkpoint.to_directory(), \"checkpoint.pt\")\n",
    "\n",
    "    model_state, optimizer_state = torch.load(checkpoint_path)\n",
    "    best_trained_model.load_state_dict(model_state)\n",
    "\n",
    "    trainset, testset = load_data()\n",
    "\n",
    "    testloader = torch.utils.data.DataLoader(testset, batch_size=64, shuffle=False)\n",
    "\n",
    "    correct = 0\n",
    "    total = 0\n",
    "    with torch.no_grad():\n",
    "        for data in testloader:\n",
    "            images, labels = data\n",
    "            images, labels = images.to(device), labels.to(device)\n",
    "            outputs = best_trained_model(images)\n",
    "            _, predicted = torch.max(outputs.data, 1)\n",
    "            total += labels.size(0)\n",
    "            correct += (predicted == labels).sum().item()\n",
    "\n",
    "\n",
    "    print(\"Best test set accuracy: {}\".format(correct / total))\n",
    "\n",
    "def main(num_samples=10, max_num_epochs=50, gpus_per_trial=1):\n",
    "\n",
    "    config = {\n",
    "            \"lr\": tune.loguniform(5*1e-4, 5*1e-2),\n",
    "            \"beta1\": 0.9,\n",
    "            \"beta2\": 0.999,\n",
    "            \"wd\" : 1e-4,\n",
    "            \"amsgrad\": tune.choice([True, False])\n",
    "        }\n",
    "\n",
    "    scheduler = ASHAScheduler(\n",
    "        max_t=max_num_epochs,\n",
    "        grace_period=1,\n",
    "        reduction_factor=2)\n",
    "    \n",
    "    tuner = tune.Tuner(\n",
    "        tune.with_resources(\n",
    "            tune.with_parameters(train_cifar),\n",
    "            resources={\"cpu\": 2, \"gpu\": gpus_per_trial}\n",
    "        ),\n",
    "        tune_config=tune.TuneConfig(\n",
    "            metric=\"loss\",\n",
    "            mode=\"min\",\n",
    "            scheduler=scheduler,\n",
    "            num_samples=num_samples,\n",
    "        ),\n",
    "        param_space=config,\n",
    "    )\n",
    "    results = tuner.fit()\n",
    "    \n",
    "    best_result = results.get_best_result(\"loss\", \"min\")\n",
    "\n",
    "    print(\"Best trial config: {}\".format(best_result.config))\n",
    "    print(\"Best trial final validation loss: {}\".format(\n",
    "        best_result.metrics[\"loss\"]))\n",
    "    print(\"Best trial final validation accuracy: {}\".format(\n",
    "        best_result.metrics[\"accuracy\"]))\n",
    "\n",
    "    test_best_model(best_result)\n",
    "    return(best_result.config)\n"
   ]
  },
  {
   "cell_type": "code",
   "execution_count": null,
   "metadata": {
    "colab": {
     "base_uri": "https://localhost:8080/",
     "height": 887
    },
    "id": "Wp7wsqNXa0Ck",
    "outputId": "096817fc-23ff-4000-8e25-4176d73d04c9"
   },
   "outputs": [
    {
     "data": {
      "text/html": [
       "<div class=\"tuneStatus\">\n",
       "  <div style=\"display: flex;flex-direction: row\">\n",
       "    <div style=\"display: flex;flex-direction: column;\">\n",
       "      <h3>Tune Status</h3>\n",
       "      <table>\n",
       "<tbody>\n",
       "<tr><td>Current time:</td><td>2023-01-25 07:20:59</td></tr>\n",
       "<tr><td>Running for: </td><td>00:00:08.52        </td></tr>\n",
       "<tr><td>Memory:      </td><td>5.5/12.7 GiB       </td></tr>\n",
       "</tbody>\n",
       "</table>\n",
       "    </div>\n",
       "    <div class=\"vDivider\"></div>\n",
       "    <div class=\"systemInfo\">\n",
       "      <h3>System Info</h3>\n",
       "      Using AsyncHyperBand: num_stopped=0<br>Bracket: Iter 32.000: None | Iter 16.000: None | Iter 8.000: None | Iter 4.000: None | Iter 2.000: None | Iter 1.000: None<br>Resources requested: 2.0/2 CPUs, 1.0/1 GPUs, 0.0/7.41 GiB heap, 0.0/3.71 GiB objects\n",
       "    </div>\n",
       "    \n",
       "  </div>\n",
       "  <div class=\"hDivider\"></div>\n",
       "  <div class=\"trialStatus\">\n",
       "    <h3>Trial Status</h3>\n",
       "    <table>\n",
       "<thead>\n",
       "<tr><th>Trial name             </th><th>status  </th><th>loc              </th><th>amsgrad  </th><th style=\"text-align: right;\">         lr</th></tr>\n",
       "</thead>\n",
       "<tbody>\n",
       "<tr><td>train_cifar_cbb66_00000</td><td>RUNNING </td><td>172.28.0.12:61556</td><td>False    </td><td style=\"text-align: right;\">0.032416   </td></tr>\n",
       "<tr><td>train_cifar_cbb66_00001</td><td>PENDING </td><td>                 </td><td>False    </td><td style=\"text-align: right;\">0.000862621</td></tr>\n",
       "<tr><td>train_cifar_cbb66_00002</td><td>PENDING </td><td>                 </td><td>True     </td><td style=\"text-align: right;\">0.00517607 </td></tr>\n",
       "<tr><td>train_cifar_cbb66_00003</td><td>PENDING </td><td>                 </td><td>True     </td><td style=\"text-align: right;\">0.0228613  </td></tr>\n",
       "<tr><td>train_cifar_cbb66_00004</td><td>PENDING </td><td>                 </td><td>False    </td><td style=\"text-align: right;\">0.00210167 </td></tr>\n",
       "<tr><td>train_cifar_cbb66_00005</td><td>PENDING </td><td>                 </td><td>False    </td><td style=\"text-align: right;\">0.00113224 </td></tr>\n",
       "<tr><td>train_cifar_cbb66_00006</td><td>PENDING </td><td>                 </td><td>False    </td><td style=\"text-align: right;\">0.000534814</td></tr>\n",
       "<tr><td>train_cifar_cbb66_00007</td><td>PENDING </td><td>                 </td><td>True     </td><td style=\"text-align: right;\">0.0168182  </td></tr>\n",
       "<tr><td>train_cifar_cbb66_00008</td><td>PENDING </td><td>                 </td><td>True     </td><td style=\"text-align: right;\">0.0125486  </td></tr>\n",
       "<tr><td>train_cifar_cbb66_00009</td><td>PENDING </td><td>                 </td><td>True     </td><td style=\"text-align: right;\">0.0271254  </td></tr>\n",
       "</tbody>\n",
       "</table>\n",
       "  </div>\n",
       "</div>\n",
       "<style>\n",
       ".tuneStatus {\n",
       "  color: var(--jp-ui-font-color1);\n",
       "}\n",
       ".tuneStatus .systemInfo {\n",
       "  display: flex;\n",
       "  flex-direction: column;\n",
       "}\n",
       ".tuneStatus td {\n",
       "  white-space: nowrap;\n",
       "}\n",
       ".tuneStatus .trialStatus {\n",
       "  display: flex;\n",
       "  flex-direction: column;\n",
       "}\n",
       ".tuneStatus h3 {\n",
       "  font-weight: bold;\n",
       "}\n",
       ".tuneStatus .hDivider {\n",
       "  border-bottom-width: var(--jp-border-width);\n",
       "  border-bottom-color: var(--jp-border-color0);\n",
       "  border-bottom-style: solid;\n",
       "}\n",
       ".tuneStatus .vDivider {\n",
       "  border-left-width: var(--jp-border-width);\n",
       "  border-left-color: var(--jp-border-color0);\n",
       "  border-left-style: solid;\n",
       "  margin: 0.5em 1em 0.5em 1em;\n",
       "}\n",
       "</style>\n"
      ],
      "text/plain": [
       "<IPython.core.display.HTML object>"
      ]
     },
     "metadata": {},
     "output_type": "display_data"
    },
    {
     "name": "stderr",
     "output_type": "stream",
     "text": [
      "2023-01-25 07:20:53,880\tWARNING tune.py:690 -- Stop signal received (e.g. via SIGINT/Ctrl+C), ending Ray Tune run. This will try to checkpoint the experiment state one last time. Press CTRL+C (or send SIGINT/SIGKILL/SIGTERM) to skip. \n",
      "2023-01-25 07:20:59,336\tERROR tune.py:758 -- Trials did not complete: [train_cifar_cbb66_00000, train_cifar_cbb66_00001, train_cifar_cbb66_00002, train_cifar_cbb66_00003, train_cifar_cbb66_00004, train_cifar_cbb66_00005, train_cifar_cbb66_00006, train_cifar_cbb66_00007, train_cifar_cbb66_00008, train_cifar_cbb66_00009]\n",
      "2023-01-25 07:20:59,339\tINFO tune.py:762 -- Total run time: 8.78 seconds (8.51 seconds for the tuning loop).\n",
      "2023-01-25 07:20:59,340\tWARNING tune.py:768 -- Experiment has been interrupted, but the most recent state was saved. You can continue running this experiment by passing `resume=True` to `tune.run()`\n",
      "2023-01-25 07:20:59,351\tWARNING experiment_analysis.py:627 -- Could not find best trial. Did you pass the correct `metric` parameter?\n"
     ]
    },
    {
     "ename": "RuntimeError",
     "evalue": "ignored",
     "output_type": "error",
     "traceback": [
      "\u001b[0;31m---------------------------------------------------------------------------\u001b[0m",
      "\u001b[0;31mRuntimeError\u001b[0m                              Traceback (most recent call last)",
      "\u001b[0;32m<ipython-input-69-e972fc51d445>\u001b[0m in \u001b[0;36m<module>\u001b[0;34m\u001b[0m\n\u001b[0;32m----> 1\u001b[0;31m \u001b[0mconfig\u001b[0m \u001b[0;34m=\u001b[0m \u001b[0mmain\u001b[0m\u001b[0;34m(\u001b[0m\u001b[0mnum_samples\u001b[0m\u001b[0;34m=\u001b[0m\u001b[0;36m10\u001b[0m\u001b[0;34m,\u001b[0m \u001b[0mmax_num_epochs\u001b[0m\u001b[0;34m=\u001b[0m\u001b[0;36m50\u001b[0m\u001b[0;34m,\u001b[0m \u001b[0mgpus_per_trial\u001b[0m\u001b[0;34m=\u001b[0m\u001b[0;36m1\u001b[0m\u001b[0;34m)\u001b[0m\u001b[0;34m\u001b[0m\u001b[0;34m\u001b[0m\u001b[0m\n\u001b[0m",
      "\u001b[0;32m<ipython-input-61-023fda6c69cc>\u001b[0m in \u001b[0;36mmain\u001b[0;34m(num_samples, max_num_epochs, gpus_per_trial)\u001b[0m\n\u001b[1;32m    154\u001b[0m     \u001b[0mresults\u001b[0m \u001b[0;34m=\u001b[0m \u001b[0mtuner\u001b[0m\u001b[0;34m.\u001b[0m\u001b[0mfit\u001b[0m\u001b[0;34m(\u001b[0m\u001b[0;34m)\u001b[0m\u001b[0;34m\u001b[0m\u001b[0;34m\u001b[0m\u001b[0m\n\u001b[1;32m    155\u001b[0m \u001b[0;34m\u001b[0m\u001b[0m\n\u001b[0;32m--> 156\u001b[0;31m     \u001b[0mbest_result\u001b[0m \u001b[0;34m=\u001b[0m \u001b[0mresults\u001b[0m\u001b[0;34m.\u001b[0m\u001b[0mget_best_result\u001b[0m\u001b[0;34m(\u001b[0m\u001b[0;34m\"loss\"\u001b[0m\u001b[0;34m,\u001b[0m \u001b[0;34m\"min\"\u001b[0m\u001b[0;34m)\u001b[0m\u001b[0;34m\u001b[0m\u001b[0;34m\u001b[0m\u001b[0m\n\u001b[0m\u001b[1;32m    157\u001b[0m \u001b[0;34m\u001b[0m\u001b[0m\n\u001b[1;32m    158\u001b[0m     \u001b[0mprint\u001b[0m\u001b[0;34m(\u001b[0m\u001b[0;34m\"Best trial config: {}\"\u001b[0m\u001b[0;34m.\u001b[0m\u001b[0mformat\u001b[0m\u001b[0;34m(\u001b[0m\u001b[0mbest_result\u001b[0m\u001b[0;34m.\u001b[0m\u001b[0mconfig\u001b[0m\u001b[0;34m)\u001b[0m\u001b[0;34m)\u001b[0m\u001b[0;34m\u001b[0m\u001b[0;34m\u001b[0m\u001b[0m\n",
      "\u001b[0;32m/usr/local/lib/python3.8/dist-packages/ray/tune/result_grid.py\u001b[0m in \u001b[0;36mget_best_result\u001b[0;34m(self, metric, mode, scope, filter_nan_and_inf)\u001b[0m\n\u001b[1;32m    132\u001b[0m                 \u001b[0;32melse\u001b[0m \u001b[0;34m\".\"\u001b[0m\u001b[0;34m\u001b[0m\u001b[0;34m\u001b[0m\u001b[0m\n\u001b[1;32m    133\u001b[0m             )\n\u001b[0;32m--> 134\u001b[0;31m             \u001b[0;32mraise\u001b[0m \u001b[0mRuntimeError\u001b[0m\u001b[0;34m(\u001b[0m\u001b[0merror_msg\u001b[0m\u001b[0;34m)\u001b[0m\u001b[0;34m\u001b[0m\u001b[0;34m\u001b[0m\u001b[0m\n\u001b[0m\u001b[1;32m    135\u001b[0m \u001b[0;34m\u001b[0m\u001b[0m\n\u001b[1;32m    136\u001b[0m         \u001b[0;32mreturn\u001b[0m \u001b[0mself\u001b[0m\u001b[0;34m.\u001b[0m\u001b[0m_trial_to_result\u001b[0m\u001b[0;34m(\u001b[0m\u001b[0mbest_trial\u001b[0m\u001b[0;34m)\u001b[0m\u001b[0;34m\u001b[0m\u001b[0;34m\u001b[0m\u001b[0m\n",
      "\u001b[0;31mRuntimeError\u001b[0m: No best trial found for the given metric: loss. This means that no trial has reported this metric, or all values reported for this metric are NaN. To not ignore NaN values, you can set the `filter_nan_and_inf` arg to False."
     ]
    }
   ],
   "source": [
    "config = main(num_samples=10, max_num_epochs=50, gpus_per_trial=1)"
   ]
  },
  {
   "cell_type": "code",
   "execution_count": null,
   "metadata": {
    "id": "k5ePcF28dUMv"
   },
   "outputs": [],
   "source": [
    "\n",
    "\n",
    "model = ConvNet().to(device)\n",
    "validate_network(model, my_architecture_dict)\n",
    "\n",
    "optimizer = optim.Adam(model.parameters(), lr=config[\"lr\"], weight_decay=config[\"wd\"])\n",
    "criterion = nn.CrossEntropyLoss()\n",
    "epochs = 30\n",
    "\n",
    "\n"
   ]
  },
  {
   "cell_type": "code",
   "execution_count": null,
   "metadata": {
    "id": "08L_YP5Xyrex"
   },
   "outputs": [],
   "source": [
    "# create a directory for saving the tuned models and the training progress\n",
    "save_folder = 'drive/MyDrive/FDL_Optimized'"
   ]
  },
  {
   "cell_type": "code",
   "execution_count": null,
   "metadata": {
    "colab": {
     "base_uri": "https://localhost:8080/",
     "height": 1000
    },
    "id": "VilTopHYzcLW",
    "outputId": "bcd9162f-e392-4d3c-c108-501911b7285e"
   },
   "outputs": [
    {
     "name": "stderr",
     "output_type": "stream",
     "text": [
      "  0%|          | 2/782 [00:00<01:13, 10.66it/s]"
     ]
    },
    {
     "name": "stdout",
     "output_type": "stream",
     "text": [
      "Train (epoch 1/30) [0/782 (0%)]\tLoss: 2.302193\n"
     ]
    },
    {
     "name": "stderr",
     "output_type": "stream",
     "text": [
      " 13%|█▎        | 104/782 [00:06<00:35, 19.02it/s]"
     ]
    },
    {
     "name": "stdout",
     "output_type": "stream",
     "text": [
      "Train (epoch 1/30) [100/782 (13%)]\tLoss: 2.302238\n"
     ]
    },
    {
     "name": "stderr",
     "output_type": "stream",
     "text": [
      " 26%|██▌       | 204/782 [00:12<00:31, 18.44it/s]"
     ]
    },
    {
     "name": "stdout",
     "output_type": "stream",
     "text": [
      "Train (epoch 1/30) [200/782 (26%)]\tLoss: 2.302437\n"
     ]
    },
    {
     "name": "stderr",
     "output_type": "stream",
     "text": [
      " 39%|███▉      | 304/782 [00:17<00:25, 18.91it/s]"
     ]
    },
    {
     "name": "stdout",
     "output_type": "stream",
     "text": [
      "Train (epoch 1/30) [300/782 (38%)]\tLoss: 2.303431\n"
     ]
    },
    {
     "name": "stderr",
     "output_type": "stream",
     "text": [
      " 52%|█████▏    | 404/782 [00:22<00:20, 18.66it/s]"
     ]
    },
    {
     "name": "stdout",
     "output_type": "stream",
     "text": [
      "Train (epoch 1/30) [400/782 (51%)]\tLoss: 2.307433\n"
     ]
    },
    {
     "name": "stderr",
     "output_type": "stream",
     "text": [
      " 64%|██████▍   | 504/782 [00:28<00:14, 18.92it/s]"
     ]
    },
    {
     "name": "stdout",
     "output_type": "stream",
     "text": [
      "Train (epoch 1/30) [500/782 (64%)]\tLoss: 2.303376\n"
     ]
    },
    {
     "name": "stderr",
     "output_type": "stream",
     "text": [
      " 77%|███████▋  | 604/782 [00:33<00:09, 18.49it/s]"
     ]
    },
    {
     "name": "stdout",
     "output_type": "stream",
     "text": [
      "Train (epoch 1/30) [600/782 (77%)]\tLoss: 2.304129\n"
     ]
    },
    {
     "name": "stderr",
     "output_type": "stream",
     "text": [
      " 90%|█████████ | 704/782 [00:38<00:04, 18.35it/s]"
     ]
    },
    {
     "name": "stdout",
     "output_type": "stream",
     "text": [
      "Train (epoch 1/30) [700/782 (90%)]\tLoss: 2.303474\n"
     ]
    },
    {
     "name": "stderr",
     "output_type": "stream",
     "text": [
      "100%|██████████| 782/782 [00:42<00:00, 18.25it/s]\n",
      "100%|██████████| 157/157 [00:04<00:00, 33.55it/s]\n"
     ]
    },
    {
     "name": "stdout",
     "output_type": "stream",
     "text": [
      "Confusion Matrix:\n",
      "[[   0    0    0    0    0    0 1000    0    0    0]\n",
      " [   0    0    0    0    0    0 1000    0    0    0]\n",
      " [   0    0    0    0    0    0 1000    0    0    0]\n",
      " [   0    0    0    0    0    0 1000    0    0    0]\n",
      " [   0    0    0    0    0    0 1000    0    0    0]\n",
      " [   0    0    0    0    0    0 1000    0    0    0]\n",
      " [   0    0    0    0    0    0 1000    0    0    0]\n",
      " [   0    0    0    0    0    0 1000    0    0    0]\n",
      " [   0    0    0    0    0    0 1000    0    0    0]\n",
      " [   0    0    0    0    0    0 1000    0    0    0]]\n",
      "TRAIN_LOSS:  2.303 TRAIN_ACC:  9.772\n",
      "VAL_LOSS:  2.303 VAL_ACC:  10.000\n"
     ]
    },
    {
     "name": "stderr",
     "output_type": "stream",
     "text": [
      "  0%|          | 2/782 [00:00<00:57, 13.65it/s]"
     ]
    },
    {
     "name": "stdout",
     "output_type": "stream",
     "text": [
      "Train (epoch 2/30) [0/782 (0%)]\tLoss: 2.299362\n"
     ]
    },
    {
     "name": "stderr",
     "output_type": "stream",
     "text": [
      " 13%|█▎        | 102/782 [00:07<00:51, 13.21it/s]"
     ]
    },
    {
     "name": "stdout",
     "output_type": "stream",
     "text": [
      "Train (epoch 2/30) [100/782 (13%)]\tLoss: 2.302965\n"
     ]
    },
    {
     "name": "stderr",
     "output_type": "stream",
     "text": [
      " 26%|██▌       | 204/782 [00:13<00:34, 16.56it/s]"
     ]
    },
    {
     "name": "stdout",
     "output_type": "stream",
     "text": [
      "Train (epoch 2/30) [200/782 (26%)]\tLoss: 2.303008\n"
     ]
    },
    {
     "name": "stderr",
     "output_type": "stream",
     "text": [
      " 39%|███▉      | 304/782 [00:18<00:24, 19.15it/s]"
     ]
    },
    {
     "name": "stdout",
     "output_type": "stream",
     "text": [
      "Train (epoch 2/30) [300/782 (38%)]\tLoss: 2.301634\n"
     ]
    },
    {
     "name": "stderr",
     "output_type": "stream",
     "text": [
      " 52%|█████▏    | 404/782 [00:24<00:20, 18.80it/s]"
     ]
    },
    {
     "name": "stdout",
     "output_type": "stream",
     "text": [
      "Train (epoch 2/30) [400/782 (51%)]\tLoss: 2.302450\n"
     ]
    },
    {
     "name": "stderr",
     "output_type": "stream",
     "text": [
      " 64%|██████▍   | 504/782 [00:29<00:14, 19.05it/s]"
     ]
    },
    {
     "name": "stdout",
     "output_type": "stream",
     "text": [
      "Train (epoch 2/30) [500/782 (64%)]\tLoss: 2.301650\n"
     ]
    },
    {
     "name": "stderr",
     "output_type": "stream",
     "text": [
      " 77%|███████▋  | 604/782 [00:35<00:09, 18.59it/s]"
     ]
    },
    {
     "name": "stdout",
     "output_type": "stream",
     "text": [
      "Train (epoch 2/30) [600/782 (77%)]\tLoss: 2.303674\n"
     ]
    },
    {
     "name": "stderr",
     "output_type": "stream",
     "text": [
      " 90%|█████████ | 704/782 [00:41<00:04, 18.64it/s]"
     ]
    },
    {
     "name": "stdout",
     "output_type": "stream",
     "text": [
      "Train (epoch 2/30) [700/782 (90%)]\tLoss: 2.302819\n"
     ]
    },
    {
     "name": "stderr",
     "output_type": "stream",
     "text": [
      "100%|██████████| 782/782 [00:46<00:00, 16.99it/s]\n",
      "100%|██████████| 157/157 [00:04<00:00, 38.40it/s]\n"
     ]
    },
    {
     "name": "stdout",
     "output_type": "stream",
     "text": [
      "Confusion Matrix:\n",
      "[[   0    0    0    0    0    0    0    0    0 1000]\n",
      " [   0    0    0    0    0    0    0    0    0 1000]\n",
      " [   0    0    0    0    0    0    0    0    0 1000]\n",
      " [   0    0    0    0    0    0    0    0    0 1000]\n",
      " [   0    0    0    0    0    0    0    0    0 1000]\n",
      " [   0    0    0    0    0    0    0    0    0 1000]\n",
      " [   0    0    0    0    0    0    0    0    0 1000]\n",
      " [   0    0    0    0    0    0    0    0    0 1000]\n",
      " [   0    0    0    0    0    0    0    0    0 1000]\n",
      " [   0    0    0    0    0    0    0    0    0 1000]]\n",
      "TRAIN_LOSS:  2.303 TRAIN_ACC:  9.822\n",
      "VAL_LOSS:  2.303 VAL_ACC:  10.000\n"
     ]
    },
    {
     "name": "stderr",
     "output_type": "stream",
     "text": [
      "  1%|          | 4/782 [00:00<00:43, 17.98it/s]"
     ]
    },
    {
     "name": "stdout",
     "output_type": "stream",
     "text": [
      "Train (epoch 3/30) [0/782 (0%)]\tLoss: 2.301842\n"
     ]
    },
    {
     "name": "stderr",
     "output_type": "stream",
     "text": [
      " 13%|█▎        | 104/782 [00:05<00:35, 18.88it/s]"
     ]
    },
    {
     "name": "stdout",
     "output_type": "stream",
     "text": [
      "Train (epoch 3/30) [100/782 (13%)]\tLoss: 2.302358\n"
     ]
    },
    {
     "name": "stderr",
     "output_type": "stream",
     "text": [
      " 26%|██▌       | 204/782 [00:10<00:30, 19.11it/s]"
     ]
    },
    {
     "name": "stdout",
     "output_type": "stream",
     "text": [
      "Train (epoch 3/30) [200/782 (26%)]\tLoss: 2.299832\n"
     ]
    },
    {
     "name": "stderr",
     "output_type": "stream",
     "text": [
      " 39%|███▉      | 304/782 [00:16<00:25, 18.40it/s]"
     ]
    },
    {
     "name": "stdout",
     "output_type": "stream",
     "text": [
      "Train (epoch 3/30) [300/782 (38%)]\tLoss: 2.304015\n"
     ]
    },
    {
     "name": "stderr",
     "output_type": "stream",
     "text": [
      " 52%|█████▏    | 404/782 [00:21<00:20, 18.60it/s]"
     ]
    },
    {
     "name": "stdout",
     "output_type": "stream",
     "text": [
      "Train (epoch 3/30) [400/782 (51%)]\tLoss: 2.304079\n"
     ]
    },
    {
     "name": "stderr",
     "output_type": "stream",
     "text": [
      " 64%|██████▍   | 504/782 [00:26<00:14, 18.73it/s]"
     ]
    },
    {
     "name": "stdout",
     "output_type": "stream",
     "text": [
      "Train (epoch 3/30) [500/782 (64%)]\tLoss: 2.302287\n"
     ]
    },
    {
     "name": "stderr",
     "output_type": "stream",
     "text": [
      " 77%|███████▋  | 604/782 [00:32<00:09, 19.04it/s]"
     ]
    },
    {
     "name": "stdout",
     "output_type": "stream",
     "text": [
      "Train (epoch 3/30) [600/782 (77%)]\tLoss: 2.300954\n"
     ]
    },
    {
     "name": "stderr",
     "output_type": "stream",
     "text": [
      " 90%|█████████ | 704/782 [00:37<00:04, 19.30it/s]"
     ]
    },
    {
     "name": "stdout",
     "output_type": "stream",
     "text": [
      "Train (epoch 3/30) [700/782 (90%)]\tLoss: 2.303886\n"
     ]
    },
    {
     "name": "stderr",
     "output_type": "stream",
     "text": [
      "100%|██████████| 782/782 [00:41<00:00, 18.87it/s]\n",
      "100%|██████████| 157/157 [00:04<00:00, 38.71it/s]\n"
     ]
    },
    {
     "name": "stdout",
     "output_type": "stream",
     "text": [
      "Confusion Matrix:\n",
      "[[   0 1000    0    0    0    0    0    0    0    0]\n",
      " [   0 1000    0    0    0    0    0    0    0    0]\n",
      " [   0 1000    0    0    0    0    0    0    0    0]\n",
      " [   0 1000    0    0    0    0    0    0    0    0]\n",
      " [   0 1000    0    0    0    0    0    0    0    0]\n",
      " [   0 1000    0    0    0    0    0    0    0    0]\n",
      " [   0 1000    0    0    0    0    0    0    0    0]\n",
      " [   0 1000    0    0    0    0    0    0    0    0]\n",
      " [   0 1000    0    0    0    0    0    0    0    0]\n",
      " [   0 1000    0    0    0    0    0    0    0    0]]\n",
      "TRAIN_LOSS:  2.303 TRAIN_ACC:  10.034\n",
      "VAL_LOSS:  2.303 VAL_ACC:  10.000\n"
     ]
    },
    {
     "name": "stderr",
     "output_type": "stream",
     "text": [
      "  1%|          | 4/782 [00:00<00:42, 18.23it/s]"
     ]
    },
    {
     "name": "stdout",
     "output_type": "stream",
     "text": [
      "Train (epoch 4/30) [0/782 (0%)]\tLoss: 2.301964\n"
     ]
    },
    {
     "name": "stderr",
     "output_type": "stream",
     "text": [
      " 13%|█▎        | 104/782 [00:05<00:35, 19.04it/s]"
     ]
    },
    {
     "name": "stdout",
     "output_type": "stream",
     "text": [
      "Train (epoch 4/30) [100/782 (13%)]\tLoss: 2.303181\n"
     ]
    },
    {
     "name": "stderr",
     "output_type": "stream",
     "text": [
      " 26%|██▌       | 204/782 [00:10<00:30, 18.80it/s]"
     ]
    },
    {
     "name": "stdout",
     "output_type": "stream",
     "text": [
      "Train (epoch 4/30) [200/782 (26%)]\tLoss: 2.304184\n"
     ]
    },
    {
     "name": "stderr",
     "output_type": "stream",
     "text": [
      " 39%|███▉      | 304/782 [00:16<00:25, 18.96it/s]"
     ]
    },
    {
     "name": "stdout",
     "output_type": "stream",
     "text": [
      "Train (epoch 4/30) [300/782 (38%)]\tLoss: 2.302753\n"
     ]
    },
    {
     "name": "stderr",
     "output_type": "stream",
     "text": [
      " 52%|█████▏    | 404/782 [00:21<00:19, 18.93it/s]"
     ]
    },
    {
     "name": "stdout",
     "output_type": "stream",
     "text": [
      "Train (epoch 4/30) [400/782 (51%)]\tLoss: 2.300383\n"
     ]
    },
    {
     "name": "stderr",
     "output_type": "stream",
     "text": [
      " 64%|██████▍   | 504/782 [00:26<00:14, 19.00it/s]"
     ]
    },
    {
     "name": "stdout",
     "output_type": "stream",
     "text": [
      "Train (epoch 4/30) [500/782 (64%)]\tLoss: 2.304416\n"
     ]
    },
    {
     "name": "stderr",
     "output_type": "stream",
     "text": [
      " 77%|███████▋  | 604/782 [00:32<00:09, 19.10it/s]"
     ]
    },
    {
     "name": "stdout",
     "output_type": "stream",
     "text": [
      "Train (epoch 4/30) [600/782 (77%)]\tLoss: 2.303706\n"
     ]
    },
    {
     "name": "stderr",
     "output_type": "stream",
     "text": [
      " 90%|█████████ | 704/782 [00:37<00:04, 19.08it/s]"
     ]
    },
    {
     "name": "stdout",
     "output_type": "stream",
     "text": [
      "Train (epoch 4/30) [700/782 (90%)]\tLoss: 2.300373\n"
     ]
    },
    {
     "name": "stderr",
     "output_type": "stream",
     "text": [
      "100%|██████████| 782/782 [00:41<00:00, 18.76it/s]\n",
      "100%|██████████| 157/157 [00:04<00:00, 38.10it/s]\n"
     ]
    },
    {
     "name": "stdout",
     "output_type": "stream",
     "text": [
      "Confusion Matrix:\n",
      "[[   0    0    0    0    0 1000    0    0    0    0]\n",
      " [   0    0    0    0    0 1000    0    0    0    0]\n",
      " [   0    0    0    0    0 1000    0    0    0    0]\n",
      " [   0    0    0    0    0 1000    0    0    0    0]\n",
      " [   0    0    0    0    0 1000    0    0    0    0]\n",
      " [   0    0    0    0    0 1000    0    0    0    0]\n",
      " [   0    0    0    0    0 1000    0    0    0    0]\n",
      " [   0    0    0    0    0 1000    0    0    0    0]\n",
      " [   0    0    0    0    0 1000    0    0    0    0]\n",
      " [   0    0    0    0    0 1000    0    0    0    0]]\n",
      "TRAIN_LOSS:  2.303 TRAIN_ACC:  9.834\n",
      "VAL_LOSS:  2.303 VAL_ACC:  10.000\n"
     ]
    },
    {
     "name": "stderr",
     "output_type": "stream",
     "text": [
      "  1%|          | 4/782 [00:00<00:43, 17.86it/s]"
     ]
    },
    {
     "name": "stdout",
     "output_type": "stream",
     "text": [
      "Train (epoch 5/30) [0/782 (0%)]\tLoss: 2.304979\n"
     ]
    },
    {
     "name": "stderr",
     "output_type": "stream",
     "text": [
      " 13%|█▎        | 104/782 [00:05<00:36, 18.48it/s]"
     ]
    },
    {
     "name": "stdout",
     "output_type": "stream",
     "text": [
      "Train (epoch 5/30) [100/782 (13%)]\tLoss: 2.299936\n"
     ]
    },
    {
     "name": "stderr",
     "output_type": "stream",
     "text": [
      " 26%|██▌       | 204/782 [00:11<00:31, 18.53it/s]"
     ]
    },
    {
     "name": "stdout",
     "output_type": "stream",
     "text": [
      "Train (epoch 5/30) [200/782 (26%)]\tLoss: 2.303385\n"
     ]
    },
    {
     "name": "stderr",
     "output_type": "stream",
     "text": [
      " 39%|███▉      | 304/782 [00:16<00:25, 19.07it/s]"
     ]
    },
    {
     "name": "stdout",
     "output_type": "stream",
     "text": [
      "Train (epoch 5/30) [300/782 (38%)]\tLoss: 2.301735\n"
     ]
    },
    {
     "name": "stderr",
     "output_type": "stream",
     "text": [
      " 52%|█████▏    | 404/782 [00:21<00:19, 19.26it/s]"
     ]
    },
    {
     "name": "stdout",
     "output_type": "stream",
     "text": [
      "Train (epoch 5/30) [400/782 (51%)]\tLoss: 2.299996\n"
     ]
    },
    {
     "name": "stderr",
     "output_type": "stream",
     "text": [
      " 64%|██████▍   | 504/782 [00:26<00:14, 18.76it/s]"
     ]
    },
    {
     "name": "stdout",
     "output_type": "stream",
     "text": [
      "Train (epoch 5/30) [500/782 (64%)]\tLoss: 2.301296\n"
     ]
    },
    {
     "name": "stderr",
     "output_type": "stream",
     "text": [
      " 77%|███████▋  | 604/782 [00:32<00:09, 19.09it/s]"
     ]
    },
    {
     "name": "stdout",
     "output_type": "stream",
     "text": [
      "Train (epoch 5/30) [600/782 (77%)]\tLoss: 2.303774\n"
     ]
    },
    {
     "name": "stderr",
     "output_type": "stream",
     "text": [
      " 90%|█████████ | 704/782 [00:37<00:04, 19.15it/s]"
     ]
    },
    {
     "name": "stdout",
     "output_type": "stream",
     "text": [
      "Train (epoch 5/30) [700/782 (90%)]\tLoss: 2.301739\n"
     ]
    },
    {
     "name": "stderr",
     "output_type": "stream",
     "text": [
      "100%|██████████| 782/782 [00:41<00:00, 18.78it/s]\n",
      "100%|██████████| 157/157 [00:04<00:00, 38.63it/s]\n"
     ]
    },
    {
     "name": "stdout",
     "output_type": "stream",
     "text": [
      "Confusion Matrix:\n",
      "[[   0    0    0    0    0    0    0 1000    0    0]\n",
      " [   0    0    0    0    0    0    0 1000    0    0]\n",
      " [   0    0    0    0    0    0    0 1000    0    0]\n",
      " [   0    0    0    0    0    0    0 1000    0    0]\n",
      " [   0    0    0    0    0    0    0 1000    0    0]\n",
      " [   0    0    0    0    0    0    0 1000    0    0]\n",
      " [   0    0    0    0    0    0    0 1000    0    0]\n",
      " [   0    0    0    0    0    0    0 1000    0    0]\n",
      " [   0    0    0    0    0    0    0 1000    0    0]\n",
      " [   0    0    0    0    0    0    0 1000    0    0]]\n",
      "TRAIN_LOSS:  2.303 TRAIN_ACC:  9.756\n",
      "VAL_LOSS:  2.303 VAL_ACC:  10.000\n"
     ]
    },
    {
     "name": "stderr",
     "output_type": "stream",
     "text": [
      "  1%|          | 4/782 [00:00<00:45, 17.21it/s]"
     ]
    },
    {
     "name": "stdout",
     "output_type": "stream",
     "text": [
      "Train (epoch 6/30) [0/782 (0%)]\tLoss: 2.305227\n"
     ]
    },
    {
     "name": "stderr",
     "output_type": "stream",
     "text": [
      " 13%|█▎        | 104/782 [00:05<00:36, 18.61it/s]"
     ]
    },
    {
     "name": "stdout",
     "output_type": "stream",
     "text": [
      "Train (epoch 6/30) [100/782 (13%)]\tLoss: 2.303358\n"
     ]
    },
    {
     "name": "stderr",
     "output_type": "stream",
     "text": [
      " 26%|██▌       | 204/782 [00:10<00:30, 19.02it/s]"
     ]
    },
    {
     "name": "stdout",
     "output_type": "stream",
     "text": [
      "Train (epoch 6/30) [200/782 (26%)]\tLoss: 2.303933\n"
     ]
    },
    {
     "name": "stderr",
     "output_type": "stream",
     "text": [
      " 39%|███▉      | 304/782 [00:16<00:25, 18.94it/s]"
     ]
    },
    {
     "name": "stdout",
     "output_type": "stream",
     "text": [
      "Train (epoch 6/30) [300/782 (38%)]\tLoss: 2.303636\n"
     ]
    },
    {
     "name": "stderr",
     "output_type": "stream",
     "text": [
      " 52%|█████▏    | 404/782 [00:21<00:20, 18.71it/s]"
     ]
    },
    {
     "name": "stdout",
     "output_type": "stream",
     "text": [
      "Train (epoch 6/30) [400/782 (51%)]\tLoss: 2.303364\n"
     ]
    },
    {
     "name": "stderr",
     "output_type": "stream",
     "text": [
      " 64%|██████▍   | 504/782 [00:26<00:14, 18.92it/s]"
     ]
    },
    {
     "name": "stdout",
     "output_type": "stream",
     "text": [
      "Train (epoch 6/30) [500/782 (64%)]\tLoss: 2.301416\n"
     ]
    },
    {
     "name": "stderr",
     "output_type": "stream",
     "text": [
      " 77%|███████▋  | 604/782 [00:32<00:09, 18.98it/s]"
     ]
    },
    {
     "name": "stdout",
     "output_type": "stream",
     "text": [
      "Train (epoch 6/30) [600/782 (77%)]\tLoss: 2.303310\n"
     ]
    },
    {
     "name": "stderr",
     "output_type": "stream",
     "text": [
      " 90%|█████████ | 704/782 [00:37<00:04, 18.94it/s]"
     ]
    },
    {
     "name": "stdout",
     "output_type": "stream",
     "text": [
      "Train (epoch 6/30) [700/782 (90%)]\tLoss: 2.301811\n"
     ]
    },
    {
     "name": "stderr",
     "output_type": "stream",
     "text": [
      "100%|██████████| 782/782 [00:41<00:00, 18.83it/s]\n",
      "100%|██████████| 157/157 [00:04<00:00, 38.09it/s]\n"
     ]
    },
    {
     "name": "stdout",
     "output_type": "stream",
     "text": [
      "Confusion Matrix:\n",
      "[[   0 1000    0    0    0    0    0    0    0    0]\n",
      " [   0 1000    0    0    0    0    0    0    0    0]\n",
      " [   0 1000    0    0    0    0    0    0    0    0]\n",
      " [   0 1000    0    0    0    0    0    0    0    0]\n",
      " [   0 1000    0    0    0    0    0    0    0    0]\n",
      " [   0 1000    0    0    0    0    0    0    0    0]\n",
      " [   0 1000    0    0    0    0    0    0    0    0]\n",
      " [   0 1000    0    0    0    0    0    0    0    0]\n",
      " [   0 1000    0    0    0    0    0    0    0    0]\n",
      " [   0 1000    0    0    0    0    0    0    0    0]]\n",
      "TRAIN_LOSS:  2.303 TRAIN_ACC:  9.902\n",
      "VAL_LOSS:  2.303 VAL_ACC:  10.000\n"
     ]
    },
    {
     "name": "stderr",
     "output_type": "stream",
     "text": [
      "  1%|          | 4/782 [00:00<00:44, 17.64it/s]"
     ]
    },
    {
     "name": "stdout",
     "output_type": "stream",
     "text": [
      "Train (epoch 7/30) [0/782 (0%)]\tLoss: 2.303297\n"
     ]
    },
    {
     "name": "stderr",
     "output_type": "stream",
     "text": [
      " 13%|█▎        | 104/782 [00:05<00:37, 18.13it/s]"
     ]
    },
    {
     "name": "stdout",
     "output_type": "stream",
     "text": [
      "Train (epoch 7/30) [100/782 (13%)]\tLoss: 2.299960\n"
     ]
    },
    {
     "name": "stderr",
     "output_type": "stream",
     "text": [
      " 26%|██▌       | 204/782 [00:10<00:30, 18.72it/s]"
     ]
    },
    {
     "name": "stdout",
     "output_type": "stream",
     "text": [
      "Train (epoch 7/30) [200/782 (26%)]\tLoss: 2.302737\n"
     ]
    },
    {
     "name": "stderr",
     "output_type": "stream",
     "text": [
      " 39%|███▉      | 304/782 [00:16<00:25, 19.00it/s]"
     ]
    },
    {
     "name": "stdout",
     "output_type": "stream",
     "text": [
      "Train (epoch 7/30) [300/782 (38%)]\tLoss: 2.301899\n"
     ]
    },
    {
     "name": "stderr",
     "output_type": "stream",
     "text": [
      " 52%|█████▏    | 404/782 [00:21<00:19, 19.05it/s]"
     ]
    },
    {
     "name": "stdout",
     "output_type": "stream",
     "text": [
      "Train (epoch 7/30) [400/782 (51%)]\tLoss: 2.303201\n"
     ]
    },
    {
     "name": "stderr",
     "output_type": "stream",
     "text": [
      " 64%|██████▍   | 504/782 [00:26<00:14, 18.81it/s]"
     ]
    },
    {
     "name": "stdout",
     "output_type": "stream",
     "text": [
      "Train (epoch 7/30) [500/782 (64%)]\tLoss: 2.301946\n"
     ]
    },
    {
     "name": "stderr",
     "output_type": "stream",
     "text": [
      " 77%|███████▋  | 604/782 [00:32<00:09, 19.07it/s]"
     ]
    },
    {
     "name": "stdout",
     "output_type": "stream",
     "text": [
      "Train (epoch 7/30) [600/782 (77%)]\tLoss: 2.303713\n"
     ]
    },
    {
     "name": "stderr",
     "output_type": "stream",
     "text": [
      " 90%|█████████ | 704/782 [00:37<00:04, 19.22it/s]"
     ]
    },
    {
     "name": "stdout",
     "output_type": "stream",
     "text": [
      "Train (epoch 7/30) [700/782 (90%)]\tLoss: 2.300820\n"
     ]
    },
    {
     "name": "stderr",
     "output_type": "stream",
     "text": [
      "100%|██████████| 782/782 [00:42<00:00, 18.59it/s]\n",
      "100%|██████████| 157/157 [00:06<00:00, 23.67it/s]\n"
     ]
    },
    {
     "name": "stdout",
     "output_type": "stream",
     "text": [
      "Confusion Matrix:\n",
      "[[   0    0    0    0 1000    0    0    0    0    0]\n",
      " [   0    0    0    0 1000    0    0    0    0    0]\n",
      " [   0    0    0    0 1000    0    0    0    0    0]\n",
      " [   0    0    0    0 1000    0    0    0    0    0]\n",
      " [   0    0    0    0 1000    0    0    0    0    0]\n",
      " [   0    0    0    0 1000    0    0    0    0    0]\n",
      " [   0    0    0    0 1000    0    0    0    0    0]\n",
      " [   0    0    0    0 1000    0    0    0    0    0]\n",
      " [   0    0    0    0 1000    0    0    0    0    0]\n",
      " [   0    0    0    0 1000    0    0    0    0    0]]\n",
      "TRAIN_LOSS:  2.303 TRAIN_ACC:  9.886\n",
      "VAL_LOSS:  2.303 VAL_ACC:  10.000\n"
     ]
    },
    {
     "name": "stderr",
     "output_type": "stream",
     "text": [
      "  0%|          | 3/782 [00:00<01:15, 10.33it/s]"
     ]
    },
    {
     "name": "stdout",
     "output_type": "stream",
     "text": [
      "Train (epoch 8/30) [0/782 (0%)]\tLoss: 2.303128\n"
     ]
    },
    {
     "name": "stderr",
     "output_type": "stream",
     "text": [
      " 13%|█▎        | 103/782 [00:06<00:36, 18.57it/s]"
     ]
    },
    {
     "name": "stdout",
     "output_type": "stream",
     "text": [
      "Train (epoch 8/30) [100/782 (13%)]\tLoss: 2.301330\n"
     ]
    },
    {
     "name": "stderr",
     "output_type": "stream",
     "text": [
      " 26%|██▌       | 203/782 [00:11<00:30, 19.06it/s]"
     ]
    },
    {
     "name": "stdout",
     "output_type": "stream",
     "text": [
      "Train (epoch 8/30) [200/782 (26%)]\tLoss: 2.300931\n"
     ]
    },
    {
     "name": "stderr",
     "output_type": "stream",
     "text": [
      " 39%|███▊      | 303/782 [00:16<00:25, 18.83it/s]"
     ]
    },
    {
     "name": "stdout",
     "output_type": "stream",
     "text": [
      "Train (epoch 8/30) [300/782 (38%)]\tLoss: 2.300480\n"
     ]
    },
    {
     "name": "stderr",
     "output_type": "stream",
     "text": [
      " 52%|█████▏    | 403/782 [00:22<00:19, 19.01it/s]"
     ]
    },
    {
     "name": "stdout",
     "output_type": "stream",
     "text": [
      "Train (epoch 8/30) [400/782 (51%)]\tLoss: 2.300058\n"
     ]
    },
    {
     "name": "stderr",
     "output_type": "stream",
     "text": [
      " 64%|██████▍   | 503/782 [00:27<00:14, 18.98it/s]"
     ]
    },
    {
     "name": "stdout",
     "output_type": "stream",
     "text": [
      "Train (epoch 8/30) [500/782 (64%)]\tLoss: 2.302372\n"
     ]
    },
    {
     "name": "stderr",
     "output_type": "stream",
     "text": [
      " 77%|███████▋  | 603/782 [00:32<00:09, 18.92it/s]"
     ]
    },
    {
     "name": "stdout",
     "output_type": "stream",
     "text": [
      "Train (epoch 8/30) [600/782 (77%)]\tLoss: 2.301577\n"
     ]
    },
    {
     "name": "stderr",
     "output_type": "stream",
     "text": [
      " 90%|████████▉ | 703/782 [00:38<00:04, 18.71it/s]"
     ]
    },
    {
     "name": "stdout",
     "output_type": "stream",
     "text": [
      "Train (epoch 8/30) [700/782 (90%)]\tLoss: 2.302774\n"
     ]
    },
    {
     "name": "stderr",
     "output_type": "stream",
     "text": [
      "100%|██████████| 782/782 [00:42<00:00, 18.49it/s]\n",
      "100%|██████████| 157/157 [00:04<00:00, 37.96it/s]\n"
     ]
    },
    {
     "name": "stdout",
     "output_type": "stream",
     "text": [
      "Confusion Matrix:\n",
      "[[   0    0    0    0    0    0    0    0    0 1000]\n",
      " [   0    0    0    0    0    0    0    0    0 1000]\n",
      " [   0    0    0    0    0    0    0    0    0 1000]\n",
      " [   0    0    0    0    0    0    0    0    0 1000]\n",
      " [   0    0    0    0    0    0    0    0    0 1000]\n",
      " [   0    0    0    0    0    0    0    0    0 1000]\n",
      " [   0    0    0    0    0    0    0    0    0 1000]\n",
      " [   0    0    0    0    0    0    0    0    0 1000]\n",
      " [   0    0    0    0    0    0    0    0    0 1000]\n",
      " [   0    0    0    0    0    0    0    0    0 1000]]\n",
      "TRAIN_LOSS:  2.303 TRAIN_ACC:  9.740\n",
      "VAL_LOSS:  2.303 VAL_ACC:  10.000\n"
     ]
    },
    {
     "name": "stderr",
     "output_type": "stream",
     "text": [
      "  1%|          | 4/782 [00:00<00:46, 16.83it/s]"
     ]
    },
    {
     "name": "stdout",
     "output_type": "stream",
     "text": [
      "Train (epoch 9/30) [0/782 (0%)]\tLoss: 2.302475\n"
     ]
    },
    {
     "name": "stderr",
     "output_type": "stream",
     "text": [
      " 13%|█▎        | 104/782 [00:05<00:36, 18.83it/s]"
     ]
    },
    {
     "name": "stdout",
     "output_type": "stream",
     "text": [
      "Train (epoch 9/30) [100/782 (13%)]\tLoss: 2.307127\n"
     ]
    },
    {
     "name": "stderr",
     "output_type": "stream",
     "text": [
      " 26%|██▌       | 204/782 [00:10<00:30, 18.98it/s]"
     ]
    },
    {
     "name": "stdout",
     "output_type": "stream",
     "text": [
      "Train (epoch 9/30) [200/782 (26%)]\tLoss: 2.301209\n"
     ]
    },
    {
     "name": "stderr",
     "output_type": "stream",
     "text": [
      " 39%|███▉      | 304/782 [00:16<00:25, 18.98it/s]"
     ]
    },
    {
     "name": "stdout",
     "output_type": "stream",
     "text": [
      "Train (epoch 9/30) [300/782 (38%)]\tLoss: 2.302176\n"
     ]
    },
    {
     "name": "stderr",
     "output_type": "stream",
     "text": [
      " 52%|█████▏    | 404/782 [00:21<00:20, 18.49it/s]"
     ]
    },
    {
     "name": "stdout",
     "output_type": "stream",
     "text": [
      "Train (epoch 9/30) [400/782 (51%)]\tLoss: 2.303410\n"
     ]
    },
    {
     "name": "stderr",
     "output_type": "stream",
     "text": [
      " 64%|██████▍   | 504/782 [00:26<00:14, 18.92it/s]"
     ]
    },
    {
     "name": "stdout",
     "output_type": "stream",
     "text": [
      "Train (epoch 9/30) [500/782 (64%)]\tLoss: 2.302767\n"
     ]
    },
    {
     "name": "stderr",
     "output_type": "stream",
     "text": [
      " 77%|███████▋  | 604/782 [00:32<00:09, 18.76it/s]"
     ]
    },
    {
     "name": "stdout",
     "output_type": "stream",
     "text": [
      "Train (epoch 9/30) [600/782 (77%)]\tLoss: 2.303048\n"
     ]
    },
    {
     "name": "stderr",
     "output_type": "stream",
     "text": [
      " 90%|█████████ | 704/782 [00:37<00:04, 18.93it/s]"
     ]
    },
    {
     "name": "stdout",
     "output_type": "stream",
     "text": [
      "Train (epoch 9/30) [700/782 (90%)]\tLoss: 2.302979\n"
     ]
    },
    {
     "name": "stderr",
     "output_type": "stream",
     "text": [
      "100%|██████████| 782/782 [00:41<00:00, 18.80it/s]\n",
      "100%|██████████| 157/157 [00:04<00:00, 38.31it/s]\n"
     ]
    },
    {
     "name": "stdout",
     "output_type": "stream",
     "text": [
      "Confusion Matrix:\n",
      "[[   0    0 1000    0    0    0    0    0    0    0]\n",
      " [   0    0 1000    0    0    0    0    0    0    0]\n",
      " [   0    0 1000    0    0    0    0    0    0    0]\n",
      " [   0    0 1000    0    0    0    0    0    0    0]\n",
      " [   0    0 1000    0    0    0    0    0    0    0]\n",
      " [   0    0 1000    0    0    0    0    0    0    0]\n",
      " [   0    0 1000    0    0    0    0    0    0    0]\n",
      " [   0    0 1000    0    0    0    0    0    0    0]\n",
      " [   0    0 1000    0    0    0    0    0    0    0]\n",
      " [   0    0 1000    0    0    0    0    0    0    0]]\n",
      "TRAIN_LOSS:  2.303 TRAIN_ACC:  9.846\n",
      "VAL_LOSS:  2.303 VAL_ACC:  10.000\n"
     ]
    },
    {
     "name": "stderr",
     "output_type": "stream",
     "text": [
      "  1%|          | 4/782 [00:00<00:44, 17.54it/s]"
     ]
    },
    {
     "name": "stdout",
     "output_type": "stream",
     "text": [
      "Train (epoch 10/30) [0/782 (0%)]\tLoss: 2.301875\n"
     ]
    },
    {
     "name": "stderr",
     "output_type": "stream",
     "text": [
      " 13%|█▎        | 104/782 [00:05<00:36, 18.68it/s]"
     ]
    },
    {
     "name": "stdout",
     "output_type": "stream",
     "text": [
      "Train (epoch 10/30) [100/782 (13%)]\tLoss: 2.304966\n"
     ]
    },
    {
     "name": "stderr",
     "output_type": "stream",
     "text": [
      " 26%|██▌       | 204/782 [00:11<00:30, 18.88it/s]"
     ]
    },
    {
     "name": "stdout",
     "output_type": "stream",
     "text": [
      "Train (epoch 10/30) [200/782 (26%)]\tLoss: 2.301909\n"
     ]
    },
    {
     "name": "stderr",
     "output_type": "stream",
     "text": [
      " 39%|███▉      | 304/782 [00:16<00:25, 19.04it/s]"
     ]
    },
    {
     "name": "stdout",
     "output_type": "stream",
     "text": [
      "Train (epoch 10/30) [300/782 (38%)]\tLoss: 2.301756\n"
     ]
    },
    {
     "name": "stderr",
     "output_type": "stream",
     "text": [
      " 52%|█████▏    | 404/782 [00:21<00:19, 19.03it/s]"
     ]
    },
    {
     "name": "stdout",
     "output_type": "stream",
     "text": [
      "Train (epoch 10/30) [400/782 (51%)]\tLoss: 2.298429\n"
     ]
    },
    {
     "name": "stderr",
     "output_type": "stream",
     "text": [
      " 64%|██████▍   | 504/782 [00:26<00:14, 18.85it/s]"
     ]
    },
    {
     "name": "stdout",
     "output_type": "stream",
     "text": [
      "Train (epoch 10/30) [500/782 (64%)]\tLoss: 2.300313\n"
     ]
    },
    {
     "name": "stderr",
     "output_type": "stream",
     "text": [
      " 77%|███████▋  | 604/782 [00:32<00:09, 19.19it/s]"
     ]
    },
    {
     "name": "stdout",
     "output_type": "stream",
     "text": [
      "Train (epoch 10/30) [600/782 (77%)]\tLoss: 2.308848\n"
     ]
    },
    {
     "name": "stderr",
     "output_type": "stream",
     "text": [
      " 90%|█████████ | 704/782 [00:37<00:04, 18.60it/s]"
     ]
    },
    {
     "name": "stdout",
     "output_type": "stream",
     "text": [
      "Train (epoch 10/30) [700/782 (90%)]\tLoss: 2.303324\n"
     ]
    },
    {
     "name": "stderr",
     "output_type": "stream",
     "text": [
      "100%|██████████| 782/782 [00:41<00:00, 18.79it/s]\n",
      "100%|██████████| 157/157 [00:04<00:00, 37.28it/s]\n"
     ]
    },
    {
     "name": "stdout",
     "output_type": "stream",
     "text": [
      "Confusion Matrix:\n",
      "[[   0    0 1000    0    0    0    0    0    0    0]\n",
      " [   0    0 1000    0    0    0    0    0    0    0]\n",
      " [   0    0 1000    0    0    0    0    0    0    0]\n",
      " [   0    0 1000    0    0    0    0    0    0    0]\n",
      " [   0    0 1000    0    0    0    0    0    0    0]\n",
      " [   0    0 1000    0    0    0    0    0    0    0]\n",
      " [   0    0 1000    0    0    0    0    0    0    0]\n",
      " [   0    0 1000    0    0    0    0    0    0    0]\n",
      " [   0    0 1000    0    0    0    0    0    0    0]\n",
      " [   0    0 1000    0    0    0    0    0    0    0]]\n",
      "TRAIN_LOSS:  2.303 TRAIN_ACC:  9.876\n",
      "VAL_LOSS:  2.303 VAL_ACC:  10.000\n"
     ]
    },
    {
     "name": "stderr",
     "output_type": "stream",
     "text": [
      "  1%|          | 4/782 [00:00<00:43, 17.71it/s]"
     ]
    },
    {
     "name": "stdout",
     "output_type": "stream",
     "text": [
      "Train (epoch 11/30) [0/782 (0%)]\tLoss: 2.301178\n"
     ]
    },
    {
     "name": "stderr",
     "output_type": "stream",
     "text": [
      " 13%|█▎        | 104/782 [00:05<00:36, 18.45it/s]"
     ]
    },
    {
     "name": "stdout",
     "output_type": "stream",
     "text": [
      "Train (epoch 11/30) [100/782 (13%)]\tLoss: 2.303375\n"
     ]
    },
    {
     "name": "stderr",
     "output_type": "stream",
     "text": [
      " 26%|██▌       | 204/782 [00:11<00:30, 18.68it/s]"
     ]
    },
    {
     "name": "stdout",
     "output_type": "stream",
     "text": [
      "Train (epoch 11/30) [200/782 (26%)]\tLoss: 2.302702\n"
     ]
    },
    {
     "name": "stderr",
     "output_type": "stream",
     "text": [
      " 39%|███▉      | 304/782 [00:16<00:25, 18.99it/s]"
     ]
    },
    {
     "name": "stdout",
     "output_type": "stream",
     "text": [
      "Train (epoch 11/30) [300/782 (38%)]\tLoss: 2.302443\n"
     ]
    },
    {
     "name": "stderr",
     "output_type": "stream",
     "text": [
      " 52%|█████▏    | 404/782 [00:21<00:20, 18.55it/s]"
     ]
    },
    {
     "name": "stdout",
     "output_type": "stream",
     "text": [
      "Train (epoch 11/30) [400/782 (51%)]\tLoss: 2.301291\n"
     ]
    },
    {
     "name": "stderr",
     "output_type": "stream",
     "text": [
      " 64%|██████▍   | 504/782 [00:26<00:14, 18.67it/s]"
     ]
    },
    {
     "name": "stdout",
     "output_type": "stream",
     "text": [
      "Train (epoch 11/30) [500/782 (64%)]\tLoss: 2.302020\n"
     ]
    },
    {
     "name": "stderr",
     "output_type": "stream",
     "text": [
      " 77%|███████▋  | 604/782 [00:32<00:09, 18.28it/s]"
     ]
    },
    {
     "name": "stdout",
     "output_type": "stream",
     "text": [
      "Train (epoch 11/30) [600/782 (77%)]\tLoss: 2.303912\n"
     ]
    },
    {
     "name": "stderr",
     "output_type": "stream",
     "text": [
      " 90%|█████████ | 704/782 [00:37<00:04, 19.02it/s]"
     ]
    },
    {
     "name": "stdout",
     "output_type": "stream",
     "text": [
      "Train (epoch 11/30) [700/782 (90%)]\tLoss: 2.302670\n"
     ]
    },
    {
     "name": "stderr",
     "output_type": "stream",
     "text": [
      "100%|██████████| 782/782 [00:41<00:00, 18.70it/s]\n",
      "100%|██████████| 157/157 [00:04<00:00, 37.15it/s]\n"
     ]
    },
    {
     "name": "stdout",
     "output_type": "stream",
     "text": [
      "Confusion Matrix:\n",
      "[[   0 1000    0    0    0    0    0    0    0    0]\n",
      " [   0 1000    0    0    0    0    0    0    0    0]\n",
      " [   0 1000    0    0    0    0    0    0    0    0]\n",
      " [   0 1000    0    0    0    0    0    0    0    0]\n",
      " [   0 1000    0    0    0    0    0    0    0    0]\n",
      " [   0 1000    0    0    0    0    0    0    0    0]\n",
      " [   0 1000    0    0    0    0    0    0    0    0]\n",
      " [   0 1000    0    0    0    0    0    0    0    0]\n",
      " [   0 1000    0    0    0    0    0    0    0    0]\n",
      " [   0 1000    0    0    0    0    0    0    0    0]]\n",
      "TRAIN_LOSS:  2.303 TRAIN_ACC:  9.974\n",
      "VAL_LOSS:  2.303 VAL_ACC:  10.000\n"
     ]
    },
    {
     "name": "stderr",
     "output_type": "stream",
     "text": [
      "  1%|          | 4/782 [00:00<00:45, 17.12it/s]"
     ]
    },
    {
     "name": "stdout",
     "output_type": "stream",
     "text": [
      "Train (epoch 12/30) [0/782 (0%)]\tLoss: 2.300536\n"
     ]
    },
    {
     "name": "stderr",
     "output_type": "stream",
     "text": [
      " 13%|█▎        | 104/782 [00:05<00:36, 18.65it/s]"
     ]
    },
    {
     "name": "stdout",
     "output_type": "stream",
     "text": [
      "Train (epoch 12/30) [100/782 (13%)]\tLoss: 2.303656\n"
     ]
    },
    {
     "name": "stderr",
     "output_type": "stream",
     "text": [
      " 26%|██▌       | 204/782 [00:11<00:30, 19.03it/s]"
     ]
    },
    {
     "name": "stdout",
     "output_type": "stream",
     "text": [
      "Train (epoch 12/30) [200/782 (26%)]\tLoss: 2.302103\n"
     ]
    },
    {
     "name": "stderr",
     "output_type": "stream",
     "text": [
      " 39%|███▉      | 304/782 [00:16<00:25, 18.79it/s]"
     ]
    },
    {
     "name": "stdout",
     "output_type": "stream",
     "text": [
      "Train (epoch 12/30) [300/782 (38%)]\tLoss: 2.304294\n"
     ]
    },
    {
     "name": "stderr",
     "output_type": "stream",
     "text": [
      " 52%|█████▏    | 404/782 [00:21<00:20, 18.89it/s]"
     ]
    },
    {
     "name": "stdout",
     "output_type": "stream",
     "text": [
      "Train (epoch 12/30) [400/782 (51%)]\tLoss: 2.303640\n"
     ]
    },
    {
     "name": "stderr",
     "output_type": "stream",
     "text": [
      " 64%|██████▍   | 504/782 [00:27<00:14, 18.97it/s]"
     ]
    },
    {
     "name": "stdout",
     "output_type": "stream",
     "text": [
      "Train (epoch 12/30) [500/782 (64%)]\tLoss: 2.301379\n"
     ]
    },
    {
     "name": "stderr",
     "output_type": "stream",
     "text": [
      " 77%|███████▋  | 604/782 [00:32<00:09, 19.08it/s]"
     ]
    },
    {
     "name": "stdout",
     "output_type": "stream",
     "text": [
      "Train (epoch 12/30) [600/782 (77%)]\tLoss: 2.302549\n"
     ]
    },
    {
     "name": "stderr",
     "output_type": "stream",
     "text": [
      " 90%|█████████ | 704/782 [00:37<00:04, 18.42it/s]"
     ]
    },
    {
     "name": "stdout",
     "output_type": "stream",
     "text": [
      "Train (epoch 12/30) [700/782 (90%)]\tLoss: 2.302644\n"
     ]
    },
    {
     "name": "stderr",
     "output_type": "stream",
     "text": [
      "100%|██████████| 782/782 [00:41<00:00, 18.74it/s]\n",
      "100%|██████████| 157/157 [00:04<00:00, 37.13it/s]\n"
     ]
    },
    {
     "name": "stdout",
     "output_type": "stream",
     "text": [
      "Confusion Matrix:\n",
      "[[   0 1000    0    0    0    0    0    0    0    0]\n",
      " [   0 1000    0    0    0    0    0    0    0    0]\n",
      " [   0 1000    0    0    0    0    0    0    0    0]\n",
      " [   0 1000    0    0    0    0    0    0    0    0]\n",
      " [   0 1000    0    0    0    0    0    0    0    0]\n",
      " [   0 1000    0    0    0    0    0    0    0    0]\n",
      " [   0 1000    0    0    0    0    0    0    0    0]\n",
      " [   0 1000    0    0    0    0    0    0    0    0]\n",
      " [   0 1000    0    0    0    0    0    0    0    0]\n",
      " [   0 1000    0    0    0    0    0    0    0    0]]\n",
      "TRAIN_LOSS:  2.303 TRAIN_ACC:  9.698\n",
      "VAL_LOSS:  2.303 VAL_ACC:  10.000\n"
     ]
    },
    {
     "name": "stderr",
     "output_type": "stream",
     "text": [
      "  1%|          | 4/782 [00:00<00:46, 16.79it/s]"
     ]
    },
    {
     "name": "stdout",
     "output_type": "stream",
     "text": [
      "Train (epoch 13/30) [0/782 (0%)]\tLoss: 2.303533\n"
     ]
    },
    {
     "name": "stderr",
     "output_type": "stream",
     "text": [
      " 13%|█▎        | 104/782 [00:05<00:36, 18.81it/s]"
     ]
    },
    {
     "name": "stdout",
     "output_type": "stream",
     "text": [
      "Train (epoch 13/30) [100/782 (13%)]\tLoss: 2.302878\n"
     ]
    },
    {
     "name": "stderr",
     "output_type": "stream",
     "text": [
      " 26%|██▌       | 204/782 [00:11<00:30, 18.87it/s]"
     ]
    },
    {
     "name": "stdout",
     "output_type": "stream",
     "text": [
      "Train (epoch 13/30) [200/782 (26%)]\tLoss: 2.303438\n"
     ]
    },
    {
     "name": "stderr",
     "output_type": "stream",
     "text": [
      " 39%|███▉      | 304/782 [00:16<00:25, 19.11it/s]"
     ]
    },
    {
     "name": "stdout",
     "output_type": "stream",
     "text": [
      "Train (epoch 13/30) [300/782 (38%)]\tLoss: 2.302245\n"
     ]
    },
    {
     "name": "stderr",
     "output_type": "stream",
     "text": [
      " 52%|█████▏    | 404/782 [00:21<00:21, 17.80it/s]"
     ]
    },
    {
     "name": "stdout",
     "output_type": "stream",
     "text": [
      "Train (epoch 13/30) [400/782 (51%)]\tLoss: 2.303290\n"
     ]
    },
    {
     "name": "stderr",
     "output_type": "stream",
     "text": [
      " 64%|██████▍   | 504/782 [00:26<00:14, 18.96it/s]"
     ]
    },
    {
     "name": "stdout",
     "output_type": "stream",
     "text": [
      "Train (epoch 13/30) [500/782 (64%)]\tLoss: 2.302227\n"
     ]
    },
    {
     "name": "stderr",
     "output_type": "stream",
     "text": [
      " 77%|███████▋  | 604/782 [00:32<00:09, 18.27it/s]"
     ]
    },
    {
     "name": "stdout",
     "output_type": "stream",
     "text": [
      "Train (epoch 13/30) [600/782 (77%)]\tLoss: 2.302891\n"
     ]
    },
    {
     "name": "stderr",
     "output_type": "stream",
     "text": [
      " 90%|█████████ | 704/782 [00:37<00:04, 18.82it/s]"
     ]
    },
    {
     "name": "stdout",
     "output_type": "stream",
     "text": [
      "Train (epoch 13/30) [700/782 (90%)]\tLoss: 2.304866\n"
     ]
    },
    {
     "name": "stderr",
     "output_type": "stream",
     "text": [
      "100%|██████████| 782/782 [00:41<00:00, 18.73it/s]\n",
      "100%|██████████| 157/157 [00:04<00:00, 37.81it/s]\n"
     ]
    },
    {
     "name": "stdout",
     "output_type": "stream",
     "text": [
      "Confusion Matrix:\n",
      "[[   0 1000    0    0    0    0    0    0    0    0]\n",
      " [   0 1000    0    0    0    0    0    0    0    0]\n",
      " [   0 1000    0    0    0    0    0    0    0    0]\n",
      " [   0 1000    0    0    0    0    0    0    0    0]\n",
      " [   0 1000    0    0    0    0    0    0    0    0]\n",
      " [   0 1000    0    0    0    0    0    0    0    0]\n",
      " [   0 1000    0    0    0    0    0    0    0    0]\n",
      " [   0 1000    0    0    0    0    0    0    0    0]\n",
      " [   0 1000    0    0    0    0    0    0    0    0]\n",
      " [   0 1000    0    0    0    0    0    0    0    0]]\n",
      "TRAIN_LOSS:  2.303 TRAIN_ACC:  10.008\n",
      "VAL_LOSS:  2.303 VAL_ACC:  10.000\n"
     ]
    },
    {
     "name": "stderr",
     "output_type": "stream",
     "text": [
      "  1%|          | 4/782 [00:00<00:44, 17.43it/s]"
     ]
    },
    {
     "name": "stdout",
     "output_type": "stream",
     "text": [
      "Train (epoch 14/30) [0/782 (0%)]\tLoss: 2.303446\n"
     ]
    },
    {
     "name": "stderr",
     "output_type": "stream",
     "text": [
      " 13%|█▎        | 104/782 [00:05<00:41, 16.23it/s]"
     ]
    },
    {
     "name": "stdout",
     "output_type": "stream",
     "text": [
      "Train (epoch 14/30) [100/782 (13%)]\tLoss: 2.301654\n"
     ]
    },
    {
     "name": "stderr",
     "output_type": "stream",
     "text": [
      " 26%|██▌       | 202/782 [00:12<00:36, 15.70it/s]"
     ]
    },
    {
     "name": "stdout",
     "output_type": "stream",
     "text": [
      "Train (epoch 14/30) [200/782 (26%)]\tLoss: 2.304911\n"
     ]
    },
    {
     "name": "stderr",
     "output_type": "stream",
     "text": [
      " 39%|███▉      | 304/782 [00:18<00:26, 17.92it/s]"
     ]
    },
    {
     "name": "stdout",
     "output_type": "stream",
     "text": [
      "Train (epoch 14/30) [300/782 (38%)]\tLoss: 2.304993\n"
     ]
    },
    {
     "name": "stderr",
     "output_type": "stream",
     "text": [
      " 52%|█████▏    | 404/782 [00:24<00:20, 18.72it/s]"
     ]
    },
    {
     "name": "stdout",
     "output_type": "stream",
     "text": [
      "Train (epoch 14/30) [400/782 (51%)]\tLoss: 2.302062\n"
     ]
    },
    {
     "name": "stderr",
     "output_type": "stream",
     "text": [
      " 64%|██████▍   | 504/782 [00:29<00:14, 19.03it/s]"
     ]
    },
    {
     "name": "stdout",
     "output_type": "stream",
     "text": [
      "Train (epoch 14/30) [500/782 (64%)]\tLoss: 2.302531\n"
     ]
    },
    {
     "name": "stderr",
     "output_type": "stream",
     "text": [
      " 77%|███████▋  | 604/782 [00:34<00:09, 19.15it/s]"
     ]
    },
    {
     "name": "stdout",
     "output_type": "stream",
     "text": [
      "Train (epoch 14/30) [600/782 (77%)]\tLoss: 2.303703\n"
     ]
    },
    {
     "name": "stderr",
     "output_type": "stream",
     "text": [
      " 90%|█████████ | 704/782 [00:40<00:04, 18.59it/s]"
     ]
    },
    {
     "name": "stdout",
     "output_type": "stream",
     "text": [
      "Train (epoch 14/30) [700/782 (90%)]\tLoss: 2.303663\n"
     ]
    },
    {
     "name": "stderr",
     "output_type": "stream",
     "text": [
      "100%|██████████| 782/782 [00:44<00:00, 17.64it/s]\n",
      "100%|██████████| 157/157 [00:04<00:00, 37.85it/s]\n"
     ]
    },
    {
     "name": "stdout",
     "output_type": "stream",
     "text": [
      "Confusion Matrix:\n",
      "[[   0    0    0    0 1000    0    0    0    0    0]\n",
      " [   0    0    0    0 1000    0    0    0    0    0]\n",
      " [   0    0    0    0 1000    0    0    0    0    0]\n",
      " [   0    0    0    0 1000    0    0    0    0    0]\n",
      " [   0    0    0    0 1000    0    0    0    0    0]\n",
      " [   0    0    0    0 1000    0    0    0    0    0]\n",
      " [   0    0    0    0 1000    0    0    0    0    0]\n",
      " [   0    0    0    0 1000    0    0    0    0    0]\n",
      " [   0    0    0    0 1000    0    0    0    0    0]\n",
      " [   0    0    0    0 1000    0    0    0    0    0]]\n",
      "TRAIN_LOSS:  2.303 TRAIN_ACC:  9.922\n",
      "VAL_LOSS:  2.303 VAL_ACC:  10.000\n"
     ]
    },
    {
     "name": "stderr",
     "output_type": "stream",
     "text": [
      "  1%|          | 4/782 [00:00<00:43, 17.77it/s]"
     ]
    },
    {
     "name": "stdout",
     "output_type": "stream",
     "text": [
      "Train (epoch 15/30) [0/782 (0%)]\tLoss: 2.302782\n"
     ]
    },
    {
     "name": "stderr",
     "output_type": "stream",
     "text": [
      " 13%|█▎        | 104/782 [00:05<00:35, 18.86it/s]"
     ]
    },
    {
     "name": "stdout",
     "output_type": "stream",
     "text": [
      "Train (epoch 15/30) [100/782 (13%)]\tLoss: 2.302973\n"
     ]
    },
    {
     "name": "stderr",
     "output_type": "stream",
     "text": [
      " 26%|██▌       | 204/782 [00:11<00:29, 19.27it/s]"
     ]
    },
    {
     "name": "stdout",
     "output_type": "stream",
     "text": [
      "Train (epoch 15/30) [200/782 (26%)]\tLoss: 2.302557\n"
     ]
    },
    {
     "name": "stderr",
     "output_type": "stream",
     "text": [
      " 39%|███▉      | 304/782 [00:16<00:25, 18.77it/s]"
     ]
    },
    {
     "name": "stdout",
     "output_type": "stream",
     "text": [
      "Train (epoch 15/30) [300/782 (38%)]\tLoss: 2.303674\n"
     ]
    },
    {
     "name": "stderr",
     "output_type": "stream",
     "text": [
      " 52%|█████▏    | 404/782 [00:21<00:20, 18.67it/s]"
     ]
    },
    {
     "name": "stdout",
     "output_type": "stream",
     "text": [
      "Train (epoch 15/30) [400/782 (51%)]\tLoss: 2.302968\n"
     ]
    },
    {
     "name": "stderr",
     "output_type": "stream",
     "text": [
      " 64%|██████▍   | 504/782 [00:27<00:14, 18.78it/s]"
     ]
    },
    {
     "name": "stdout",
     "output_type": "stream",
     "text": [
      "Train (epoch 15/30) [500/782 (64%)]\tLoss: 2.302958\n"
     ]
    },
    {
     "name": "stderr",
     "output_type": "stream",
     "text": [
      " 77%|███████▋  | 604/782 [00:32<00:09, 18.95it/s]"
     ]
    },
    {
     "name": "stdout",
     "output_type": "stream",
     "text": [
      "Train (epoch 15/30) [600/782 (77%)]\tLoss: 2.303993\n"
     ]
    },
    {
     "name": "stderr",
     "output_type": "stream",
     "text": [
      " 90%|█████████ | 704/782 [00:37<00:04, 18.94it/s]"
     ]
    },
    {
     "name": "stdout",
     "output_type": "stream",
     "text": [
      "Train (epoch 15/30) [700/782 (90%)]\tLoss: 2.301399\n"
     ]
    },
    {
     "name": "stderr",
     "output_type": "stream",
     "text": [
      "100%|██████████| 782/782 [00:41<00:00, 18.71it/s]\n",
      "100%|██████████| 157/157 [00:04<00:00, 37.93it/s]\n"
     ]
    },
    {
     "name": "stdout",
     "output_type": "stream",
     "text": [
      "Confusion Matrix:\n",
      "[[   0 1000    0    0    0    0    0    0    0    0]\n",
      " [   0 1000    0    0    0    0    0    0    0    0]\n",
      " [   0 1000    0    0    0    0    0    0    0    0]\n",
      " [   0 1000    0    0    0    0    0    0    0    0]\n",
      " [   0 1000    0    0    0    0    0    0    0    0]\n",
      " [   0 1000    0    0    0    0    0    0    0    0]\n",
      " [   0 1000    0    0    0    0    0    0    0    0]\n",
      " [   0 1000    0    0    0    0    0    0    0    0]\n",
      " [   0 1000    0    0    0    0    0    0    0    0]\n",
      " [   0 1000    0    0    0    0    0    0    0    0]]\n",
      "TRAIN_LOSS:  2.303 TRAIN_ACC:  9.858\n",
      "VAL_LOSS:  2.304 VAL_ACC:  10.000\n"
     ]
    },
    {
     "name": "stderr",
     "output_type": "stream",
     "text": [
      "  1%|          | 4/782 [00:00<00:44, 17.53it/s]"
     ]
    },
    {
     "name": "stdout",
     "output_type": "stream",
     "text": [
      "Train (epoch 16/30) [0/782 (0%)]\tLoss: 2.295130\n"
     ]
    },
    {
     "name": "stderr",
     "output_type": "stream",
     "text": [
      " 13%|█▎        | 104/782 [00:05<00:36, 18.82it/s]"
     ]
    },
    {
     "name": "stdout",
     "output_type": "stream",
     "text": [
      "Train (epoch 16/30) [100/782 (13%)]\tLoss: 2.302972\n"
     ]
    },
    {
     "name": "stderr",
     "output_type": "stream",
     "text": [
      " 26%|██▌       | 204/782 [00:11<00:31, 18.45it/s]"
     ]
    },
    {
     "name": "stdout",
     "output_type": "stream",
     "text": [
      "Train (epoch 16/30) [200/782 (26%)]\tLoss: 2.299054\n"
     ]
    },
    {
     "name": "stderr",
     "output_type": "stream",
     "text": [
      " 39%|███▉      | 304/782 [00:16<00:25, 18.69it/s]"
     ]
    },
    {
     "name": "stdout",
     "output_type": "stream",
     "text": [
      "Train (epoch 16/30) [300/782 (38%)]\tLoss: 2.299609\n"
     ]
    },
    {
     "name": "stderr",
     "output_type": "stream",
     "text": [
      " 52%|█████▏    | 404/782 [00:21<00:20, 18.67it/s]"
     ]
    },
    {
     "name": "stdout",
     "output_type": "stream",
     "text": [
      "Train (epoch 16/30) [400/782 (51%)]\tLoss: 2.302368\n"
     ]
    },
    {
     "name": "stderr",
     "output_type": "stream",
     "text": [
      " 64%|██████▍   | 504/782 [00:27<00:14, 18.79it/s]"
     ]
    },
    {
     "name": "stdout",
     "output_type": "stream",
     "text": [
      "Train (epoch 16/30) [500/782 (64%)]\tLoss: 2.302997\n"
     ]
    },
    {
     "name": "stderr",
     "output_type": "stream",
     "text": [
      " 77%|███████▋  | 604/782 [00:32<00:09, 18.64it/s]"
     ]
    },
    {
     "name": "stdout",
     "output_type": "stream",
     "text": [
      "Train (epoch 16/30) [600/782 (77%)]\tLoss: 2.298500\n"
     ]
    },
    {
     "name": "stderr",
     "output_type": "stream",
     "text": [
      " 90%|█████████ | 704/782 [00:37<00:04, 18.85it/s]"
     ]
    },
    {
     "name": "stdout",
     "output_type": "stream",
     "text": [
      "Train (epoch 16/30) [700/782 (90%)]\tLoss: 2.301720\n"
     ]
    },
    {
     "name": "stderr",
     "output_type": "stream",
     "text": [
      "100%|██████████| 782/782 [00:41<00:00, 18.66it/s]\n",
      "100%|██████████| 157/157 [00:04<00:00, 37.51it/s]\n"
     ]
    },
    {
     "name": "stdout",
     "output_type": "stream",
     "text": [
      "Confusion Matrix:\n",
      "[[   0    0    0    0    0    0    0    0    0 1000]\n",
      " [   0    0    0    0    0    0    0    0    0 1000]\n",
      " [   0    0    0    0    0    0    0    0    0 1000]\n",
      " [   0    0    0    0    0    0    0    0    0 1000]\n",
      " [   0    0    0    0    0    0    0    0    0 1000]\n",
      " [   0    0    0    0    0    0    0    0    0 1000]\n",
      " [   0    0    0    0    0    0    0    0    0 1000]\n",
      " [   0    0    0    0    0    0    0    0    0 1000]\n",
      " [   0    0    0    0    0    0    0    0    0 1000]\n",
      " [   0    0    0    0    0    0    0    0    0 1000]]\n",
      "TRAIN_LOSS:  2.303 TRAIN_ACC:  10.058\n",
      "VAL_LOSS:  2.303 VAL_ACC:  10.000\n"
     ]
    },
    {
     "name": "stderr",
     "output_type": "stream",
     "text": [
      "  1%|          | 4/782 [00:00<00:44, 17.30it/s]"
     ]
    },
    {
     "name": "stdout",
     "output_type": "stream",
     "text": [
      "Train (epoch 17/30) [0/782 (0%)]\tLoss: 2.303563\n"
     ]
    },
    {
     "name": "stderr",
     "output_type": "stream",
     "text": [
      " 13%|█▎        | 104/782 [00:05<00:36, 18.76it/s]"
     ]
    },
    {
     "name": "stdout",
     "output_type": "stream",
     "text": [
      "Train (epoch 17/30) [100/782 (13%)]\tLoss: 2.301263\n"
     ]
    },
    {
     "name": "stderr",
     "output_type": "stream",
     "text": [
      " 26%|██▌       | 204/782 [00:11<00:30, 18.70it/s]"
     ]
    },
    {
     "name": "stdout",
     "output_type": "stream",
     "text": [
      "Train (epoch 17/30) [200/782 (26%)]\tLoss: 2.303788\n"
     ]
    },
    {
     "name": "stderr",
     "output_type": "stream",
     "text": [
      " 39%|███▉      | 304/782 [00:16<00:25, 18.67it/s]"
     ]
    },
    {
     "name": "stdout",
     "output_type": "stream",
     "text": [
      "Train (epoch 17/30) [300/782 (38%)]\tLoss: 2.302176\n"
     ]
    },
    {
     "name": "stderr",
     "output_type": "stream",
     "text": [
      " 52%|█████▏    | 404/782 [00:21<00:19, 18.98it/s]"
     ]
    },
    {
     "name": "stdout",
     "output_type": "stream",
     "text": [
      "Train (epoch 17/30) [400/782 (51%)]\tLoss: 2.304383\n"
     ]
    },
    {
     "name": "stderr",
     "output_type": "stream",
     "text": [
      " 64%|██████▍   | 504/782 [00:27<00:14, 18.78it/s]"
     ]
    },
    {
     "name": "stdout",
     "output_type": "stream",
     "text": [
      "Train (epoch 17/30) [500/782 (64%)]\tLoss: 2.304193\n"
     ]
    },
    {
     "name": "stderr",
     "output_type": "stream",
     "text": [
      " 77%|███████▋  | 604/782 [00:32<00:09, 18.82it/s]"
     ]
    },
    {
     "name": "stdout",
     "output_type": "stream",
     "text": [
      "Train (epoch 17/30) [600/782 (77%)]\tLoss: 2.297770\n"
     ]
    },
    {
     "name": "stderr",
     "output_type": "stream",
     "text": [
      " 90%|█████████ | 704/782 [00:37<00:04, 18.76it/s]"
     ]
    },
    {
     "name": "stdout",
     "output_type": "stream",
     "text": [
      "Train (epoch 17/30) [700/782 (90%)]\tLoss: 2.303913\n"
     ]
    },
    {
     "name": "stderr",
     "output_type": "stream",
     "text": [
      "100%|██████████| 782/782 [00:42<00:00, 18.57it/s]\n",
      "100%|██████████| 157/157 [00:04<00:00, 37.76it/s]\n"
     ]
    },
    {
     "name": "stdout",
     "output_type": "stream",
     "text": [
      "Confusion Matrix:\n",
      "[[   0    0 1000    0    0    0    0    0    0    0]\n",
      " [   0    0 1000    0    0    0    0    0    0    0]\n",
      " [   0    0 1000    0    0    0    0    0    0    0]\n",
      " [   0    0 1000    0    0    0    0    0    0    0]\n",
      " [   0    0 1000    0    0    0    0    0    0    0]\n",
      " [   0    0 1000    0    0    0    0    0    0    0]\n",
      " [   0    0 1000    0    0    0    0    0    0    0]\n",
      " [   0    0 1000    0    0    0    0    0    0    0]\n",
      " [   0    0 1000    0    0    0    0    0    0    0]\n",
      " [   0    0 1000    0    0    0    0    0    0    0]]\n",
      "TRAIN_LOSS:  2.303 TRAIN_ACC:  10.112\n",
      "VAL_LOSS:  2.303 VAL_ACC:  10.000\n"
     ]
    },
    {
     "name": "stderr",
     "output_type": "stream",
     "text": [
      "  1%|          | 4/782 [00:00<00:46, 16.56it/s]"
     ]
    },
    {
     "name": "stdout",
     "output_type": "stream",
     "text": [
      "Train (epoch 18/30) [0/782 (0%)]\tLoss: 2.303613\n"
     ]
    },
    {
     "name": "stderr",
     "output_type": "stream",
     "text": [
      " 13%|█▎        | 104/782 [00:05<00:37, 18.10it/s]"
     ]
    },
    {
     "name": "stdout",
     "output_type": "stream",
     "text": [
      "Train (epoch 18/30) [100/782 (13%)]\tLoss: 2.301380\n"
     ]
    },
    {
     "name": "stderr",
     "output_type": "stream",
     "text": [
      " 26%|██▌       | 204/782 [00:11<00:30, 18.88it/s]"
     ]
    },
    {
     "name": "stdout",
     "output_type": "stream",
     "text": [
      "Train (epoch 18/30) [200/782 (26%)]\tLoss: 2.302618\n"
     ]
    },
    {
     "name": "stderr",
     "output_type": "stream",
     "text": [
      " 39%|███▉      | 304/782 [00:16<00:25, 18.89it/s]"
     ]
    },
    {
     "name": "stdout",
     "output_type": "stream",
     "text": [
      "Train (epoch 18/30) [300/782 (38%)]\tLoss: 2.301490\n"
     ]
    },
    {
     "name": "stderr",
     "output_type": "stream",
     "text": [
      " 52%|█████▏    | 404/782 [00:21<00:20, 18.43it/s]"
     ]
    },
    {
     "name": "stdout",
     "output_type": "stream",
     "text": [
      "Train (epoch 18/30) [400/782 (51%)]\tLoss: 2.302478\n"
     ]
    },
    {
     "name": "stderr",
     "output_type": "stream",
     "text": [
      " 64%|██████▍   | 504/782 [00:27<00:14, 18.74it/s]"
     ]
    },
    {
     "name": "stdout",
     "output_type": "stream",
     "text": [
      "Train (epoch 18/30) [500/782 (64%)]\tLoss: 2.302795\n"
     ]
    },
    {
     "name": "stderr",
     "output_type": "stream",
     "text": [
      " 77%|███████▋  | 604/782 [00:32<00:09, 18.52it/s]"
     ]
    },
    {
     "name": "stdout",
     "output_type": "stream",
     "text": [
      "Train (epoch 18/30) [600/782 (77%)]\tLoss: 2.302827\n"
     ]
    },
    {
     "name": "stderr",
     "output_type": "stream",
     "text": [
      " 90%|█████████ | 704/782 [00:38<00:04, 18.03it/s]"
     ]
    },
    {
     "name": "stdout",
     "output_type": "stream",
     "text": [
      "Train (epoch 18/30) [700/782 (90%)]\tLoss: 2.303231\n"
     ]
    },
    {
     "name": "stderr",
     "output_type": "stream",
     "text": [
      "100%|██████████| 782/782 [00:42<00:00, 18.52it/s]\n",
      "100%|██████████| 157/157 [00:04<00:00, 37.02it/s]\n"
     ]
    },
    {
     "name": "stdout",
     "output_type": "stream",
     "text": [
      "Confusion Matrix:\n",
      "[[   0    0    0    0    0    0    0    0    0 1000]\n",
      " [   0    0    0    0    0    0    0    0    0 1000]\n",
      " [   0    0    0    0    0    0    0    0    0 1000]\n",
      " [   0    0    0    0    0    0    0    0    0 1000]\n",
      " [   0    0    0    0    0    0    0    0    0 1000]\n",
      " [   0    0    0    0    0    0    0    0    0 1000]\n",
      " [   0    0    0    0    0    0    0    0    0 1000]\n",
      " [   0    0    0    0    0    0    0    0    0 1000]\n",
      " [   0    0    0    0    0    0    0    0    0 1000]\n",
      " [   0    0    0    0    0    0    0    0    0 1000]]\n",
      "TRAIN_LOSS:  2.303 TRAIN_ACC:  9.708\n",
      "VAL_LOSS:  2.303 VAL_ACC:  10.000\n"
     ]
    },
    {
     "name": "stderr",
     "output_type": "stream",
     "text": [
      "  1%|          | 4/782 [00:00<00:44, 17.33it/s]"
     ]
    },
    {
     "name": "stdout",
     "output_type": "stream",
     "text": [
      "Train (epoch 19/30) [0/782 (0%)]\tLoss: 2.305181\n"
     ]
    },
    {
     "name": "stderr",
     "output_type": "stream",
     "text": [
      " 13%|█▎        | 104/782 [00:05<00:36, 18.48it/s]"
     ]
    },
    {
     "name": "stdout",
     "output_type": "stream",
     "text": [
      "Train (epoch 19/30) [100/782 (13%)]\tLoss: 2.301470\n"
     ]
    },
    {
     "name": "stderr",
     "output_type": "stream",
     "text": [
      " 26%|██▌       | 204/782 [00:11<00:30, 18.78it/s]"
     ]
    },
    {
     "name": "stdout",
     "output_type": "stream",
     "text": [
      "Train (epoch 19/30) [200/782 (26%)]\tLoss: 2.303194\n"
     ]
    },
    {
     "name": "stderr",
     "output_type": "stream",
     "text": [
      " 39%|███▉      | 304/782 [00:16<00:25, 18.55it/s]"
     ]
    },
    {
     "name": "stdout",
     "output_type": "stream",
     "text": [
      "Train (epoch 19/30) [300/782 (38%)]\tLoss: 2.302157\n"
     ]
    },
    {
     "name": "stderr",
     "output_type": "stream",
     "text": [
      " 52%|█████▏    | 404/782 [00:21<00:20, 18.69it/s]"
     ]
    },
    {
     "name": "stdout",
     "output_type": "stream",
     "text": [
      "Train (epoch 19/30) [400/782 (51%)]\tLoss: 2.301985\n"
     ]
    },
    {
     "name": "stderr",
     "output_type": "stream",
     "text": [
      " 64%|██████▍   | 504/782 [00:27<00:14, 18.54it/s]"
     ]
    },
    {
     "name": "stdout",
     "output_type": "stream",
     "text": [
      "Train (epoch 19/30) [500/782 (64%)]\tLoss: 2.302701\n"
     ]
    },
    {
     "name": "stderr",
     "output_type": "stream",
     "text": [
      " 77%|███████▋  | 604/782 [00:32<00:09, 18.26it/s]"
     ]
    },
    {
     "name": "stdout",
     "output_type": "stream",
     "text": [
      "Train (epoch 19/30) [600/782 (77%)]\tLoss: 2.302574\n"
     ]
    },
    {
     "name": "stderr",
     "output_type": "stream",
     "text": [
      " 90%|█████████ | 704/782 [00:37<00:04, 18.62it/s]"
     ]
    },
    {
     "name": "stdout",
     "output_type": "stream",
     "text": [
      "Train (epoch 19/30) [700/782 (90%)]\tLoss: 2.303886\n"
     ]
    },
    {
     "name": "stderr",
     "output_type": "stream",
     "text": [
      "100%|██████████| 782/782 [00:41<00:00, 18.63it/s]\n",
      "100%|██████████| 157/157 [00:04<00:00, 36.89it/s]\n"
     ]
    },
    {
     "name": "stdout",
     "output_type": "stream",
     "text": [
      "Confusion Matrix:\n",
      "[[   0    0    0    0    0    0 1000    0    0    0]\n",
      " [   0    0    0    0    0    0 1000    0    0    0]\n",
      " [   0    0    0    0    0    0 1000    0    0    0]\n",
      " [   0    0    0    0    0    0 1000    0    0    0]\n",
      " [   0    0    0    0    0    0 1000    0    0    0]\n",
      " [   0    0    0    0    0    0 1000    0    0    0]\n",
      " [   0    0    0    0    0    0 1000    0    0    0]\n",
      " [   0    0    0    0    0    0 1000    0    0    0]\n",
      " [   0    0    0    0    0    0 1000    0    0    0]\n",
      " [   0    0    0    0    0    0 1000    0    0    0]]\n",
      "TRAIN_LOSS:  2.303 TRAIN_ACC:  9.660\n",
      "VAL_LOSS:  2.303 VAL_ACC:  10.000\n"
     ]
    },
    {
     "name": "stderr",
     "output_type": "stream",
     "text": [
      "  1%|          | 4/782 [00:00<00:44, 17.42it/s]"
     ]
    },
    {
     "name": "stdout",
     "output_type": "stream",
     "text": [
      "Train (epoch 20/30) [0/782 (0%)]\tLoss: 2.301755\n"
     ]
    },
    {
     "name": "stderr",
     "output_type": "stream",
     "text": [
      " 13%|█▎        | 104/782 [00:05<00:36, 18.62it/s]"
     ]
    },
    {
     "name": "stdout",
     "output_type": "stream",
     "text": [
      "Train (epoch 20/30) [100/782 (13%)]\tLoss: 2.302418\n"
     ]
    },
    {
     "name": "stderr",
     "output_type": "stream",
     "text": [
      " 26%|██▌       | 204/782 [00:11<00:32, 18.03it/s]"
     ]
    },
    {
     "name": "stdout",
     "output_type": "stream",
     "text": [
      "Train (epoch 20/30) [200/782 (26%)]\tLoss: 2.303831\n"
     ]
    },
    {
     "name": "stderr",
     "output_type": "stream",
     "text": [
      " 39%|███▉      | 304/782 [00:16<00:28, 16.94it/s]"
     ]
    },
    {
     "name": "stdout",
     "output_type": "stream",
     "text": [
      "Train (epoch 20/30) [300/782 (38%)]\tLoss: 2.303624\n"
     ]
    },
    {
     "name": "stderr",
     "output_type": "stream",
     "text": [
      " 51%|█████▏    | 402/782 [00:22<00:25, 14.68it/s]"
     ]
    },
    {
     "name": "stdout",
     "output_type": "stream",
     "text": [
      "Train (epoch 20/30) [400/782 (51%)]\tLoss: 2.303864\n"
     ]
    },
    {
     "name": "stderr",
     "output_type": "stream",
     "text": [
      " 64%|██████▍   | 504/782 [00:29<00:15, 18.07it/s]"
     ]
    },
    {
     "name": "stdout",
     "output_type": "stream",
     "text": [
      "Train (epoch 20/30) [500/782 (64%)]\tLoss: 2.303674\n"
     ]
    },
    {
     "name": "stderr",
     "output_type": "stream",
     "text": [
      " 77%|███████▋  | 604/782 [00:34<00:09, 18.89it/s]"
     ]
    },
    {
     "name": "stdout",
     "output_type": "stream",
     "text": [
      "Train (epoch 20/30) [600/782 (77%)]\tLoss: 2.303820\n"
     ]
    },
    {
     "name": "stderr",
     "output_type": "stream",
     "text": [
      " 90%|█████████ | 704/782 [00:40<00:04, 18.68it/s]"
     ]
    },
    {
     "name": "stdout",
     "output_type": "stream",
     "text": [
      "Train (epoch 20/30) [700/782 (90%)]\tLoss: 2.302514\n"
     ]
    },
    {
     "name": "stderr",
     "output_type": "stream",
     "text": [
      "100%|██████████| 782/782 [00:44<00:00, 17.66it/s]\n",
      "100%|██████████| 157/157 [00:04<00:00, 38.19it/s]\n"
     ]
    },
    {
     "name": "stdout",
     "output_type": "stream",
     "text": [
      "Confusion Matrix:\n",
      "[[   0    0    0    0    0    0    0    0 1000    0]\n",
      " [   0    0    0    0    0    0    0    0 1000    0]\n",
      " [   0    0    0    0    0    0    0    0 1000    0]\n",
      " [   0    0    0    0    0    0    0    0 1000    0]\n",
      " [   0    0    0    0    0    0    0    0 1000    0]\n",
      " [   0    0    0    0    0    0    0    0 1000    0]\n",
      " [   0    0    0    0    0    0    0    0 1000    0]\n",
      " [   0    0    0    0    0    0    0    0 1000    0]\n",
      " [   0    0    0    0    0    0    0    0 1000    0]\n",
      " [   0    0    0    0    0    0    0    0 1000    0]]\n",
      "TRAIN_LOSS:  2.303 TRAIN_ACC:  9.794\n",
      "VAL_LOSS:  2.303 VAL_ACC:  10.000\n"
     ]
    },
    {
     "name": "stderr",
     "output_type": "stream",
     "text": [
      "  1%|          | 4/782 [00:00<00:43, 17.87it/s]"
     ]
    },
    {
     "name": "stdout",
     "output_type": "stream",
     "text": [
      "Train (epoch 21/30) [0/782 (0%)]\tLoss: 2.300598\n"
     ]
    },
    {
     "name": "stderr",
     "output_type": "stream",
     "text": [
      " 13%|█▎        | 104/782 [00:05<00:36, 18.64it/s]"
     ]
    },
    {
     "name": "stdout",
     "output_type": "stream",
     "text": [
      "Train (epoch 21/30) [100/782 (13%)]\tLoss: 2.304334\n"
     ]
    },
    {
     "name": "stderr",
     "output_type": "stream",
     "text": [
      " 26%|██▌       | 204/782 [00:11<00:31, 18.54it/s]"
     ]
    },
    {
     "name": "stdout",
     "output_type": "stream",
     "text": [
      "Train (epoch 21/30) [200/782 (26%)]\tLoss: 2.303521\n"
     ]
    },
    {
     "name": "stderr",
     "output_type": "stream",
     "text": [
      " 39%|███▉      | 304/782 [00:16<00:26, 18.29it/s]"
     ]
    },
    {
     "name": "stdout",
     "output_type": "stream",
     "text": [
      "Train (epoch 21/30) [300/782 (38%)]\tLoss: 2.301443\n"
     ]
    },
    {
     "name": "stderr",
     "output_type": "stream",
     "text": [
      " 52%|█████▏    | 404/782 [00:21<00:19, 18.96it/s]"
     ]
    },
    {
     "name": "stdout",
     "output_type": "stream",
     "text": [
      "Train (epoch 21/30) [400/782 (51%)]\tLoss: 2.299157\n"
     ]
    },
    {
     "name": "stderr",
     "output_type": "stream",
     "text": [
      " 64%|██████▍   | 504/782 [00:27<00:14, 18.72it/s]"
     ]
    },
    {
     "name": "stdout",
     "output_type": "stream",
     "text": [
      "Train (epoch 21/30) [500/782 (64%)]\tLoss: 2.306273\n"
     ]
    },
    {
     "name": "stderr",
     "output_type": "stream",
     "text": [
      " 77%|███████▋  | 604/782 [00:32<00:09, 19.03it/s]"
     ]
    },
    {
     "name": "stdout",
     "output_type": "stream",
     "text": [
      "Train (epoch 21/30) [600/782 (77%)]\tLoss: 2.303392\n"
     ]
    },
    {
     "name": "stderr",
     "output_type": "stream",
     "text": [
      " 90%|█████████ | 704/782 [00:37<00:04, 18.68it/s]"
     ]
    },
    {
     "name": "stdout",
     "output_type": "stream",
     "text": [
      "Train (epoch 21/30) [700/782 (90%)]\tLoss: 2.301982\n"
     ]
    },
    {
     "name": "stderr",
     "output_type": "stream",
     "text": [
      "100%|██████████| 782/782 [00:42<00:00, 18.60it/s]\n",
      "100%|██████████| 157/157 [00:04<00:00, 37.10it/s]\n"
     ]
    },
    {
     "name": "stdout",
     "output_type": "stream",
     "text": [
      "Confusion Matrix:\n",
      "[[   0    0    0    0 1000    0    0    0    0    0]\n",
      " [   0    0    0    0 1000    0    0    0    0    0]\n",
      " [   0    0    0    0 1000    0    0    0    0    0]\n",
      " [   0    0    0    0 1000    0    0    0    0    0]\n",
      " [   0    0    0    0 1000    0    0    0    0    0]\n",
      " [   0    0    0    0 1000    0    0    0    0    0]\n",
      " [   0    0    0    0 1000    0    0    0    0    0]\n",
      " [   0    0    0    0 1000    0    0    0    0    0]\n",
      " [   0    0    0    0 1000    0    0    0    0    0]\n",
      " [   0    0    0    0 1000    0    0    0    0    0]]\n",
      "TRAIN_LOSS:  2.303 TRAIN_ACC:  10.048\n",
      "VAL_LOSS:  2.303 VAL_ACC:  10.000\n"
     ]
    },
    {
     "name": "stderr",
     "output_type": "stream",
     "text": [
      "  1%|          | 4/782 [00:00<00:44, 17.48it/s]"
     ]
    },
    {
     "name": "stdout",
     "output_type": "stream",
     "text": [
      "Train (epoch 22/30) [0/782 (0%)]\tLoss: 2.302894\n"
     ]
    },
    {
     "name": "stderr",
     "output_type": "stream",
     "text": [
      " 13%|█▎        | 104/782 [00:05<00:35, 19.01it/s]"
     ]
    },
    {
     "name": "stdout",
     "output_type": "stream",
     "text": [
      "Train (epoch 22/30) [100/782 (13%)]\tLoss: 2.300954\n"
     ]
    },
    {
     "name": "stderr",
     "output_type": "stream",
     "text": [
      " 26%|██▌       | 204/782 [00:11<00:30, 18.97it/s]"
     ]
    },
    {
     "name": "stdout",
     "output_type": "stream",
     "text": [
      "Train (epoch 22/30) [200/782 (26%)]\tLoss: 2.299912\n"
     ]
    },
    {
     "name": "stderr",
     "output_type": "stream",
     "text": [
      " 39%|███▉      | 304/782 [00:16<00:25, 18.78it/s]"
     ]
    },
    {
     "name": "stdout",
     "output_type": "stream",
     "text": [
      "Train (epoch 22/30) [300/782 (38%)]\tLoss: 2.304900\n"
     ]
    },
    {
     "name": "stderr",
     "output_type": "stream",
     "text": [
      " 52%|█████▏    | 404/782 [00:21<00:20, 18.90it/s]"
     ]
    },
    {
     "name": "stdout",
     "output_type": "stream",
     "text": [
      "Train (epoch 22/30) [400/782 (51%)]\tLoss: 2.307758\n"
     ]
    },
    {
     "name": "stderr",
     "output_type": "stream",
     "text": [
      " 64%|██████▍   | 504/782 [00:27<00:15, 18.15it/s]"
     ]
    },
    {
     "name": "stdout",
     "output_type": "stream",
     "text": [
      "Train (epoch 22/30) [500/782 (64%)]\tLoss: 2.301223\n"
     ]
    },
    {
     "name": "stderr",
     "output_type": "stream",
     "text": [
      " 77%|███████▋  | 604/782 [00:32<00:09, 18.81it/s]"
     ]
    },
    {
     "name": "stdout",
     "output_type": "stream",
     "text": [
      "Train (epoch 22/30) [600/782 (77%)]\tLoss: 2.302928\n"
     ]
    },
    {
     "name": "stderr",
     "output_type": "stream",
     "text": [
      " 90%|█████████ | 704/782 [00:37<00:04, 18.75it/s]"
     ]
    },
    {
     "name": "stdout",
     "output_type": "stream",
     "text": [
      "Train (epoch 22/30) [700/782 (90%)]\tLoss: 2.302745\n"
     ]
    },
    {
     "name": "stderr",
     "output_type": "stream",
     "text": [
      "100%|██████████| 782/782 [00:42<00:00, 18.61it/s]\n",
      "100%|██████████| 157/157 [00:04<00:00, 37.28it/s]\n"
     ]
    },
    {
     "name": "stdout",
     "output_type": "stream",
     "text": [
      "Confusion Matrix:\n",
      "[[   0    0    0    0    0 1000    0    0    0    0]\n",
      " [   0    0    0    0    0 1000    0    0    0    0]\n",
      " [   0    0    0    0    0 1000    0    0    0    0]\n",
      " [   0    0    0    0    0 1000    0    0    0    0]\n",
      " [   0    0    0    0    0 1000    0    0    0    0]\n",
      " [   0    0    0    0    0 1000    0    0    0    0]\n",
      " [   0    0    0    0    0 1000    0    0    0    0]\n",
      " [   0    0    0    0    0 1000    0    0    0    0]\n",
      " [   0    0    0    0    0 1000    0    0    0    0]\n",
      " [   0    0    0    0    0 1000    0    0    0    0]]\n",
      "TRAIN_LOSS:  2.303 TRAIN_ACC:  9.926\n",
      "VAL_LOSS:  2.303 VAL_ACC:  10.000\n"
     ]
    },
    {
     "name": "stderr",
     "output_type": "stream",
     "text": [
      "  1%|          | 4/782 [00:00<00:44, 17.56it/s]"
     ]
    },
    {
     "name": "stdout",
     "output_type": "stream",
     "text": [
      "Train (epoch 23/30) [0/782 (0%)]\tLoss: 2.304198\n"
     ]
    },
    {
     "name": "stderr",
     "output_type": "stream",
     "text": [
      " 13%|█▎        | 104/782 [00:05<00:36, 18.36it/s]"
     ]
    },
    {
     "name": "stdout",
     "output_type": "stream",
     "text": [
      "Train (epoch 23/30) [100/782 (13%)]\tLoss: 2.302754\n"
     ]
    },
    {
     "name": "stderr",
     "output_type": "stream",
     "text": [
      " 26%|██▌       | 204/782 [00:11<00:30, 18.90it/s]"
     ]
    },
    {
     "name": "stdout",
     "output_type": "stream",
     "text": [
      "Train (epoch 23/30) [200/782 (26%)]\tLoss: 2.302365\n"
     ]
    },
    {
     "name": "stderr",
     "output_type": "stream",
     "text": [
      " 39%|███▉      | 304/782 [00:16<00:25, 18.64it/s]"
     ]
    },
    {
     "name": "stdout",
     "output_type": "stream",
     "text": [
      "Train (epoch 23/30) [300/782 (38%)]\tLoss: 2.302105\n"
     ]
    },
    {
     "name": "stderr",
     "output_type": "stream",
     "text": [
      " 52%|█████▏    | 404/782 [00:21<00:20, 18.85it/s]"
     ]
    },
    {
     "name": "stdout",
     "output_type": "stream",
     "text": [
      "Train (epoch 23/30) [400/782 (51%)]\tLoss: 2.301792\n"
     ]
    },
    {
     "name": "stderr",
     "output_type": "stream",
     "text": [
      " 64%|██████▍   | 504/782 [00:27<00:14, 18.66it/s]"
     ]
    },
    {
     "name": "stdout",
     "output_type": "stream",
     "text": [
      "Train (epoch 23/30) [500/782 (64%)]\tLoss: 2.303596\n"
     ]
    },
    {
     "name": "stderr",
     "output_type": "stream",
     "text": [
      " 77%|███████▋  | 604/782 [00:32<00:09, 18.79it/s]"
     ]
    },
    {
     "name": "stdout",
     "output_type": "stream",
     "text": [
      "Train (epoch 23/30) [600/782 (77%)]\tLoss: 2.309759\n"
     ]
    },
    {
     "name": "stderr",
     "output_type": "stream",
     "text": [
      " 90%|█████████ | 704/782 [00:37<00:04, 18.71it/s]"
     ]
    },
    {
     "name": "stdout",
     "output_type": "stream",
     "text": [
      "Train (epoch 23/30) [700/782 (90%)]\tLoss: 2.302304\n"
     ]
    },
    {
     "name": "stderr",
     "output_type": "stream",
     "text": [
      "100%|██████████| 782/782 [00:42<00:00, 18.57it/s]\n",
      "100%|██████████| 157/157 [00:04<00:00, 37.70it/s]\n"
     ]
    },
    {
     "name": "stdout",
     "output_type": "stream",
     "text": [
      "Confusion Matrix:\n",
      "[[   0    0    0    0    0    0    0    0    0 1000]\n",
      " [   0    0    0    0    0    0    0    0    0 1000]\n",
      " [   0    0    0    0    0    0    0    0    0 1000]\n",
      " [   0    0    0    0    0    0    0    0    0 1000]\n",
      " [   0    0    0    0    0    0    0    0    0 1000]\n",
      " [   0    0    0    0    0    0    0    0    0 1000]\n",
      " [   0    0    0    0    0    0    0    0    0 1000]\n",
      " [   0    0    0    0    0    0    0    0    0 1000]\n",
      " [   0    0    0    0    0    0    0    0    0 1000]\n",
      " [   0    0    0    0    0    0    0    0    0 1000]]\n",
      "TRAIN_LOSS:  2.303 TRAIN_ACC:  9.876\n",
      "VAL_LOSS:  2.303 VAL_ACC:  10.000\n"
     ]
    },
    {
     "name": "stderr",
     "output_type": "stream",
     "text": [
      "  1%|          | 4/782 [00:00<00:44, 17.48it/s]"
     ]
    },
    {
     "name": "stdout",
     "output_type": "stream",
     "text": [
      "Train (epoch 24/30) [0/782 (0%)]\tLoss: 2.302831\n"
     ]
    },
    {
     "name": "stderr",
     "output_type": "stream",
     "text": [
      " 13%|█▎        | 104/782 [00:05<00:36, 18.62it/s]"
     ]
    },
    {
     "name": "stdout",
     "output_type": "stream",
     "text": [
      "Train (epoch 24/30) [100/782 (13%)]\tLoss: 2.302474\n"
     ]
    },
    {
     "name": "stderr",
     "output_type": "stream",
     "text": [
      " 26%|██▌       | 204/782 [00:11<00:30, 18.89it/s]"
     ]
    },
    {
     "name": "stdout",
     "output_type": "stream",
     "text": [
      "Train (epoch 24/30) [200/782 (26%)]\tLoss: 2.301165\n"
     ]
    },
    {
     "name": "stderr",
     "output_type": "stream",
     "text": [
      " 39%|███▉      | 304/782 [00:16<00:25, 18.62it/s]"
     ]
    },
    {
     "name": "stdout",
     "output_type": "stream",
     "text": [
      "Train (epoch 24/30) [300/782 (38%)]\tLoss: 2.301904\n"
     ]
    },
    {
     "name": "stderr",
     "output_type": "stream",
     "text": [
      " 52%|█████▏    | 404/782 [00:21<00:19, 18.98it/s]"
     ]
    },
    {
     "name": "stdout",
     "output_type": "stream",
     "text": [
      "Train (epoch 24/30) [400/782 (51%)]\tLoss: 2.301770\n"
     ]
    },
    {
     "name": "stderr",
     "output_type": "stream",
     "text": [
      " 64%|██████▍   | 504/782 [00:27<00:14, 18.75it/s]"
     ]
    },
    {
     "name": "stdout",
     "output_type": "stream",
     "text": [
      "Train (epoch 24/30) [500/782 (64%)]\tLoss: 2.303218\n"
     ]
    },
    {
     "name": "stderr",
     "output_type": "stream",
     "text": [
      " 77%|███████▋  | 604/782 [00:32<00:09, 18.68it/s]"
     ]
    },
    {
     "name": "stdout",
     "output_type": "stream",
     "text": [
      "Train (epoch 24/30) [600/782 (77%)]\tLoss: 2.301306\n"
     ]
    },
    {
     "name": "stderr",
     "output_type": "stream",
     "text": [
      " 90%|█████████ | 704/782 [00:37<00:04, 18.70it/s]"
     ]
    },
    {
     "name": "stdout",
     "output_type": "stream",
     "text": [
      "Train (epoch 24/30) [700/782 (90%)]\tLoss: 2.304119\n"
     ]
    },
    {
     "name": "stderr",
     "output_type": "stream",
     "text": [
      "100%|██████████| 782/782 [00:42<00:00, 18.60it/s]\n",
      "100%|██████████| 157/157 [00:04<00:00, 37.85it/s]\n"
     ]
    },
    {
     "name": "stdout",
     "output_type": "stream",
     "text": [
      "Confusion Matrix:\n",
      "[[   0    0    0    0    0    0    0    0    0 1000]\n",
      " [   0    0    0    0    0    0    0    0    0 1000]\n",
      " [   0    0    0    0    0    0    0    0    0 1000]\n",
      " [   0    0    0    0    0    0    0    0    0 1000]\n",
      " [   0    0    0    0    0    0    0    0    0 1000]\n",
      " [   0    0    0    0    0    0    0    0    0 1000]\n",
      " [   0    0    0    0    0    0    0    0    0 1000]\n",
      " [   0    0    0    0    0    0    0    0    0 1000]\n",
      " [   0    0    0    0    0    0    0    0    0 1000]\n",
      " [   0    0    0    0    0    0    0    0    0 1000]]\n",
      "TRAIN_LOSS:  2.303 TRAIN_ACC:  9.688\n",
      "VAL_LOSS:  2.303 VAL_ACC:  10.000\n"
     ]
    },
    {
     "name": "stderr",
     "output_type": "stream",
     "text": [
      "  1%|          | 4/782 [00:00<00:44, 17.55it/s]"
     ]
    },
    {
     "name": "stdout",
     "output_type": "stream",
     "text": [
      "Train (epoch 25/30) [0/782 (0%)]\tLoss: 2.303720\n"
     ]
    },
    {
     "name": "stderr",
     "output_type": "stream",
     "text": [
      " 13%|█▎        | 102/782 [00:05<00:38, 17.83it/s]"
     ]
    },
    {
     "name": "stdout",
     "output_type": "stream",
     "text": [
      "Train (epoch 25/30) [100/782 (13%)]\tLoss: 2.302323\n"
     ]
    },
    {
     "name": "stderr",
     "output_type": "stream",
     "text": [
      " 26%|██▌       | 204/782 [00:11<00:31, 18.40it/s]"
     ]
    },
    {
     "name": "stdout",
     "output_type": "stream",
     "text": [
      "Train (epoch 25/30) [200/782 (26%)]\tLoss: 2.303471\n"
     ]
    },
    {
     "name": "stderr",
     "output_type": "stream",
     "text": [
      " 39%|███▉      | 304/782 [00:16<00:25, 18.69it/s]"
     ]
    },
    {
     "name": "stdout",
     "output_type": "stream",
     "text": [
      "Train (epoch 25/30) [300/782 (38%)]\tLoss: 2.303509\n"
     ]
    },
    {
     "name": "stderr",
     "output_type": "stream",
     "text": [
      " 52%|█████▏    | 404/782 [00:22<00:20, 18.45it/s]"
     ]
    },
    {
     "name": "stdout",
     "output_type": "stream",
     "text": [
      "Train (epoch 25/30) [400/782 (51%)]\tLoss: 2.303510\n"
     ]
    },
    {
     "name": "stderr",
     "output_type": "stream",
     "text": [
      " 64%|██████▍   | 504/782 [00:27<00:15, 18.45it/s]"
     ]
    },
    {
     "name": "stdout",
     "output_type": "stream",
     "text": [
      "Train (epoch 25/30) [500/782 (64%)]\tLoss: 2.300482\n"
     ]
    },
    {
     "name": "stderr",
     "output_type": "stream",
     "text": [
      " 77%|███████▋  | 604/782 [00:32<00:09, 18.83it/s]"
     ]
    },
    {
     "name": "stdout",
     "output_type": "stream",
     "text": [
      "Train (epoch 25/30) [600/782 (77%)]\tLoss: 2.303302\n"
     ]
    },
    {
     "name": "stderr",
     "output_type": "stream",
     "text": [
      " 90%|█████████ | 704/782 [00:38<00:04, 18.63it/s]"
     ]
    },
    {
     "name": "stdout",
     "output_type": "stream",
     "text": [
      "Train (epoch 25/30) [700/782 (90%)]\tLoss: 2.301548\n"
     ]
    },
    {
     "name": "stderr",
     "output_type": "stream",
     "text": [
      "100%|██████████| 782/782 [00:42<00:00, 18.44it/s]\n",
      "100%|██████████| 157/157 [00:04<00:00, 37.91it/s]\n"
     ]
    },
    {
     "name": "stdout",
     "output_type": "stream",
     "text": [
      "Confusion Matrix:\n",
      "[[   0    0    0    0    0 1000    0    0    0    0]\n",
      " [   0    0    0    0    0 1000    0    0    0    0]\n",
      " [   0    0    0    0    0 1000    0    0    0    0]\n",
      " [   0    0    0    0    0 1000    0    0    0    0]\n",
      " [   0    0    0    0    0 1000    0    0    0    0]\n",
      " [   0    0    0    0    0 1000    0    0    0    0]\n",
      " [   0    0    0    0    0 1000    0    0    0    0]\n",
      " [   0    0    0    0    0 1000    0    0    0    0]\n",
      " [   0    0    0    0    0 1000    0    0    0    0]\n",
      " [   0    0    0    0    0 1000    0    0    0    0]]\n",
      "TRAIN_LOSS:  2.303 TRAIN_ACC:  9.744\n",
      "VAL_LOSS:  2.303 VAL_ACC:  10.000\n"
     ]
    },
    {
     "name": "stderr",
     "output_type": "stream",
     "text": [
      "  1%|          | 4/782 [00:00<00:45, 17.18it/s]"
     ]
    },
    {
     "name": "stdout",
     "output_type": "stream",
     "text": [
      "Train (epoch 26/30) [0/782 (0%)]\tLoss: 2.302670\n"
     ]
    },
    {
     "name": "stderr",
     "output_type": "stream",
     "text": [
      " 13%|█▎        | 104/782 [00:05<00:36, 18.74it/s]"
     ]
    },
    {
     "name": "stdout",
     "output_type": "stream",
     "text": [
      "Train (epoch 26/30) [100/782 (13%)]\tLoss: 2.303753\n"
     ]
    },
    {
     "name": "stderr",
     "output_type": "stream",
     "text": [
      " 26%|██▌       | 204/782 [00:11<00:30, 18.81it/s]"
     ]
    },
    {
     "name": "stdout",
     "output_type": "stream",
     "text": [
      "Train (epoch 26/30) [200/782 (26%)]\tLoss: 2.306947\n"
     ]
    },
    {
     "name": "stderr",
     "output_type": "stream",
     "text": [
      " 39%|███▉      | 304/782 [00:16<00:25, 18.60it/s]"
     ]
    },
    {
     "name": "stdout",
     "output_type": "stream",
     "text": [
      "Train (epoch 26/30) [300/782 (38%)]\tLoss: 2.303802\n"
     ]
    },
    {
     "name": "stderr",
     "output_type": "stream",
     "text": [
      " 51%|█████▏    | 402/782 [00:22<00:23, 15.85it/s]"
     ]
    },
    {
     "name": "stdout",
     "output_type": "stream",
     "text": [
      "Train (epoch 26/30) [400/782 (51%)]\tLoss: 2.300617\n"
     ]
    },
    {
     "name": "stderr",
     "output_type": "stream",
     "text": [
      " 64%|██████▍   | 504/782 [00:28<00:18, 14.95it/s]"
     ]
    },
    {
     "name": "stdout",
     "output_type": "stream",
     "text": [
      "Train (epoch 26/30) [500/782 (64%)]\tLoss: 2.300751\n"
     ]
    },
    {
     "name": "stderr",
     "output_type": "stream",
     "text": [
      " 77%|███████▋  | 604/782 [00:34<00:09, 18.52it/s]"
     ]
    },
    {
     "name": "stdout",
     "output_type": "stream",
     "text": [
      "Train (epoch 26/30) [600/782 (77%)]\tLoss: 2.301700\n"
     ]
    },
    {
     "name": "stderr",
     "output_type": "stream",
     "text": [
      " 90%|█████████ | 704/782 [00:40<00:04, 18.71it/s]"
     ]
    },
    {
     "name": "stdout",
     "output_type": "stream",
     "text": [
      "Train (epoch 26/30) [700/782 (90%)]\tLoss: 2.302441\n"
     ]
    },
    {
     "name": "stderr",
     "output_type": "stream",
     "text": [
      "100%|██████████| 782/782 [00:44<00:00, 17.64it/s]\n",
      "100%|██████████| 157/157 [00:04<00:00, 37.12it/s]\n"
     ]
    },
    {
     "name": "stdout",
     "output_type": "stream",
     "text": [
      "Confusion Matrix:\n",
      "[[   0    0    0    0    0    0    0 1000    0    0]\n",
      " [   0    0    0    0    0    0    0 1000    0    0]\n",
      " [   0    0    0    0    0    0    0 1000    0    0]\n",
      " [   0    0    0    0    0    0    0 1000    0    0]\n",
      " [   0    0    0    0    0    0    0 1000    0    0]\n",
      " [   0    0    0    0    0    0    0 1000    0    0]\n",
      " [   0    0    0    0    0    0    0 1000    0    0]\n",
      " [   0    0    0    0    0    0    0 1000    0    0]\n",
      " [   0    0    0    0    0    0    0 1000    0    0]\n",
      " [   0    0    0    0    0    0    0 1000    0    0]]\n",
      "TRAIN_LOSS:  2.303 TRAIN_ACC:  9.624\n",
      "VAL_LOSS:  2.303 VAL_ACC:  10.000\n"
     ]
    },
    {
     "name": "stderr",
     "output_type": "stream",
     "text": [
      "  1%|          | 4/782 [00:00<00:45, 17.14it/s]"
     ]
    },
    {
     "name": "stdout",
     "output_type": "stream",
     "text": [
      "Train (epoch 27/30) [0/782 (0%)]\tLoss: 2.302636\n"
     ]
    },
    {
     "name": "stderr",
     "output_type": "stream",
     "text": [
      " 13%|█▎        | 104/782 [00:05<00:37, 18.27it/s]"
     ]
    },
    {
     "name": "stdout",
     "output_type": "stream",
     "text": [
      "Train (epoch 27/30) [100/782 (13%)]\tLoss: 2.303908\n"
     ]
    },
    {
     "name": "stderr",
     "output_type": "stream",
     "text": [
      " 26%|██▌       | 204/782 [00:11<00:31, 18.36it/s]"
     ]
    },
    {
     "name": "stdout",
     "output_type": "stream",
     "text": [
      "Train (epoch 27/30) [200/782 (26%)]\tLoss: 2.303496\n"
     ]
    },
    {
     "name": "stderr",
     "output_type": "stream",
     "text": [
      " 39%|███▉      | 304/782 [00:16<00:25, 18.75it/s]"
     ]
    },
    {
     "name": "stdout",
     "output_type": "stream",
     "text": [
      "Train (epoch 27/30) [300/782 (38%)]\tLoss: 2.301440\n"
     ]
    },
    {
     "name": "stderr",
     "output_type": "stream",
     "text": [
      " 52%|█████▏    | 404/782 [00:21<00:20, 18.75it/s]"
     ]
    },
    {
     "name": "stdout",
     "output_type": "stream",
     "text": [
      "Train (epoch 27/30) [400/782 (51%)]\tLoss: 2.300356\n"
     ]
    },
    {
     "name": "stderr",
     "output_type": "stream",
     "text": [
      " 64%|██████▍   | 504/782 [00:27<00:14, 19.01it/s]"
     ]
    },
    {
     "name": "stdout",
     "output_type": "stream",
     "text": [
      "Train (epoch 27/30) [500/782 (64%)]\tLoss: 2.303387\n"
     ]
    },
    {
     "name": "stderr",
     "output_type": "stream",
     "text": [
      " 77%|███████▋  | 604/782 [00:32<00:09, 18.39it/s]"
     ]
    },
    {
     "name": "stdout",
     "output_type": "stream",
     "text": [
      "Train (epoch 27/30) [600/782 (77%)]\tLoss: 2.303267\n"
     ]
    },
    {
     "name": "stderr",
     "output_type": "stream",
     "text": [
      " 90%|█████████ | 704/782 [00:38<00:04, 18.61it/s]"
     ]
    },
    {
     "name": "stdout",
     "output_type": "stream",
     "text": [
      "Train (epoch 27/30) [700/782 (90%)]\tLoss: 2.302949\n"
     ]
    },
    {
     "name": "stderr",
     "output_type": "stream",
     "text": [
      "100%|██████████| 782/782 [00:42<00:00, 18.53it/s]\n",
      "100%|██████████| 157/157 [00:04<00:00, 37.94it/s]\n"
     ]
    },
    {
     "name": "stdout",
     "output_type": "stream",
     "text": [
      "Confusion Matrix:\n",
      "[[   0    0    0    0    0    0    0 1000    0    0]\n",
      " [   0    0    0    0    0    0    0 1000    0    0]\n",
      " [   0    0    0    0    0    0    0 1000    0    0]\n",
      " [   0    0    0    0    0    0    0 1000    0    0]\n",
      " [   0    0    0    0    0    0    0 1000    0    0]\n",
      " [   0    0    0    0    0    0    0 1000    0    0]\n",
      " [   0    0    0    0    0    0    0 1000    0    0]\n",
      " [   0    0    0    0    0    0    0 1000    0    0]\n",
      " [   0    0    0    0    0    0    0 1000    0    0]\n",
      " [   0    0    0    0    0    0    0 1000    0    0]]\n",
      "TRAIN_LOSS:  2.303 TRAIN_ACC:  9.758\n",
      "VAL_LOSS:  2.303 VAL_ACC:  10.000\n"
     ]
    },
    {
     "name": "stderr",
     "output_type": "stream",
     "text": [
      "  1%|          | 4/782 [00:00<00:44, 17.57it/s]"
     ]
    },
    {
     "name": "stdout",
     "output_type": "stream",
     "text": [
      "Train (epoch 28/30) [0/782 (0%)]\tLoss: 2.302123\n"
     ]
    },
    {
     "name": "stderr",
     "output_type": "stream",
     "text": [
      " 13%|█▎        | 104/782 [00:05<00:36, 18.75it/s]"
     ]
    },
    {
     "name": "stdout",
     "output_type": "stream",
     "text": [
      "Train (epoch 28/30) [100/782 (13%)]\tLoss: 2.301275\n"
     ]
    },
    {
     "name": "stderr",
     "output_type": "stream",
     "text": [
      " 26%|██▌       | 204/782 [00:11<00:30, 18.77it/s]"
     ]
    },
    {
     "name": "stdout",
     "output_type": "stream",
     "text": [
      "Train (epoch 28/30) [200/782 (26%)]\tLoss: 2.301672\n"
     ]
    },
    {
     "name": "stderr",
     "output_type": "stream",
     "text": [
      " 39%|███▉      | 304/782 [00:16<00:25, 18.83it/s]"
     ]
    },
    {
     "name": "stdout",
     "output_type": "stream",
     "text": [
      "Train (epoch 28/30) [300/782 (38%)]\tLoss: 2.303079\n"
     ]
    },
    {
     "name": "stderr",
     "output_type": "stream",
     "text": [
      " 52%|█████▏    | 404/782 [00:21<00:20, 18.36it/s]"
     ]
    },
    {
     "name": "stdout",
     "output_type": "stream",
     "text": [
      "Train (epoch 28/30) [400/782 (51%)]\tLoss: 2.302261\n"
     ]
    },
    {
     "name": "stderr",
     "output_type": "stream",
     "text": [
      " 64%|██████▍   | 504/782 [00:27<00:14, 18.68it/s]"
     ]
    },
    {
     "name": "stdout",
     "output_type": "stream",
     "text": [
      "Train (epoch 28/30) [500/782 (64%)]\tLoss: 2.303019\n"
     ]
    },
    {
     "name": "stderr",
     "output_type": "stream",
     "text": [
      " 77%|███████▋  | 604/782 [00:32<00:09, 18.67it/s]"
     ]
    },
    {
     "name": "stdout",
     "output_type": "stream",
     "text": [
      "Train (epoch 28/30) [600/782 (77%)]\tLoss: 2.302533\n"
     ]
    },
    {
     "name": "stderr",
     "output_type": "stream",
     "text": [
      " 90%|█████████ | 704/782 [00:37<00:04, 18.52it/s]"
     ]
    },
    {
     "name": "stdout",
     "output_type": "stream",
     "text": [
      "Train (epoch 28/30) [700/782 (90%)]\tLoss: 2.303404\n"
     ]
    },
    {
     "name": "stderr",
     "output_type": "stream",
     "text": [
      "100%|██████████| 782/782 [00:42<00:00, 18.53it/s]\n",
      "100%|██████████| 157/157 [00:04<00:00, 36.75it/s]\n"
     ]
    },
    {
     "name": "stdout",
     "output_type": "stream",
     "text": [
      "Confusion Matrix:\n",
      "[[   0    0    0    0    0    0    0    0 1000    0]\n",
      " [   0    0    0    0    0    0    0    0 1000    0]\n",
      " [   0    0    0    0    0    0    0    0 1000    0]\n",
      " [   0    0    0    0    0    0    0    0 1000    0]\n",
      " [   0    0    0    0    0    0    0    0 1000    0]\n",
      " [   0    0    0    0    0    0    0    0 1000    0]\n",
      " [   0    0    0    0    0    0    0    0 1000    0]\n",
      " [   0    0    0    0    0    0    0    0 1000    0]\n",
      " [   0    0    0    0    0    0    0    0 1000    0]\n",
      " [   0    0    0    0    0    0    0    0 1000    0]]\n",
      "TRAIN_LOSS:  2.303 TRAIN_ACC:  9.880\n",
      "VAL_LOSS:  2.303 VAL_ACC:  10.000\n"
     ]
    },
    {
     "name": "stderr",
     "output_type": "stream",
     "text": [
      "  1%|          | 4/782 [00:00<00:44, 17.61it/s]"
     ]
    },
    {
     "name": "stdout",
     "output_type": "stream",
     "text": [
      "Train (epoch 29/30) [0/782 (0%)]\tLoss: 2.303106\n"
     ]
    },
    {
     "name": "stderr",
     "output_type": "stream",
     "text": [
      " 13%|█▎        | 104/782 [00:05<00:37, 18.11it/s]"
     ]
    },
    {
     "name": "stdout",
     "output_type": "stream",
     "text": [
      "Train (epoch 29/30) [100/782 (13%)]\tLoss: 2.302032\n"
     ]
    },
    {
     "name": "stderr",
     "output_type": "stream",
     "text": [
      " 26%|██▌       | 204/782 [00:11<00:31, 18.53it/s]"
     ]
    },
    {
     "name": "stdout",
     "output_type": "stream",
     "text": [
      "Train (epoch 29/30) [200/782 (26%)]\tLoss: 2.304986\n"
     ]
    },
    {
     "name": "stderr",
     "output_type": "stream",
     "text": [
      " 39%|███▉      | 304/782 [00:16<00:25, 18.80it/s]"
     ]
    },
    {
     "name": "stdout",
     "output_type": "stream",
     "text": [
      "Train (epoch 29/30) [300/782 (38%)]\tLoss: 2.301286\n"
     ]
    },
    {
     "name": "stderr",
     "output_type": "stream",
     "text": [
      " 52%|█████▏    | 404/782 [00:21<00:20, 18.85it/s]"
     ]
    },
    {
     "name": "stdout",
     "output_type": "stream",
     "text": [
      "Train (epoch 29/30) [400/782 (51%)]\tLoss: 2.302502\n"
     ]
    },
    {
     "name": "stderr",
     "output_type": "stream",
     "text": [
      " 64%|██████▍   | 504/782 [00:27<00:15, 18.31it/s]"
     ]
    },
    {
     "name": "stdout",
     "output_type": "stream",
     "text": [
      "Train (epoch 29/30) [500/782 (64%)]\tLoss: 2.302505\n"
     ]
    },
    {
     "name": "stderr",
     "output_type": "stream",
     "text": [
      " 77%|███████▋  | 604/782 [00:32<00:09, 18.69it/s]"
     ]
    },
    {
     "name": "stdout",
     "output_type": "stream",
     "text": [
      "Train (epoch 29/30) [600/782 (77%)]\tLoss: 2.302048\n"
     ]
    },
    {
     "name": "stderr",
     "output_type": "stream",
     "text": [
      " 90%|█████████ | 704/782 [00:38<00:04, 18.76it/s]"
     ]
    },
    {
     "name": "stdout",
     "output_type": "stream",
     "text": [
      "Train (epoch 29/30) [700/782 (90%)]\tLoss: 2.302992\n"
     ]
    },
    {
     "name": "stderr",
     "output_type": "stream",
     "text": [
      "100%|██████████| 782/782 [00:42<00:00, 18.56it/s]\n",
      "100%|██████████| 157/157 [00:04<00:00, 37.41it/s]\n"
     ]
    },
    {
     "name": "stdout",
     "output_type": "stream",
     "text": [
      "Confusion Matrix:\n",
      "[[   0    0    0    0    0    0    0 1000    0    0]\n",
      " [   0    0    0    0    0    0    0 1000    0    0]\n",
      " [   0    0    0    0    0    0    0 1000    0    0]\n",
      " [   0    0    0    0    0    0    0 1000    0    0]\n",
      " [   0    0    0    0    0    0    0 1000    0    0]\n",
      " [   0    0    0    0    0    0    0 1000    0    0]\n",
      " [   0    0    0    0    0    0    0 1000    0    0]\n",
      " [   0    0    0    0    0    0    0 1000    0    0]\n",
      " [   0    0    0    0    0    0    0 1000    0    0]\n",
      " [   0    0    0    0    0    0    0 1000    0    0]]\n",
      "TRAIN_LOSS:  2.303 TRAIN_ACC:  9.998\n",
      "VAL_LOSS:  2.303 VAL_ACC:  10.000\n"
     ]
    },
    {
     "name": "stderr",
     "output_type": "stream",
     "text": [
      "  1%|          | 4/782 [00:00<00:43, 18.00it/s]"
     ]
    },
    {
     "name": "stdout",
     "output_type": "stream",
     "text": [
      "Train (epoch 30/30) [0/782 (0%)]\tLoss: 2.304490\n"
     ]
    },
    {
     "name": "stderr",
     "output_type": "stream",
     "text": [
      " 13%|█▎        | 104/782 [00:05<00:36, 18.53it/s]"
     ]
    },
    {
     "name": "stdout",
     "output_type": "stream",
     "text": [
      "Train (epoch 30/30) [100/782 (13%)]\tLoss: 2.300125\n"
     ]
    },
    {
     "name": "stderr",
     "output_type": "stream",
     "text": [
      " 26%|██▌       | 204/782 [00:11<00:31, 18.09it/s]"
     ]
    },
    {
     "name": "stdout",
     "output_type": "stream",
     "text": [
      "Train (epoch 30/30) [200/782 (26%)]\tLoss: 2.303406\n"
     ]
    },
    {
     "name": "stderr",
     "output_type": "stream",
     "text": [
      " 39%|███▉      | 304/782 [00:16<00:25, 18.95it/s]"
     ]
    },
    {
     "name": "stdout",
     "output_type": "stream",
     "text": [
      "Train (epoch 30/30) [300/782 (38%)]\tLoss: 2.303774\n"
     ]
    },
    {
     "name": "stderr",
     "output_type": "stream",
     "text": [
      " 52%|█████▏    | 404/782 [00:22<00:20, 18.62it/s]"
     ]
    },
    {
     "name": "stdout",
     "output_type": "stream",
     "text": [
      "Train (epoch 30/30) [400/782 (51%)]\tLoss: 2.303231\n"
     ]
    },
    {
     "name": "stderr",
     "output_type": "stream",
     "text": [
      " 64%|██████▍   | 504/782 [00:27<00:15, 18.41it/s]"
     ]
    },
    {
     "name": "stdout",
     "output_type": "stream",
     "text": [
      "Train (epoch 30/30) [500/782 (64%)]\tLoss: 2.301652\n"
     ]
    },
    {
     "name": "stderr",
     "output_type": "stream",
     "text": [
      " 77%|███████▋  | 604/782 [00:32<00:09, 18.70it/s]"
     ]
    },
    {
     "name": "stdout",
     "output_type": "stream",
     "text": [
      "Train (epoch 30/30) [600/782 (77%)]\tLoss: 2.300832\n"
     ]
    },
    {
     "name": "stderr",
     "output_type": "stream",
     "text": [
      " 90%|█████████ | 704/782 [00:38<00:04, 18.56it/s]"
     ]
    },
    {
     "name": "stdout",
     "output_type": "stream",
     "text": [
      "Train (epoch 30/30) [700/782 (90%)]\tLoss: 2.302078\n"
     ]
    },
    {
     "name": "stderr",
     "output_type": "stream",
     "text": [
      "100%|██████████| 782/782 [00:42<00:00, 18.42it/s]\n",
      "100%|██████████| 157/157 [00:04<00:00, 37.09it/s]\n"
     ]
    },
    {
     "name": "stdout",
     "output_type": "stream",
     "text": [
      "Confusion Matrix:\n",
      "[[   0    0    0    0    0    0    0 1000    0    0]\n",
      " [   0    0    0    0    0    0    0 1000    0    0]\n",
      " [   0    0    0    0    0    0    0 1000    0    0]\n",
      " [   0    0    0    0    0    0    0 1000    0    0]\n",
      " [   0    0    0    0    0    0    0 1000    0    0]\n",
      " [   0    0    0    0    0    0    0 1000    0    0]\n",
      " [   0    0    0    0    0    0    0 1000    0    0]\n",
      " [   0    0    0    0    0    0    0 1000    0    0]\n",
      " [   0    0    0    0    0    0    0 1000    0    0]\n",
      " [   0    0    0    0    0    0    0 1000    0    0]]\n",
      "TRAIN_LOSS:  2.303 TRAIN_ACC:  9.902\n",
      "VAL_LOSS:  2.303 VAL_ACC:  10.000\n"
     ]
    },
    {
     "data": {
      "image/png": "[encoded data removed]",
      "text/plain": [
       "<Figure size 432x288 with 1 Axes>"
      ]
     },
     "metadata": {
      "needs_background": "light"
     },
     "output_type": "display_data"
    }
   ],
   "source": [
    "from tqdm import tqdm\n",
    "import torch.nn.functional as F\n",
    "\n",
    "total_train_losses = []\n",
    "total_val_losses = []\n",
    "\n",
    "for epoch in range(1,epochs+1):\n",
    "\n",
    "    model.train()\n",
    "    train_losses = []\n",
    "    confusion_matrix.reset()\n",
    "\n",
    "    for i, batch, in enumerate(tqdm(train_dataloader)):\n",
    "        img_batch, lbl_batch = batch\n",
    "        img_batch, lbl_batch=img_batch.to(device), lbl_batch.to(device)\n",
    "\n",
    "\n",
    "        optimizer.zero_grad()\n",
    "        outputs = model(img_batch.float())\n",
    "        loss=criterion(outputs, lbl_batch.long())\n",
    "        loss.backward()\n",
    "        optimizer.step()\n",
    "\n",
    "\n",
    "        train_losses.append(loss.item())\n",
    "        confusion_matrix.add(outputs.data.squeeze(), lbl_batch.long())\n",
    "\n",
    "        if i % 100 == 0:\n",
    "            print('Train (epoch {}/{}) [{}/{} ({:.0f}%)]\\tLoss: {:.6f}'.format(\n",
    "                epoch, epochs, i, len(train_dataloader),100.*i/len(train_dataloader), loss.item()))\n",
    "\n",
    "    train_acc=(np.trace(confusion_matrix.conf)/float(np.ndarray.sum(confusion_matrix.conf))) *100\n",
    "    train_loss_mean = np.mean(train_losses)\n",
    "    total_train_losses.append(train_loss_mean)\n",
    "    \n",
    "    model.eval()\n",
    "    val_losses = []\n",
    "    confusion_matrix.reset()\n",
    "\n",
    "    for i, batch, in enumerate(tqdm(val_dataloader)):\n",
    "        img_batch, lbl_batch = batch\n",
    "        img_batch, lbl_batch=img_batch.to(device), lbl_batch.to(device)\n",
    "\n",
    "        with torch.no_grad():\n",
    "          outputs=model(img_batch.float())\n",
    "          loss=criterion(outputs, lbl_batch.long())\n",
    "          _, predictions = torch.max(outputs, 1)\n",
    "          for label, prediction in zip(lbl_batch.long(), predictions):\n",
    "              if label == prediction:\n",
    "                  correct_pred[classes[label]] += 1\n",
    "              total_pred[classes[label]] += 1\n",
    "\n",
    "\n",
    "        confusion_matrix.add(outputs.data.squeeze(), lbl_batch.long())\n",
    "        val_losses.append(loss.item())\n",
    "\n",
    "    print('Confusion Matrix:')\n",
    "    print(confusion_matrix.conf)\n",
    "\n",
    "    val_acc=(np.trace(confusion_matrix.conf)/float(np.ndarray.sum(confusion_matrix.conf))) *100\n",
    "    val_loss_mean = np.mean(val_losses)\n",
    "    total_val_losses.append(val_loss_mean)\n",
    "\n",
    "    print('TRAIN_LOSS: ', '%.3f' % train_loss_mean, 'TRAIN_ACC: ', '%.3f' % train_acc)\n",
    "    print('VAL_LOSS: ', '%.3f' % val_loss_mean, 'VAL_ACC: ', '%.3f' % val_acc)\n",
    "\n",
    "    write_results(save_folder, epoch, train_acc, val_acc, train_loss_mean, val_loss_mean)\n",
    "\n",
    "    torch.save(model.state_dict(), save_folder + '/model_{}.pt'.format(epoch))\n",
    "\n",
    "save_graph(total_train_losses, total_val_losses, epochs, save_folder)\n",
    "\n"
   ]
  },
  {
   "cell_type": "markdown",
   "metadata": {
    "id": "rlnrqOs0ukMx"
   },
   "source": [
    "Make sure to save your optimal model at the location\n",
    "\n",
    "'drive/..../model.pt'"
   ]
  },
  {
   "cell_type": "markdown",
   "metadata": {
    "id": "1Kp8nRiGRKmF"
   },
   "source": [
    "### 1f) Get an intermediate layer from your convolutional neural network and visualize what patterns the network has learned\n",
    "*   Complete the following code that visualizes the patterns of the network\n",
    "*   Write a small description commenting on the visualized maps. What do you observe in the different visualizations of the feature maps?"
   ]
  },
  {
   "cell_type": "code",
   "execution_count": null,
   "metadata": {
    "colab": {
     "base_uri": "https://localhost:8080/"
    },
    "id": "jSSGZEoFVm-k",
    "outputId": "fa41400f-3a42-419f-9d67-599ab21675e0"
   },
   "outputs": [
    {
     "name": "stdout",
     "output_type": "stream",
     "text": [
      "My intermediate layer to visualize is: {'type': 'ReLU'}\n"
     ]
    }
   ],
   "source": [
    "# The intermediate layer you should visualize:\n",
    "print('My intermediate layer to visualize is: %s'%(my_architecture_dict['Layer_012']))"
   ]
  },
  {
   "cell_type": "code",
   "execution_count": null,
   "metadata": {
    "id": "Y5YFQgu_u320"
   },
   "outputs": [],
   "source": [
    "##load your optimal model\n",
    "\n",
    "# *****START CODE\n",
    "model = ConvNet().to(device)\n",
    "\n",
    "if device == 'cuda':\n",
    "  model.load_state_dict(torch.load(save_folder + '/model_8.pt'))\n",
    "else:\n",
    "  model.load_state_dict(torch.load(save_folder + '/model_8.pt',map_location=torch.device('cpu')))\n",
    "\n",
    "# *****END CODE"
   ]
  },
  {
   "cell_type": "code",
   "execution_count": null,
   "metadata": {
    "colab": {
     "base_uri": "https://localhost:8080/"
    },
    "id": "xk4FadJSRKmG",
    "outputId": "c98aa706-2e4f-431b-9f8a-8792dc096f40"
   },
   "outputs": [
    {
     "name": "stdout",
     "output_type": "stream",
     "text": [
      "Filter 0. Epoch 20. Loss = -0.0000\n",
      "Filter 1. Epoch 20. Loss = -0.0003\n",
      "Filter 2. Epoch 20. Loss = -0.0000\n",
      "Filter 3. Epoch 20. Loss = -0.3649\n",
      "Filter 4. Epoch 20. Loss = -0.2220\n",
      "Filter 5. Epoch 20. Loss = -0.0487\n",
      "Filter 6. Epoch 20. Loss = -0.0005\n",
      "Filter 7. Epoch 20. Loss = -0.0000\n",
      "Filter 8. Epoch 20. Loss = -0.0008\n",
      "Filter 9. Epoch 20. Loss = -0.0000\n",
      "Filter 10. Epoch 20. Loss = -0.0000\n",
      "Filter 11. Epoch 20. Loss = -0.0585\n",
      "Filter 12. Epoch 20. Loss = -0.1147\n",
      "Filter 13. Epoch 20. Loss = -0.0121\n",
      "Filter 14. Epoch 20. Loss = -0.2553\n",
      "Filter 15. Epoch 20. Loss = -0.0000\n",
      "Filter 16. Epoch 20. Loss = -0.1757\n",
      "Filter 17. Epoch 20. Loss = -0.0060\n",
      "Filter 18. Epoch 20. Loss = -0.0051\n",
      "Filter 19. Epoch 20. Loss = -0.0212\n",
      "Filter 20. Epoch 20. Loss = -0.0000\n",
      "Filter 21. Epoch 20. Loss = -0.0047\n",
      "Filter 22. Epoch 20. Loss = -0.0018\n",
      "Filter 23. Epoch 20. Loss = -0.0001\n",
      "Filter 24. Epoch 20. Loss = -0.0000\n",
      "Filter 25. Epoch 20. Loss = -0.0090\n",
      "Filter 26. Epoch 20. Loss = -0.0011\n",
      "Filter 27. Epoch 20. Loss = -0.0000\n",
      "Filter 28. Epoch 20. Loss = -0.0002\n",
      "Filter 29. Epoch 20. Loss = -0.0403\n",
      "Filter 30. Epoch 20. Loss = -0.0599\n",
      "Filter 31. Epoch 20. Loss = -0.0173\n"
     ]
    }
   ],
   "source": [
    "import sys\n",
    "from skimage import io\n",
    "import torchvision.utils as vutils\n",
    "import torch.optim as optim\n",
    "\n",
    "##function for printing the loss during optimization\n",
    "def write_flush(text, stream=sys.stdout):\n",
    "    stream.write(text)\n",
    "    stream.flush()\n",
    "    return\n",
    "\n",
    "## Number of feature maps in the intermediate layer that you have chosen. \n",
    "# *****START CODE\n",
    "n_conv =  32 # e.g 64\n",
    "# *****END CODE\n",
    "\n",
    "## Size of visualised filter.\n",
    "img_size = 8\n",
    "\n",
    "##load your optimal model\n",
    "# *****START CODE\n",
    "model = ConvNet().to(device)\n",
    "\n",
    "if device == 'cuda':\n",
    "  model.load_state_dict(torch.load(save_folder + '/model_8.pt'))\n",
    "else:\n",
    "  model.load_state_dict(torch.load(save_folder + '/model_8.pt',map_location=torch.device('cpu')))\n",
    "\n",
    "# *****END CODE\n",
    "\n",
    "\n",
    "## Create a submodel, until the intermediate layer of your choice.\n",
    "## Hint: Use model.#name# to create the succession of layers, where #name#\n",
    "## stands for the layer names that you defined in the initialization function \n",
    "## of your model.\n",
    "# *****START CODE\n",
    "submodel = nn.Sequential(\n",
    "    model.l1conv,\n",
    "    model.l2relu,\n",
    "    model.l3conv,\n",
    "    model.l4relu,\n",
    "    model.l5maxpool,\n",
    "    model.l6conv,\n",
    "    model.l7relu,\n",
    "    model.l8conv,\n",
    "    model.l9relu,\n",
    "    model.l10maxpool,\n",
    "    model.l11conv,\n",
    "    model.l12relu\n",
    ")\n",
    "# *****END CODE\n",
    "submodel.cuda()\n",
    "## Put submodel in eval mode.\n",
    "\n",
    "\n",
    "## Tensor to visualised filters. \n",
    "img_stack = torch.zeros((n_conv, 3, img_size, img_size))\n",
    "img_base = torch.zeros((n_conv, 3, 32, 32))\n",
    "\n",
    "## Number of epochs to run for every filter. \n",
    "# *****START CODE\n",
    "n_epochs_per_filt = 20  #e.g 30\n",
    "# *****END CODE\n",
    "\n",
    "## Visualise every convolution. \n",
    "for c in range(n_conv):\n",
    "    ## Initialise with random image. \n",
    "    img, label = next(iter(train_dataloader))\n",
    "\n",
    "    # img = torch.rand(1, 3, img_size, img_size).float()\n",
    "    #img = img.to(device)\n",
    "\n",
    "    ## Turn on gradient calculation on the image\n",
    "    # *****START CODE\n",
    "    img.requires_grad = True\n",
    "    # *****END CODE\n",
    "\n",
    "    ## Define optimizer.\n",
    "    # *****START CODE\n",
    "    optimizer = torch.optim.Adam([img], lr=0.001, weight_decay=0.0001)  \n",
    "    # *****END CODE\n",
    "    \n",
    "    for f in range(n_epochs_per_filt):\n",
    "        optimizer.zero_grad()\n",
    "        ## Feedforward propagation\n",
    "        ## Hint: In order to find the loss, compupte the negative of the activation of the hidden layer. \n",
    "        ## The objective is to produce an input image which maximizes the activation \n",
    "        ## of neurons in a particular hidden layer. \n",
    "        # *****START CODE\n",
    "        output = submodel(img.cuda())\n",
    "        loss = -torch.mean(output[:,c,:,:])\n",
    "        loss.backward()\n",
    "        optimizer.step()\n",
    "        # *****END CODE\n",
    "        write_flush('\\rFilter %d. Epoch %d. Loss = %.4f'%(c, f+1, loss.item()))\n",
    "\n",
    "    write_flush('\\n')\n",
    "    img_base[c, :, :, :] = img[0].detach()\n",
    "    img = output[0]\n",
    "    # img_stack[c, :, :, :] = img[0].detach()\n"
   ]
  },
  {
   "cell_type": "code",
   "execution_count": null,
   "metadata": {
    "colab": {
     "base_uri": "https://localhost:8080/",
     "height": 385
    },
    "id": "KIo0LV3WCjk9",
    "outputId": "4b8dff61-8e1e-4f2a-c079-980e9324fb56"
   },
   "outputs": [
    {
     "data": {
      "image/png": "[encoded data removed]",
      "text/plain": [
       "<Figure size 1008x504 with 1 Axes>"
      ]
     },
     "metadata": {
      "needs_background": "light"
     },
     "output_type": "display_data"
    }
   ],
   "source": [
    "## Make grid out of visualized base images for contemplating about the learned features at intermediate layer\n",
    "\n",
    "G2 = vutils.make_grid(img_base, nrow=8, normalize=True, padding=1).permute(1,2,0).numpy()\n",
    "plt.figure(figsize=(14,7))\n",
    "plt.imshow(G2)\n",
    "plt.axis('equal')\n",
    "plt.axis('off')\n",
    "plt.show()"
   ]
  },
  {
   "cell_type": "markdown",
   "metadata": {
    "id": "4dfeLUNQVm-k"
   },
   "source": [
    "### 1g) Use GradCAM algorithm to visualize the saliency maps of your trained model at the same intermediate layer\n",
    "*   Install pytorch grad cam package if needed (https://github.com/jacobgil/pytorch-grad-cam)\n",
    "*   Complete the following code that visualizes GradCAM heatmaps on an input image from your model\n",
    "*   Try on several input images / classes. \n",
    "*   Write a small description commenting on the visualized heatmaps. "
   ]
  },
  {
   "cell_type": "code",
   "execution_count": null,
   "metadata": {
    "colab": {
     "base_uri": "https://localhost:8080/"
    },
    "id": "jkXGgb11Vm-l",
    "outputId": "b70ded6a-7453-4a86-b117-8adf4bdd2c43"
   },
   "outputs": [
    {
     "name": "stdout",
     "output_type": "stream",
     "text": [
      "Looking in indexes: https://pypi.org/simple, https://us-python.pkg.dev/colab-wheels/public/simple/\n",
      "Collecting grad-cam\n",
      "  Downloading grad-cam-1.4.6.tar.gz (7.8 MB)\n",
      "\u001b[2K     \u001b[90m━━━━━━━━━━━━━━━━━━━━━━━━━━━━━━━━━━━━━━━━\u001b[0m \u001b[32m7.8/7.8 MB\u001b[0m \u001b[31m74.4 MB/s\u001b[0m eta \u001b[36m0:00:00\u001b[0m\n",
      "\u001b[?25h  Installing build dependencies ... \u001b[?25l\u001b[?25hdone\n",
      "  Getting requirements to build wheel ... \u001b[?25l\u001b[?25hdone\n",
      "  Preparing metadata (pyproject.toml) ... \u001b[?25l\u001b[?25hdone\n",
      "Requirement already satisfied: matplotlib in /usr/local/lib/python3.8/dist-packages (from grad-cam) (3.2.2)\n",
      "Requirement already satisfied: Pillow in /usr/local/lib/python3.8/dist-packages (from grad-cam) (7.1.2)\n",
      "Requirement already satisfied: torchvision>=0.8.2 in /usr/local/lib/python3.8/dist-packages (from grad-cam) (0.14.1+cu116)\n",
      "Requirement already satisfied: scikit-learn in /usr/local/lib/python3.8/dist-packages (from grad-cam) (1.0.2)\n",
      "Requirement already satisfied: tqdm in /usr/local/lib/python3.8/dist-packages (from grad-cam) (4.64.1)\n",
      "Collecting ttach\n",
      "  Downloading ttach-0.0.3-py3-none-any.whl (9.8 kB)\n",
      "Requirement already satisfied: torch>=1.7.1 in /usr/local/lib/python3.8/dist-packages (from grad-cam) (1.13.1+cu116)\n",
      "Requirement already satisfied: numpy in /usr/local/lib/python3.8/dist-packages (from grad-cam) (1.21.6)\n",
      "Requirement already satisfied: opencv-python in /usr/local/lib/python3.8/dist-packages (from grad-cam) (4.6.0.66)\n",
      "Requirement already satisfied: typing-extensions in /usr/local/lib/python3.8/dist-packages (from torch>=1.7.1->grad-cam) (4.4.0)\n",
      "Requirement already satisfied: requests in /usr/local/lib/python3.8/dist-packages (from torchvision>=0.8.2->grad-cam) (2.25.1)\n",
      "Requirement already satisfied: kiwisolver>=1.0.1 in /usr/local/lib/python3.8/dist-packages (from matplotlib->grad-cam) (1.4.4)\n",
      "Requirement already satisfied: python-dateutil>=2.1 in /usr/local/lib/python3.8/dist-packages (from matplotlib->grad-cam) (2.8.2)\n",
      "Requirement already satisfied: pyparsing!=2.0.4,!=2.1.2,!=2.1.6,>=2.0.1 in /usr/local/lib/python3.8/dist-packages (from matplotlib->grad-cam) (3.0.9)\n",
      "Requirement already satisfied: cycler>=0.10 in /usr/local/lib/python3.8/dist-packages (from matplotlib->grad-cam) (0.11.0)\n",
      "Requirement already satisfied: threadpoolctl>=2.0.0 in /usr/local/lib/python3.8/dist-packages (from scikit-learn->grad-cam) (3.1.0)\n",
      "Requirement already satisfied: joblib>=0.11 in /usr/local/lib/python3.8/dist-packages (from scikit-learn->grad-cam) (1.2.0)\n",
      "Requirement already satisfied: scipy>=1.1.0 in /usr/local/lib/python3.8/dist-packages (from scikit-learn->grad-cam) (1.7.3)\n",
      "Requirement already satisfied: six>=1.5 in /usr/local/lib/python3.8/dist-packages (from python-dateutil>=2.1->matplotlib->grad-cam) (1.15.0)\n",
      "Requirement already satisfied: urllib3<1.27,>=1.21.1 in /usr/local/lib/python3.8/dist-packages (from requests->torchvision>=0.8.2->grad-cam) (1.26.14)\n",
      "Requirement already satisfied: certifi>=2017.4.17 in /usr/local/lib/python3.8/dist-packages (from requests->torchvision>=0.8.2->grad-cam) (2022.12.7)\n",
      "Requirement already satisfied: idna<3,>=2.5 in /usr/local/lib/python3.8/dist-packages (from requests->torchvision>=0.8.2->grad-cam) (2.10)\n",
      "Requirement already satisfied: chardet<5,>=3.0.2 in /usr/local/lib/python3.8/dist-packages (from requests->torchvision>=0.8.2->grad-cam) (4.0.0)\n",
      "Building wheels for collected packages: grad-cam\n",
      "  Building wheel for grad-cam (pyproject.toml) ... \u001b[?25l\u001b[?25hdone\n",
      "  Created wheel for grad-cam: filename=grad_cam-1.4.6-py3-none-any.whl size=38261 sha256=bb66074354855d50f4eb6558a384dfd0678f5981936d78fe669b70af98c5632f\n",
      "  Stored in directory: /root/.cache/pip/wheels/53/02/43/1f75726b5c28459596067ad91e36951463c01273eef661f09f\n",
      "Successfully built grad-cam\n",
      "Installing collected packages: ttach, grad-cam\n",
      "Successfully installed grad-cam-1.4.6 ttach-0.0.3\n"
     ]
    }
   ],
   "source": [
    "# Install pytorch grad cam package\n",
    "! pip install grad-cam"
   ]
  },
  {
   "cell_type": "code",
   "execution_count": null,
   "metadata": {
    "colab": {
     "base_uri": "https://localhost:8080/"
    },
    "id": "Qgjo33_luU2s",
    "outputId": "b7a8f029-9b56-4760-9a0b-fc6f3fe78e2f"
   },
   "outputs": [
    {
     "name": "stdout",
     "output_type": "stream",
     "text": [
      "Files already downloaded and verified\n"
     ]
    }
   ],
   "source": [
    "# Importing data for using a random image as input in the GRAD-CAM implementation\n",
    "transform_train1 = transforms.Compose([\n",
    "    transforms.ToTensor()\n",
    "])\n",
    "\n",
    "batch_size=64\n",
    "trainset1 = torchvision.datasets.CIFAR10(root='./data', train=True, download=True, transform=transform_train1)\n",
    "train_dataloader1 = torch.utils.data.DataLoader(trainset1, batch_size=batch_size , shuffle=True)"
   ]
  },
  {
   "cell_type": "code",
   "execution_count": null,
   "metadata": {
    "id": "RiTl3mImrA2b"
   },
   "outputs": [],
   "source": [
    "# Importing data for using dataloader for a random image\n",
    "\n",
    "index, image_label = next(enumerate(train_dataloader1))\n",
    "image, label = image_label\n",
    "\n",
    "from random import randint\n",
    "\n",
    "num = randint(0, len(label)-1)\n",
    "rgb_img = image[num]"
   ]
  },
  {
   "cell_type": "code",
   "execution_count": null,
   "metadata": {
    "colab": {
     "base_uri": "https://localhost:8080/",
     "height": 284
    },
    "id": "5MgsHyOerKCd",
    "outputId": "a3a3095b-ae85-49dd-c039-d18ec15b0f31"
   },
   "outputs": [
    {
     "data": {
      "text/plain": [
       "<matplotlib.image.AxesImage at 0x7f90a6121d60>"
      ]
     },
     "execution_count": 56,
     "metadata": {},
     "output_type": "execute_result"
    },
    {
     "data": {
      "image/png": "[encoded data removed]",
      "text/plain": [
       "<Figure size 432x288 with 1 Axes>"
      ]
     },
     "metadata": {
      "needs_background": "light"
     },
     "output_type": "display_data"
    }
   ],
   "source": [
    "from pytorch_grad_cam import GradCAM\n",
    "from pytorch_grad_cam.utils.image import show_cam_on_image\n",
    "from pytorch_grad_cam.utils.model_targets import ClassifierOutputTarget\n",
    "\n",
    "use_cuda = False\n",
    "\n",
    "# *****START CODE\n",
    "model = ConvNet().to(device)\n",
    "\n",
    "if device == 'cuda':\n",
    "  model.load_state_dict(torch.load(save_folder + '/model_8.pt'))\n",
    "else:\n",
    "  model.load_state_dict(torch.load(save_folder + '/model_8.pt',map_location=torch.device('cpu')))\n",
    "\n",
    "#  Get your intermediate layer\n",
    "target_layers = [model.l1conv]\n",
    "\n",
    "input_tensor = torch.from_numpy(np.array(rgb_img,np.float32)).unsqueeze(0).to(device)\n",
    "\n",
    "# Note: input_tensor can be a batch tensor with several images!\n",
    "target_category = [ClassifierOutputTarget(7)]\n",
    "# *****END CODE\n",
    "\n",
    "# Construct the CAM object once, and then re-use it on many images:\n",
    "cam = GradCAM(model=model, target_layers=target_layers, use_cuda=use_cuda)\n",
    "\n",
    "# You can also pass aug_smooth=True and eigen_smooth=True, to apply smoothing.\n",
    "grayscale_cam = cam(input_tensor=input_tensor, targets=target_category)\n",
    "\n",
    "# In this example grayscale_cam has only one image in the batch:\n",
    "grayscale_cam = grayscale_cam[0, :]\n",
    "visualization = show_cam_on_image(np.array(rgb_img.permute(1,2,0),np.float32), grayscale_cam, use_rgb=True)\n",
    "\n",
    "# Plot figure\n",
    "plt.figure()\n",
    "plt.imshow(visualization)\n"
   ]
  },
  {
   "cell_type": "code",
   "execution_count": null,
   "metadata": {
    "colab": {
     "base_uri": "https://localhost:8080/",
     "height": 318
    },
    "id": "_X_Sh1UVaiwx",
    "outputId": "2cbedaf8-c9da-4e60-ab0b-7127e33fb2aa"
   },
   "outputs": [
    {
     "data": {
      "image/png": "[encoded data removed]",
      "text/plain": [
       "<Figure size 720x432 with 2 Axes>"
      ]
     },
     "metadata": {
      "needs_background": "light"
     },
     "output_type": "display_data"
    }
   ],
   "source": [
    "# Figures showing base and grayscale_cam images\n",
    "\n",
    "fig, (ax1, ax2) = plt.subplots(1,2, figsize=(10,6))\n",
    "ax1.imshow(rgb_img.permute(1,2,0))\n",
    "ax1.set_title('RGB');\n",
    "\n",
    "ax2.imshow(grayscale_cam, cmap='gray')\n",
    "ax2.set_title('GrayScale')\n",
    "ax2.set_axis_off()"
   ]
  },
  {
   "cell_type": "markdown",
   "metadata": {
    "id": "C8q7ghr8CPlh"
   },
   "source": [
    "## Question 2 - Train on geometrical shapes"
   ]
  },
  {
   "cell_type": "code",
   "execution_count": null,
   "metadata": {
    "id": "BabxvBFKCO2s"
   },
   "outputs": [],
   "source": [
    "# Solution not found"
   ]
  },
  {
   "cell_type": "markdown",
   "metadata": {
    "id": "qmogb4BZqanY"
   },
   "source": [
    "#Question 3\n",
    "Answer these generic questions:"
   ]
  },
  {
   "cell_type": "markdown",
   "metadata": {
    "id": "UI7zK3GOqiPU"
   },
   "source": [
    "### **3a)** What is a metric? What is a loss? What is the difference between both?\n"
   ]
  },
  {
   "cell_type": "markdown",
   "metadata": {
    "id": "Fse981-xqsaR"
   },
   "source": [
    "Metrics and loss functions serve distinct yet complementary roles in evaluating and training models. A metric is a quantitative measure of a model's performance on a specific task, such as image classification accuracy on a test set. Conversely, a loss function quantifies the discrepancy between a model's predicted output and the true output, with the goal of training the model to minimize this loss. For example, in the context of image classification, the cross-entropy loss function compares the predicted class probabilities with the true labels and assigns a penalty for incorrect predictions. Through minimizing the average cross-entropy loss over the training set, the model is guided towards output that more closely aligns with the desired output.\n"
   ]
  },
  {
   "cell_type": "markdown",
   "metadata": {
    "id": "LEPKyXQzqu0T"
   },
   "source": [
    "### **3b)** Why deep learning models are difficult to understand even on a particular prediction?\n",
    "\n",
    "\n",
    "\n"
   ]
  },
  {
   "cell_type": "markdown",
   "metadata": {
    "id": "zkE-FQ3aq_Pi"
   },
   "source": [
    "Your answer:\n",
    "\n",
    "Below listed are are a few reasons for why deep learning models are difficult to understand. \n",
    "\n",
    "1. Complexity: DL models are complex and highly non-linear systems. This complexity makes them difficult to understand even on a particular prediction because there are many layers of computations and interactions between different neurons that contribute to the final output. Additionally, the internal representations learned by the model may not align with human intuition or concepts, making it difficult to understand how the model arrived at its prediction.\n",
    "\n",
    "2. High dimentionality: Not only do DL models usually take in a large number of input features, the number of parameters configured internally in the networks make it tough to understand. \n",
    "3. Internal Representations: The internal representations learned by the model may not align with intuition or concepts, making it difficult to understand how the model arrived at its prediction.\n",
    "4. Regularization techniques : Regularization techniques such as dropout and batch normalization are used to prevent overfitting, which can make it harder to understand the model's behavior.\n",
    "\n",
    "\n",
    "\n",
    "\n",
    "\n"
   ]
  },
  {
   "cell_type": "markdown",
   "metadata": {
    "id": "nB17ceedrBvD"
   },
   "source": [
    "### 3c) What is \"out of domain data\"?"
   ]
  },
  {
   "cell_type": "markdown",
   "metadata": {
    "id": "GSxTeaBbrN39"
   },
   "source": [
    "Out-of-domain data refers to data that is not representative of the distribution of the data that the model was trained on. It is important to consider the performance of a model on out-of-domain data, as it can indicate how well the model generalizes to new, unseen data. A model that is trained on a specific distribution of data, such as a dataset of images of cats, might perform well when presented with new images of cats, but it might not perform as well when presented with images of dogs or other animals that were not present in the training data. Vis a viz the model is being presented with data that is not representative of the distribution it was trained on. Out of domain data can also be referred to as unseen data or novel data, that haven't been seen before during the training phase. Out-of-domain data is important to consider because it can indicate how well a model generalizes to new, unseen data, and can help identify potential biases in the training data.\n",
    "\n",
    "\n",
    "\n"
   ]
  },
  {
   "cell_type": "markdown",
   "metadata": {
    "id": "gW4zn1h6rO8J"
   },
   "source": [
    "### 3d) Name five tasks where Deep Learning models are the state-of-the-art:\n",
    "For example: Folding proteins in Biology"
   ]
  },
  {
   "cell_type": "markdown",
   "metadata": {
    "id": "26X2qPH6ruN8"
   },
   "source": [
    "Your answer:\n",
    "\n",
    " Following are a few examples of applications of deep learning:\n",
    "\n",
    "1. Autonomous driving: With the onset of deep learning, cars driving themselves have become a possibility. \n",
    "\n",
    "2. Speech to text: NLP methods have enabled crisp speech to text conversions.\n",
    "\n",
    "3. Deep Fakes: Deep fakes enable person in an existing image or video to be replaced with someone else's likeness. \n",
    "\n",
    "4. Image generation: GANs and other methods have enabled useras to generate new unseen images from text descriptions.\n",
    "\n",
    "5. Chatbots and virtual assistants: Real time generated responses without human intervention has been made possible by DL developments.\n"
   ]
  },
  {
   "cell_type": "markdown",
   "metadata": {
    "id": "z9aeE0ikrvUI"
   },
   "source": [
    "3e) What is an “activation function” and what is it used for in Deep Learning models?"
   ]
  },
  {
   "cell_type": "markdown",
   "metadata": {
    "id": "pIgnFkHGtA-k"
   },
   "source": [
    "Your answer:\n",
    "An activation function is a mathematical function that is applied to the output of a neuron in a neural network. Its purpose is to introduce non-linearity into the output of the neuron, allowing the neural network to learn a wider range of functions and represent more complex models. Common activation functions include sigmoid, ReLU (rectified linear unit), leaky RELU and tanh (hyperbolic tangent). In deep learning models, activation functions are used to introduce non-linearity into the neural network, allowing the model to learn more complex representations of the input data."
   ]
  }
 ],
 "metadata": {
  "accelerator": "GPU",
  "colab": {
   "collapsed_sections": [
    "HzT-fZzFRKly"
   ],
   "provenance": [],
   "toc_visible": true
  },
  "gpuClass": "standard",
  "kernelspec": {
   "display_name": "Python 3 (ipykernel)",
   "language": "python",
   "name": "python3"
  },
  "language_info": {
   "codemirror_mode": {
    "name": "ipython",
    "version": 3
   },
   "file_extension": ".py",
   "mimetype": "text/x-python",
   "name": "python",
   "nbconvert_exporter": "python",
   "pygments_lexer": "ipython3",
   "version": "3.10.9"
  }
 },
 "nbformat": 4,
 "nbformat_minor": 1
}
